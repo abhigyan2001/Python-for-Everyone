{
 "cells": [
  {
   "cell_type": "markdown",
   "metadata": {},
   "source": [
    "# Different Python Pathways"
   ]
  },
  {
   "cell_type": "markdown",
   "metadata": {},
   "source": [
    "## 1. Deep Learning/Machine Learning/AI/Statistics Pathway\n",
    "\n",
    "1. `numpy`\n",
    "2. `matplotlib.pyplot`\n",
    "3. `pandas`\n",
    "4. `scikit-learn` -> `sklearn`\n",
    "5. `scipy`\n",
    "\n",
    "(modules)\n",
    "\n",
    "## 2. Web Development\n",
    "\n",
    "1. `django` -> framework\n",
    "2. `flask`  -> framework\n",
    "3. `bottle` -> framework\n",
    "\n",
    "Web Applications\n",
    "\n",
    "## 3. Game Development\n",
    "\n",
    "1. `pygame` -> module\n",
    "2. `OpenGL` `CUDA` -> frameworks\n",
    "\n",
    "## 4. System Administration\n",
    "\n",
    "1. `pandas`\n",
    "2. sql connectors"
   ]
  },
  {
   "cell_type": "code",
   "execution_count": 1,
   "metadata": {},
   "outputs": [
    {
     "name": "stdout",
     "output_type": "stream",
     "text": [
      "<module 'numpy' from '/home/abhigyan/anaconda3/lib/python3.7/site-packages/numpy/__init__.py'>\n"
     ]
    }
   ],
   "source": [
    "import numpy as np\n",
    "\n",
    "print(np)"
   ]
  },
  {
   "cell_type": "markdown",
   "metadata": {},
   "source": [
    "# [Kaggle](https://www.kaggle.com)"
   ]
  },
  {
   "cell_type": "code",
   "execution_count": null,
   "metadata": {},
   "outputs": [],
   "source": []
  }
 ],
 "metadata": {
  "kernelspec": {
   "display_name": "Python 3",
   "language": "python",
   "name": "python3"
  },
  "language_info": {
   "codemirror_mode": {
    "name": "ipython",
    "version": 3
   },
   "file_extension": ".py",
   "mimetype": "text/x-python",
   "name": "python",
   "nbconvert_exporter": "python",
   "pygments_lexer": "ipython3",
   "version": "3.7.6"
  }
 },
 "nbformat": 4,
 "nbformat_minor": 4
}
