{
 "cells": [
  {
   "cell_type": "code",
   "execution_count": 2,
   "metadata": {},
   "outputs": [],
   "source": [
    "import numpy as np\n",
    "import matplotlib.pyplot as plt\n",
    "from scipy.signal import convolve2d"
   ]
  },
  {
   "cell_type": "code",
   "execution_count": 3,
   "metadata": {},
   "outputs": [],
   "source": [
    "size_x = 100\n",
    "size_y = 100\n",
    "# Rules for cell survival:\n",
    "num_survive_min = 2\n",
    "num_survive_max = 3\n",
    "\n",
    "# Minimum number of cells for new cell to be born:\n",
    "num_born = 3"
   ]
  },
  {
   "cell_type": "code",
   "execution_count": 4,
   "metadata": {},
   "outputs": [],
   "source": [
    "# generating a random set of values lying between 0 and 1\n",
    "playground = np.random.randint(0,2,[size_x,size_y])\n",
    "\n",
    "# setting the outer boundary to 0s\n",
    "playground[:,0]=0\n",
    "playground[:,size_x-1]=0\n",
    "playground[0,:]=0\n",
    "playground[size_y-1,:]=0"
   ]
  },
  {
   "cell_type": "code",
   "execution_count": 5,
   "metadata": {},
   "outputs": [
    {
     "name": "stdout",
     "output_type": "stream",
     "text": [
      "[[0 0 0 ... 0 0 0]\n",
      " [0 1 1 ... 0 0 0]\n",
      " [0 0 1 ... 0 1 0]\n",
      " ...\n",
      " [0 0 1 ... 0 0 0]\n",
      " [0 1 0 ... 1 1 0]\n",
      " [0 0 0 ... 0 0 0]]\n"
     ]
    }
   ],
   "source": [
    "print(playground)"
   ]
  },
  {
   "cell_type": "markdown",
   "metadata": {},
   "source": [
    "Now, let us see how this matrix looks, using matplotlib:"
   ]
  },
  {
   "cell_type": "code",
   "execution_count": 6,
   "metadata": {},
   "outputs": [
    {
     "data": {
      "image/png": "[encoded data removed]",
      "text/plain": [
       "<Figure size 432x288 with 1 Axes>"
      ]
     },
     "metadata": {
      "needs_background": "light"
     },
     "output_type": "display_data"
    }
   ],
   "source": [
    "plt.imshow(playground)\n",
    "plt.show()"
   ]
  },
  {
   "cell_type": "markdown",
   "metadata": {},
   "source": [
    "As we may want it to be in a different color scale, lets actually do that using the `set_cmap()` function of NumPy."
   ]
  },
  {
   "cell_type": "code",
   "execution_count": 7,
   "metadata": {},
   "outputs": [
    {
     "data": {
      "text/plain": [
       "<Figure size 432x288 with 0 Axes>"
      ]
     },
     "metadata": {},
     "output_type": "display_data"
    }
   ],
   "source": [
    "plt.set_cmap(\"Greys\")"
   ]
  },
  {
   "cell_type": "code",
   "execution_count": 8,
   "metadata": {},
   "outputs": [
    {
     "data": {
      "image/png": "[encoded data removed]",
      "text/plain": [
       "<Figure size 432x288 with 1 Axes>"
      ]
     },
     "metadata": {
      "needs_background": "light"
     },
     "output_type": "display_data"
    }
   ],
   "source": [
    "#plt.figure(figsize=(20,20))\n",
    "plt.imshow(playground)\n",
    "plt.axis(\"off\")\n",
    "plt.show()"
   ]
  },
  {
   "cell_type": "markdown",
   "metadata": {},
   "source": [
    "Beautiful Barcode, huh?"
   ]
  },
  {
   "cell_type": "code",
   "execution_count": 9,
   "metadata": {},
   "outputs": [],
   "source": [
    "def calc_neighbours(grid):\n",
    "    weight = np.array([[1,1,1],[1,0,1],[1,1,1]])\n",
    "    return convolve2d(grid, weight, 'same')\n",
    "\n",
    "def update_grid(grid):\n",
    "    # copying the actual grid to temp grid so that as we cycle through every point we can make the changes to the temp grid\n",
    "    # and still retain the grid for the previous time step in grid. After the locations of the next time step is formed,\n",
    "    # it is updated to grid. Directly equating two matrices lead to sharing the same object and hence to avoid this we use np.copy()\n",
    "    \n",
    "    size_x = len(grid)\n",
    "    size_y = len(grid[0])\n",
    "    temp_grid = np.copy(grid)\n",
    "    # calculate the neighbour matrix - number of alive neighbours around every cell.\n",
    "    neighbours = calc_neighbours(grid)\n",
    "\n",
    "    # going through the the entire grid matrix and checking for alive and dead cells and also checking the neighbour matrix.\n",
    "    # Based on these, the new grid is updated.\n",
    "    for i in range(size_x):\n",
    "        for j in range(size_y):\n",
    "            # if the cell is alive in the previous time step\n",
    "            if grid[i][j] == 1:\n",
    "                # if the number of alive neighbours around it is 2 or 3 then it survives\n",
    "                if neighbours[i][j] == 2 or neighbours[i][j] == 3:\n",
    "                    temp_grid[i][j] = 1\n",
    "                # if not then dead either because of over or under population.\n",
    "                else:\n",
    "                    temp_grid[i][j] = 0\n",
    "            # if a cell was dead.\n",
    "            if grid[i][j] == 0:\n",
    "                # if the number of alive neighbours around it is 3 then make it alive in the next time step.\n",
    "                if neighbours[i][j] == 3:\n",
    "                    temp_grid[i][j] = 1\n",
    "\n",
    "    # update grid with the next timestep\n",
    "    return temp_grid"
   ]
  },
  {
   "cell_type": "code",
   "execution_count": 10,
   "metadata": {},
   "outputs": [
    {
     "data": {
      "image/png": "[encoded data removed]",
      "text/plain": [
       "<Figure size 432x288 with 1 Axes>"
      ]
     },
     "metadata": {
      "needs_background": "light"
     },
     "output_type": "display_data"
    }
   ],
   "source": [
    "playground2 = update_grid(playground)\n",
    "plt.axis(\"off\")\n",
    "plt.imshow(playground2)\n",
    "plt.show()"
   ]
  },
  {
   "cell_type": "code",
   "execution_count": 11,
   "metadata": {},
   "outputs": [
    {
     "data": {
      "image/png": "[encoded data removed]",
      "text/plain": [
       "<Figure size 432x288 with 1 Axes>"
      ]
     },
     "metadata": {
      "needs_background": "light"
     },
     "output_type": "display_data"
    }
   ],
   "source": [
    "playground3 = update_grid(playground2)\n",
    "plt.axis(\"off\")\n",
    "plt.imshow(playground3)\n",
    "plt.show()"
   ]
  },
  {
   "cell_type": "code",
   "execution_count": 48,
   "metadata": {},
   "outputs": [
    {
     "data": {
      "image/png": "[encoded data removed]",
      "text/plain": [
       "<Figure size 432x288 with 1 Axes>"
      ]
     },
     "metadata": {
      "needs_background": "light"
     },
     "output_type": "display_data"
    }
   ],
   "source": [
    "# generating a random set of values lying between 0 and 1\n",
    "playground = np.random.randint(0,2,[size_x,size_y])\n",
    "\n",
    "# setting the outer boundary to 0s\n",
    "playground[:,0]=0\n",
    "playground[:,size_x-1]=0\n",
    "playground[0,:]=0\n",
    "playground[size_y-1,:]=0\n",
    "\n",
    "playgrounds = [playground] # holds matrices/unrendered images\n",
    "ims = [] # holds rendered images\n",
    "fig = plt.figure()\n",
    "for i in range(2000):\n",
    "    playgrounds.append(update_grid(playgrounds[i]))\n",
    "    #plt.figure(figsize=[20,20])\n",
    "    plt.axis(\"off\")\n",
    "    #im = plt.imshow(playgrounds[i], animated=True)\n",
    "    #plt.savefig(\"playgrounds/img\"+str(i)+\".png\")\n",
    "    #plt.show()\n",
    "    im = plt.imshow(playgrounds[i], animated=True)\n",
    "    ims.append([im])\n",
    "ani = animation.ArtistAnimation(fig, ims, interval=100, blit=True)\n",
    "\n",
    "# 10 => 0.01 s\n",
    "ani.save(\"Conway's Game.mp4\")"
   ]
  }
 ],
 "metadata": {
  "kernelspec": {
   "display_name": "Python 3",
   "language": "python",
   "name": "python3"
  },
  "language_info": {
   "codemirror_mode": {
    "name": "ipython",
    "version": 3
   },
   "file_extension": ".py",
   "mimetype": "text/x-python",
   "name": "python",
   "nbconvert_exporter": "python",
   "pygments_lexer": "ipython3",
   "version": "3.7.6"
  }
 },
 "nbformat": 4,
 "nbformat_minor": 4
}
