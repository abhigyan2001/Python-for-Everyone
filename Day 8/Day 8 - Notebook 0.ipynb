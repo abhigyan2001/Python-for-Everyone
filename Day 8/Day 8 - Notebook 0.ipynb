{
 "cells": [
  {
   "cell_type": "markdown",
   "metadata": {},
   "source": [
    "# Day 8 - Introduction to Matrices and Linear Algebra using NumPy"
   ]
  },
  {
   "attachments": {},
   "cell_type": "markdown",
   "metadata": {},
   "source": [
    "What is a matrix?\n",
    "\n",
    "Matrices (plural of matrix) are **rectangular arrangements of numbers**.\n",
    "\n",
    "### Some examples:\n",
    "\n",
    "1. $\\begin{bmatrix}1 & 2 & 3 \\\\4 & 5 & 3\\end{bmatrix}$\n",
    "2. $\\begin{bmatrix}100 & -99 \\\\78 & -918 \\\\2 & 9000 \\\\10 & 4\\end{bmatrix}$\n",
    "\n",
    "3. $\\begin{bmatrix}2 & 3 & 100 & -100 & 80 & 6\\end{bmatrix}$\n",
    "\n",
    "4. $\\begin{bmatrix}12\\\\3\\\\4\\\\67\\\\1\\end{bmatrix}$\n",
    "\n",
    "\n",
    "### Not a matrix:\n",
    "$$\\begin{bmatrix}\n",
    "100 & -99 & 80\\\\\n",
    "78 & -918 \\\\\n",
    "2 & 9000 & 100 & 200\\\\\n",
    "10 & 4 \\\\\n",
    " & 10\n",
    "\\end{bmatrix}\n",
    "$$\n",
    "\n",
    "(It is not a matrix because it does not have the same number of elements in each row/collumn)"
   ]
  },
  {
   "cell_type": "markdown",
   "metadata": {},
   "source": [
    "Age  Ht.\n",
    "________\n",
    "18   5.5\n",
    "15   6.5\n",
    "13   5.2\n",
    "26   5.7\n",
    "80   5.0\n",
    "65   4.0\n",
    "45   8.0\n",
    "\n",
    "Age  18  15  13\n",
    "ht. 5.5 6.5 5.2"
   ]
  },
  {
   "cell_type": "markdown",
   "metadata": {},
   "source": [
    "NumPy => Numerical Python (Support for Linear Algebra and Matrices)"
   ]
  },
  {
   "cell_type": "code",
   "execution_count": 7,
   "metadata": {},
   "outputs": [],
   "source": [
    "import numpy as np"
   ]
  },
  {
   "cell_type": "code",
   "execution_count": 3,
   "metadata": {},
   "outputs": [
    {
     "name": "stdout",
     "output_type": "stream",
     "text": [
      "[[3 4 5]\n",
      " [1 2 3]]\n",
      "<class 'numpy.ndarray'>\n",
      "[[3, 4, 5], [1, 2, 3]]\n",
      "<class 'list'>\n"
     ]
    }
   ],
   "source": [
    "A = np.array([[3,4,5],[1,2,3]])\n",
    "\n",
    "\n",
    "a = [[3,4,5],[1,2,3]]\n",
    "print(A)\n",
    "print(type(A))\n",
    "\n",
    "print(a)\n",
    "print(type(a))"
   ]
  },
  {
   "cell_type": "markdown",
   "metadata": {},
   "source": [
    "## Rows and Columns:\n",
    "\n",
    "Basically, each horizontal set of numbers is called a row, and each vertical set of numbers is called a column.\n",
    "\n",
    "If a matrix has only one row, it is called a **row matrix**, and if it has only one column, then it is called a **column matrix**.\n",
    "\n",
    "Example **3** above is a **row matrix**, while example **4** is a **column matrix**.\n",
    "\n",
    "## Order of a Matrix:\n",
    "\n",
    "The order of a matrix is basically a measure of the rows and the columns of it. If a matrix has 3 rows and 4 columns, then it is said to be a $3\\times4$ matrix (and it is read as **3 by 4** matrix)\n",
    "\n",
    "In general, if a matrix has $n$ rows and $m$ columns, its order is $n\\times m$\n",
    "\n",
    "If the number of rows and columns are both equal to $n$, then the matrix is said to be a **square matrix** of order $n$."
   ]
  },
  {
   "cell_type": "code",
   "execution_count": 10,
   "metadata": {},
   "outputs": [
    {
     "name": "stdout",
     "output_type": "stream",
     "text": [
      "(2, 3)\n",
      "<module 'numpy' from '/home/abhigyan/anaconda3/lib/python3.7/site-packages/numpy/__init__.py'>\n",
      "<class 'module'>\n",
      "(2, 3)\n",
      "2\n"
     ]
    }
   ],
   "source": [
    "print(np.shape(A))\n",
    "\n",
    "print(np)\n",
    "print(type(np))\n",
    "\n",
    "print(np.shape(A))\n",
    "\n",
    "print(np.ndim(A))"
   ]
  },
  {
   "cell_type": "code",
   "execution_count": 13,
   "metadata": {},
   "outputs": [
    {
     "name": "stdout",
     "output_type": "stream",
     "text": [
      "3\n",
      "(2, 3, 4)\n"
     ]
    }
   ],
   "source": [
    "p = np.array([[[12,12,10,10],[11,10,1,90],[90,10,3,70]],[[-90,-80,-70,80],[918,126,458,80],[80,70,60,80]]])\n",
    "print(np.ndim(p))\n",
    "print(np.shape(p))"
   ]
  },
  {
   "cell_type": "markdown",
   "metadata": {},
   "source": [
    "12 12 10 10           12 12 10 11\n",
    "11 10  1 90           11 10  1 90\n",
    "90 10  3 70           \n",
    "\n",
    "-90 -80 -70 80\n",
    "918 126 458 80\n",
    " 80  70  60 80"
   ]
  },
  {
   "attachments": {},
   "cell_type": "markdown",
   "metadata": {},
   "source": [
    "## Sum and Difference of Matrices:\n",
    "\n",
    "If 2 matrices are of the same order, then we can add (or subtract) them element wise.\n",
    "\n",
    "### Addition:\n",
    "\n",
    "$\\begin{bmatrix}\n",
    "  a & b\\\\\n",
    "  c & d\n",
    "\\end{bmatrix} + \\begin{bmatrix}\n",
    "  e & f\\\\\n",
    "  g & h \n",
    "\\end{bmatrix} = \\begin{bmatrix}\n",
    "  a+e & b+f\\\\\n",
    "  c+g & d+h\n",
    "\\end{bmatrix}$\n",
    "\n",
    "### Subtraction: (Same as addition, but with a negative sign)\n",
    "\n",
    "$\\begin{bmatrix}\n",
    "  a & b\\\\\n",
    "  c & d\n",
    "\\end{bmatrix} - \\begin{bmatrix}\n",
    "  e & f\\\\\n",
    "  g & h\n",
    "\\end{bmatrix} = \\begin{bmatrix}\n",
    "  a-e & b-f\\\\\n",
    "  c-g & d-h\n",
    "\\end{bmatrix}$\n",
    "\n",
    "\n",
    "### Example:\n",
    "\n",
    "1. Addition:\n",
    "\n",
    "$\\begin{bmatrix}\n",
    "  3 & 4 & 7 & 8\\\\\n",
    "  0 & 0 & 0 & 0\n",
    "\\end{bmatrix} + \\begin{bmatrix}\n",
    "  12 & 13 & -14 & 15\\\\\n",
    "  9 & 9 & 8 & 7\n",
    "\\end{bmatrix} = \\begin{bmatrix}\n",
    "  15 & 17 & -7 & 23\\\\\n",
    "  9 & 9 & 8 & 7\n",
    "\\end{bmatrix}$\n",
    "\n",
    "2. Subtraction:\n",
    "\n",
    "$\\begin{bmatrix}\n",
    "  3  & 8\\\\\n",
    "  0  & 0\\\\\n",
    "  1  & 4\n",
    "\\end{bmatrix} - \\begin{bmatrix}\n",
    "  12 & 15\\\\\n",
    "  9 & 7\\\\\n",
    "  12 & -8\n",
    "\\end{bmatrix} = \\begin{bmatrix}\n",
    "  -9 & -7\\\\\n",
    "  -9 & -7\\\\\n",
    "  -11 & 12\n",
    "\\end{bmatrix}$"
   ]
  },
  {
   "cell_type": "code",
   "execution_count": 25,
   "metadata": {},
   "outputs": [
    {
     "name": "stdout",
     "output_type": "stream",
     "text": [
      "[[15 17 -7 23]\n",
      " [ 9  9  8  7]]\n",
      "[[15 17 -7 23]\n",
      " [ 9  9  8  7]]\n"
     ]
    }
   ],
   "source": [
    "q = np.array([[3,4,7,8],[0,0,0,0]])\n",
    "r = np.array([[12,13,-14,15],[9,9,8,7]])\n",
    "\n",
    "#print(np.shape(r))\n",
    "#print(q)\n",
    "#print(r)\n",
    "\n",
    "print(q+r)\n",
    "print(np.add(q,r))\n",
    "\n",
    "a = np.array([[3,8],[0,0],[1,4]])\n",
    "b = np.array([[12,15],[9,7],[12,-8]])\n",
    "\n",
    "#print(a-b)"
   ]
  },
  {
   "cell_type": "markdown",
   "metadata": {},
   "source": [
    "## Multiplication by a single number (aka a *scalar*)\n",
    "\n",
    "We can multiply every element of a matrix with a single number (known as a scalar). This number may be positive, negative, or even be a variable, but it should not be a matrix. There are different rules for multiplying matrices.\n",
    "\n",
    "Example:\n",
    "\n",
    "$12 \\times \\begin{bmatrix}\n",
    "  3 & 4 & 7 & 8\\\\\n",
    "  0 & 0 & 0 & 0\n",
    "\\end{bmatrix} = \\begin{bmatrix}\n",
    "  36 & 48 & 84 & 96\\\\\n",
    "  0 & 0 & 0 & 0\n",
    "\\end{bmatrix}$\n",
    "\n",
    "Now, how do we do this multiplication? Let's see:"
   ]
  },
  {
   "cell_type": "code",
   "execution_count": 28,
   "metadata": {},
   "outputs": [
    {
     "name": "stdout",
     "output_type": "stream",
     "text": [
      "[[0.03 0.04 0.07 0.08]\n",
      " [0.   0.   0.   0.  ]]\n"
     ]
    }
   ],
   "source": [
    "print(q/100)"
   ]
  },
  {
   "cell_type": "markdown",
   "metadata": {},
   "source": [
    "## Multiplying a matrix with another matrix:\n",
    "\n",
    "All matrices can't be multiplied with each other... The product AxB and BxA are also not the same thing in Matrices. There are various rules to be followed here:\n",
    "\n",
    "For 2 matrices to be compatible for multiplication, the number of columns of the first matrix need to be equal to the number of rows of the second matrix.\n",
    "\n",
    "I.e.: If we have 2 matrices $A$ and $B$ of order $a\\times b$ and $c\\times d$ respectively, then for the multiplication $A\\times B$ to be possible, $b = c$. \n",
    "\n",
    "And, if we want the reverse multiplication to be possible, $B \\times A$, then $a = d$.\n",
    "\n",
    "Now, let us go through a few examples:\n",
    "\n",
    "1. This matrix multiplication is not feasible, because the first matrix has 4 columns but the second matrix has 2 rows...\n",
    "$\\begin{bmatrix}\n",
    "  3 & 4 & 7 & 8\\\\\n",
    "  0 & 0 & 0 & 0\n",
    "\\end{bmatrix} \\times \\begin{bmatrix}\n",
    "  12 & 13 & -14 & 15\\\\\n",
    "  9 & 9 & 8 & 7\n",
    "\\end{bmatrix}$\n",
    "\n",
    "2. This matrix multiplication is also not possible because the number of columns of the first (4) is not equal to the number of rows of the second (6)\n",
    "\n",
    "$\\begin{bmatrix}\n",
    "  3 & 4 & 7 & 8\\\\\n",
    "  0 & 0 & 0 & 0\n",
    "\\end{bmatrix} \\times \\begin{bmatrix}\n",
    "  12 & 13 \\\\\n",
    "  9 & 9 \\\\\n",
    "  1 & 1 \\\\\n",
    "  2 & -2 \\\\\n",
    "  78 & -7 \\\\\n",
    "  1 & 2\n",
    "\\end{bmatrix}$\n",
    "\n",
    "3. This matrix multiplication is actually possible:\n",
    "\n",
    "$\\begin{bmatrix}\n",
    "  3 & 4 & 7 & 8\\\\\n",
    "  0 & 0 & 0 & 0\n",
    "\\end{bmatrix} \\times \\begin{bmatrix}\n",
    "  12 & 13 \\\\\n",
    "  9 & 9 \\\\\n",
    "  1 & 1 \\\\\n",
    "  2 & -2 \\\\\n",
    "\\end{bmatrix} = \\begin{bmatrix}\n",
    "  95 & 98\\\\\n",
    "  0 & 0\n",
    "\\end{bmatrix}$\n",
    "\n",
    "\n",
    "## Tensors: Basically, multi-dimensional Matrices\n",
    "\n",
    "Sometimes, we need more than just the 2-dimensional arrangement of numbers which matrices provide. \n",
    "\n",
    "For example, coloured images (RGB) which you can see are saved as 3 matrices piled one on top of the other, thus making it 3-dimensional. (See the image)\n",
    "\n",
    "In some cases, the number of dimensions exceeds 3, and then most humans aren't able to imagine them (trust me, we won't be going there, so this much will be enough).\n",
    "\n",
    "I'm introducing these Tensors to you because NumPy does all its stuff in terms of multi-dimensional matrices (not limited to mere 2 or 3 dimensions), which becomes very useful when you use certain datasets. We will also use some such datasets in the days to come, but for now, we will stick to 2D (and at most 3D matrices).\n",
    "\n",
    "Example: ![image.png](attachment:image.png)"
   ]
  },
  {
   "cell_type": "code",
   "execution_count": 29,
   "metadata": {},
   "outputs": [
    {
     "name": "stdout",
     "output_type": "stream",
     "text": [
      "26\n"
     ]
    }
   ],
   "source": [
    "print(3+8+15)"
   ]
  },
  {
   "cell_type": "code",
   "execution_count": 30,
   "metadata": {},
   "outputs": [
    {
     "ename": "ValueError",
     "evalue": "matmul: Input operand 1 has a mismatch in its core dimension 0, with gufunc signature (n?,k),(k,m?)->(n?,m?) (size 2 is different from 4)",
     "output_type": "error",
     "traceback": [
      "\u001b[0;31m---------------------------------------------------------------------------\u001b[0m",
      "\u001b[0;31mValueError\u001b[0m                                Traceback (most recent call last)",
      "\u001b[0;32m<ipython-input-30-b4453eb89afd>\u001b[0m in \u001b[0;36m<module>\u001b[0;34m\u001b[0m\n\u001b[0;32m----> 1\u001b[0;31m \u001b[0mprint\u001b[0m\u001b[0;34m(\u001b[0m\u001b[0mp\u001b[0m\u001b[0;34m@\u001b[0m\u001b[0mq\u001b[0m\u001b[0;34m)\u001b[0m\u001b[0;34m\u001b[0m\u001b[0;34m\u001b[0m\u001b[0m\n\u001b[0m",
      "\u001b[0;31mValueError\u001b[0m: matmul: Input operand 1 has a mismatch in its core dimension 0, with gufunc signature (n?,k),(k,m?)->(n?,m?) (size 2 is different from 4)"
     ]
    }
   ],
   "source": [
    "print(p@q)"
   ]
  },
  {
   "cell_type": "code",
   "execution_count": null,
   "metadata": {},
   "outputs": [],
   "source": []
  }
 ],
 "metadata": {
  "kernelspec": {
   "display_name": "Python 3",
   "language": "python",
   "name": "python3"
  },
  "language_info": {
   "codemirror_mode": {
    "name": "ipython",
    "version": 3
   },
   "file_extension": ".py",
   "mimetype": "text/x-python",
   "name": "python",
   "nbconvert_exporter": "python",
   "pygments_lexer": "ipython3",
   "version": "3.7.6"
  }
 },
 "nbformat": 4,
 "nbformat_minor": 4
}
