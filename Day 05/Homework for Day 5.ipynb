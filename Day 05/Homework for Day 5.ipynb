{
 "cells": [
  {
   "cell_type": "markdown",
   "metadata": {},
   "source": [
    "# Question 1: Prime Numbers\n",
    "\n",
    "Check if a given number `n` is prime. (It will be given as the parameter of a function)\n",
    "\n",
    "A number is said to be prime if its only factors are 1 and the number itself. Note that 1 is not prime either.\n",
    "\n",
    "<details>\n",
    "  <summary>Hint</summary>\n",
    "    Try going through all the numbers below n in a for-loop starting from 2, and then check if n gives zero remainder when divided by the loop variable.\n",
    "</details>"
   ]
  },
  {
   "cell_type": "code",
   "execution_count": 1,
   "metadata": {},
   "outputs": [
    {
     "name": "stdout",
     "output_type": "stream",
     "text": [
      "True\n",
      "Hello, World!\n",
      "None\n"
     ]
    }
   ],
   "source": [
    "def isPrime(n):\n",
    "    \n",
    "    # put your code below this line:\n",
    "    for i in range(2, int(n**0.5)):\n",
    "        #print(i)\n",
    "        if n % i == 0: # n = 4, i = 2, 4 % 2\n",
    "            #print(\"n is not a prime number\")\n",
    "            #print(False)\n",
    "            return False\n",
    "        #else:\n",
    "            #print(\"looks like it may be prime\")\n",
    "    #print(True)\n",
    "    return True\n",
    "\n",
    "\n",
    "g = isPrime(4)\n",
    "print(g)\n",
    "\n",
    "\n",
    "x = print(\"Hello, World!\")\n",
    "\n",
    "print(x)\n",
    "\n",
    "\n",
    "\n",
    "#print(isPrime(4))\n",
    "#print(isPrime(13))\n",
    "#print(isPrime(35))"
   ]
  },
  {
   "cell_type": "code",
   "execution_count": 5,
   "metadata": {},
   "outputs": [
    {
     "name": "stdout",
     "output_type": "stream",
     "text": [
      "9.539392014169456\n"
     ]
    }
   ],
   "source": [
    "print(91**0.5)"
   ]
  },
  {
   "cell_type": "code",
   "execution_count": null,
   "metadata": {},
   "outputs": [],
   "source": [
    "# Eratosthenes Sieve\n",
    "def isPrime(n):\n",
    "    "
   ]
  },
  {
   "cell_type": "markdown",
   "metadata": {},
   "source": [
    "# Tests"
   ]
  },
  {
   "cell_type": "code",
   "execution_count": 3,
   "metadata": {},
   "outputs": [
    {
     "name": "stdout",
     "output_type": "stream",
     "text": [
      "Enter a number to be checked for primality15485863\n",
      "True\n",
      "True\n",
      "True\n",
      "True\n",
      "False\n",
      "True\n",
      "True\n"
     ]
    },
    {
     "ename": "KeyboardInterrupt",
     "evalue": "",
     "output_type": "error",
     "traceback": [
      "\u001b[0;31m---------------------------------------------------------------------------\u001b[0m",
      "\u001b[0;31mKeyboardInterrupt\u001b[0m                         Traceback (most recent call last)",
      "\u001b[0;32m<ipython-input-3-cae05dda2dc9>\u001b[0m in \u001b[0;36m<module>\u001b[0;34m\u001b[0m\n\u001b[1;32m      7\u001b[0m \u001b[0mprint\u001b[0m\u001b[0;34m(\u001b[0m\u001b[0misPrime\u001b[0m\u001b[0;34m(\u001b[0m\u001b[0;36m15485863\u001b[0m\u001b[0;34m)\u001b[0m\u001b[0;34m)\u001b[0m\u001b[0;34m\u001b[0m\u001b[0;34m\u001b[0m\u001b[0m\n\u001b[1;32m      8\u001b[0m \u001b[0mprint\u001b[0m\u001b[0;34m(\u001b[0m\u001b[0misPrime\u001b[0m\u001b[0;34m(\u001b[0m\u001b[0;36m67280421310721\u001b[0m\u001b[0;34m)\u001b[0m\u001b[0;34m)\u001b[0m\u001b[0;34m\u001b[0m\u001b[0;34m\u001b[0m\u001b[0m\n\u001b[0;32m----> 9\u001b[0;31m \u001b[0mprint\u001b[0m\u001b[0;34m(\u001b[0m\u001b[0misPrime\u001b[0m\u001b[0;34m(\u001b[0m\u001b[0;36m20988936657440586486151264256610222593863921\u001b[0m\u001b[0;34m)\u001b[0m\u001b[0;34m)\u001b[0m\u001b[0;34m\u001b[0m\u001b[0;34m\u001b[0m\u001b[0m\n\u001b[0m",
      "\u001b[0;32m<ipython-input-1-ac5b1fa8b987>\u001b[0m in \u001b[0;36misPrime\u001b[0;34m(n)\u001b[0m\n\u001b[1;32m      4\u001b[0m     \u001b[0;32mfor\u001b[0m \u001b[0mi\u001b[0m \u001b[0;32min\u001b[0m \u001b[0mrange\u001b[0m\u001b[0;34m(\u001b[0m\u001b[0;36m2\u001b[0m\u001b[0;34m,\u001b[0m \u001b[0mint\u001b[0m\u001b[0;34m(\u001b[0m\u001b[0mn\u001b[0m\u001b[0;34m**\u001b[0m\u001b[0;36m0.5\u001b[0m\u001b[0;34m)\u001b[0m\u001b[0;34m)\u001b[0m\u001b[0;34m:\u001b[0m\u001b[0;34m\u001b[0m\u001b[0;34m\u001b[0m\u001b[0m\n\u001b[1;32m      5\u001b[0m         \u001b[0;31m#print(i)\u001b[0m\u001b[0;34m\u001b[0m\u001b[0;34m\u001b[0m\u001b[0;34m\u001b[0m\u001b[0m\n\u001b[0;32m----> 6\u001b[0;31m         \u001b[0;32mif\u001b[0m \u001b[0mn\u001b[0m \u001b[0;34m%\u001b[0m \u001b[0mi\u001b[0m \u001b[0;34m==\u001b[0m \u001b[0;36m0\u001b[0m\u001b[0;34m:\u001b[0m \u001b[0;31m# n = 4, i = 2, 4 % 2\u001b[0m\u001b[0;34m\u001b[0m\u001b[0;34m\u001b[0m\u001b[0m\n\u001b[0m\u001b[1;32m      7\u001b[0m             \u001b[0;31m#print(\"n is not a prime number\")\u001b[0m\u001b[0;34m\u001b[0m\u001b[0;34m\u001b[0m\u001b[0;34m\u001b[0m\u001b[0m\n\u001b[1;32m      8\u001b[0m             \u001b[0;31m#print(False)\u001b[0m\u001b[0;34m\u001b[0m\u001b[0;34m\u001b[0m\u001b[0;34m\u001b[0m\u001b[0m\n",
      "\u001b[0;31mKeyboardInterrupt\u001b[0m: "
     ]
    }
   ],
   "source": [
    "c = int(input(\"Enter a number to be checked for primality: \"))\n",
    "print(isPrime(c))\n",
    "print(isPrime(13))\n",
    "print(isPrime(59221))\n",
    "print(isPrime(214469))\n",
    "print(isPrime(20988936657440586486151264256610222593863922))\n",
    "print(isPrime(15485863))\n",
    "print(isPrime(67280421310721))\n",
    "print(isPrime(20988936657440586486151264256610222593863921))"
   ]
  },
  {
   "cell_type": "markdown",
   "metadata": {},
   "source": [
    "# Question 2: Palindrome Numbers\n",
    "\n",
    "Check if a given number `n` is a palindrome. (It will be given as the parameter of a function)\n",
    "\n",
    "A number is said to be a palindrome if it is the same when reversed.\n",
    "\n",
    "## Examples:\n",
    "\n",
    "`isPalindrome(1221)` should return `True`\n",
    "\n",
    "`isPalindrome(91919)` should return `True`\n",
    "\n",
    "`isPalindrome(345)` should return `False`\n",
    "\n",
    "`isPalindrome(\"malayalam\")` should return `False` as `\"malayalam\"` is not a number even though it is a palindrome word.\n"
   ]
  },
  {
   "cell_type": "code",
   "execution_count": 11,
   "metadata": {},
   "outputs": [],
   "source": [
    "def isPalindrome(n):\n",
    "    # put your code below this line:\n",
    "    #if not isinstance(n, int):\n",
    "    #    return False\n",
    "    if (str(n))[::-1] == str(n):\n",
    "        return True\n",
    "    else:\n",
    "        return False"
   ]
  },
  {
   "cell_type": "code",
   "execution_count": null,
   "metadata": {},
   "outputs": [],
   "source": [
    "def isPalindrome(n):\n",
    "    rev = 0\n",
    "    temp = n\n",
    "    \n",
    "    while temp != 0:\n",
    "        rev = rev * 10 + temp % 10\n",
    "        temp = temp // 10\n",
    "    \n",
    "    if rev == n:\n",
    "        return True\n",
    "    else:\n",
    "        return False"
   ]
  },
  {
   "cell_type": "markdown",
   "metadata": {},
   "source": [
    "10201\n",
    "\n",
    "10201 % 10 = 1\n",
    "10201//10 = 1020\n",
    "\n",
    "\n",
    "1020 % 10 = 0\n",
    "rev=10 * 1 + 0 = 10\n",
    "1020 // 10 = 102\n",
    "\n",
    "102 % 10 = 2\n",
    "rev = 10 * 10 + 2 = 102\n",
    "\n",
    "\n",
    "34567\n",
    "\n",
    "34567 % 10 = 7\n",
    "34567 // 10 = 3456\n",
    "\n",
    "3456 % 10 = 6\n",
    "rev = 70 + 6 = 76\n",
    "\n",
    "345 % 10 = 5\n",
    "765\n",
    "34\n",
    "7654\n",
    "3\n",
    "\n",
    "76543\n"
   ]
  },
  {
   "cell_type": "markdown",
   "metadata": {},
   "source": [
    "# Tests:"
   ]
  },
  {
   "cell_type": "code",
   "execution_count": 12,
   "metadata": {},
   "outputs": [
    {
     "name": "stdout",
     "output_type": "stream",
     "text": [
      "True\n",
      "True\n",
      "False\n",
      "True\n",
      "True\n"
     ]
    }
   ],
   "source": [
    "print(isPalindrome(1221))\n",
    "print(isPalindrome(91919))\n",
    "print(isPalindrome(345))\n",
    "print(isPalindrome(\"malayalam\"))\n",
    "print(isPalindrome(12.21))"
   ]
  },
  {
   "cell_type": "markdown",
   "metadata": {},
   "source": [
    "# Bonus Question 1: List Comprehensions\n",
    "\n",
    "Figure out the result of the following code and then read up a bit on [List Comprehensions](https://www.digitalocean.com/community/tutorials/understanding-list-comprehensions-in-python-3) if you feel intrigued...\n",
    "\n",
    "More links:\n",
    "\n",
    "https://www.python-course.eu/python3_list_comprehension.php\n",
    "\n",
    "https://www.programiz.com/python-programming/list-comprehension"
   ]
  },
  {
   "cell_type": "code",
   "execution_count": 22,
   "metadata": {},
   "outputs": [
    {
     "name": "stdout",
     "output_type": "stream",
     "text": [
      "[1, 9, 25, 49, 81, 121, 169, 225, 289, 361]\n",
      "[0, 27, 216, 729, 1728, 3375, 5832, 9261, 13824, 19683, 27000, 35937, 46656, 59319, 74088, 91125, 110592, 132651, 157464, 185193, 216000, 250047, 287496, 328509, 373248, 421875, 474552, 531441, 592704, 658503, 729000, 804357, 884736, 970299]\n",
      "['I', 'fun!']\n",
      "['I', 'am', 'studying', 'Python', 'for', 'fun!']\n"
     ]
    }
   ],
   "source": [
    "x = [t**2 for t in range(20) if t%2 != 0]\n",
    "print(x)\n",
    "\n",
    "var = [o**3 for o in range(100) if o%3 == 0]\n",
    "\n",
    "d = list(range(1,11))\n",
    "print(var)\n",
    "\n",
    "g = \"Hello, I am studying Python for fun!\"\n",
    "wordswithoute = [word for word in g.split() if 'e' not in word and 'a' not in word and 'i' not in word and 'o' not in word]\n",
    "\n",
    "\n",
    "wer = []\n",
    "for word in g.split():\n",
    "    if 'e' not in word:\n",
    "        wer.append(word)\n",
    "\n",
    "print(wordswithoute)\n",
    "print(wer)"
   ]
  },
  {
   "cell_type": "markdown",
   "metadata": {},
   "source": [
    "# Bonus Question 2: The Farm Problem\n",
    "\n",
    "You will be given a list which contains any one of \"cow\", \"sheep\", \"pig\", \"hen\", \"duck\" or \"farmer\". What you need to do is find the total number of legs on the farm!\n",
    "\n",
    "## Example:\n",
    "\n",
    "`farm([\"farmer\", \"farmer\", \"sheep\", \"sheep\", \"sheep\", \"sheep\", \"sheep\", \"sheep\", \"hen\", \"hen\", \"hen\", \"hen\", \"pig\", \"pig\", \"pig\"])` should return `48`.\n",
    "\n",
    "`farm([\"farmer\", \"farmer\", \"cow\", \"cow\", \"sheep\", \"sheep\", \"pig\", \"pig\", \"hen\", \"hen\", \"duck\", duck])` should return `36`.\n",
    "\n",
    "(Each farmer has 2 legs, cows, sheep, and pigs have 4, while hens and ducks have 2.)"
   ]
  },
  {
   "cell_type": "code",
   "execution_count": 36,
   "metadata": {},
   "outputs": [
    {
     "name": "stdout",
     "output_type": "stream",
     "text": [
      "<class 'int'>\n",
      "2\n",
      "<class 'list'>\n",
      "['farmer', 'farmer', 'cow', 'cow', 'sheep', 'sheep', 'pig', 'pig', 'hen', 'hen', 'duck', 'duck']\n"
     ]
    }
   ],
   "source": [
    "def farm(listOfAnimals):\n",
    "    # put your code below this line\n",
    "    numLegs = 0\n",
    "    for animal in listOfAnimals:\n",
    "        if animal == \"cow\" or animal == \"sheep\" or animal == \"pig\": # either write the variable name each time, or\n",
    "            numLegs = numLegs + 4\n",
    "        elif animal == \"hen\" or \"duck\" or \"farmer\": # write the variable name once only, both are acceptable\n",
    "            numLegs = numLegs + 2\n",
    "    #print(numLegs)\n",
    "    return [numLegs,listOfAnimals]\n",
    "\n",
    "[num,lst]= farm([\"farmer\", \"farmer\", \"cow\", \"cow\", \"sheep\", \"sheep\", \"pig\", \"pig\", \"hen\", \"hen\", \"duck\", \"duck\"])\n",
    "\n",
    "print(type(num))\n",
    "print(num)\n",
    "\n",
    "print(type(lst))\n",
    "print(lst)"
   ]
  },
  {
   "cell_type": "code",
   "execution_count": 24,
   "metadata": {},
   "outputs": [
    {
     "name": "stdout",
     "output_type": "stream",
     "text": [
      "36\n"
     ]
    }
   ],
   "source": [
    "print(farm([\"farmer\", \"farmer\", \"cow\", \"cow\", \"sheep\", \"sheep\", \"pig\", \"pig\", \"hen\", \"hen\", \"duck\", \"duck\"]))"
   ]
  },
  {
   "cell_type": "code",
   "execution_count": 25,
   "metadata": {},
   "outputs": [
    {
     "name": "stdout",
     "output_type": "stream",
     "text": [
      "12\n"
     ]
    }
   ],
   "source": [
    "print(farm(\"farmer\"))"
   ]
  },
  {
   "cell_type": "code",
   "execution_count": null,
   "metadata": {},
   "outputs": [],
   "source": []
  }
 ],
 "metadata": {
  "kernelspec": {
   "display_name": "Python 3",
   "language": "python",
   "name": "python3"
  },
  "language_info": {
   "codemirror_mode": {
    "name": "ipython",
    "version": 3
   },
   "file_extension": ".py",
   "mimetype": "text/x-python",
   "name": "python",
   "nbconvert_exporter": "python",
   "pygments_lexer": "ipython3",
   "version": "3.7.6"
  }
 },
 "nbformat": 4,
 "nbformat_minor": 4
}
