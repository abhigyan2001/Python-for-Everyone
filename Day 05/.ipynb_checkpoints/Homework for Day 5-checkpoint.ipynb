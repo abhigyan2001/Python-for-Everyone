{
 "cells": [
  {
   "cell_type": "markdown",
   "metadata": {},
   "source": [
    "# Question 1: Prime Numbers\n",
    "\n",
    "Check if a given number `n` is prime. (It will be given as the parameter of a function)\n",
    "\n",
    "A number is said to be prime if its only factors are 1 and the number itself. Note that 1 is not prime either.\n",
    "\n",
    "<details>\n",
    "  <summary>Hint</summary>\n",
    "    Try going through all the numbers below n in a for-loop starting from 2, and then check if n gives zero remainder when divided by the loop variable.\n",
    "</details>"
   ]
  },
  {
   "cell_type": "code",
   "execution_count": 22,
   "metadata": {},
   "outputs": [
    {
     "name": "stdout",
     "output_type": "stream",
     "text": [
      "False\n",
      "Hello, World!\n",
      "None\n"
     ]
    }
   ],
   "source": [
    "def isPrime(n):\n",
    "    \n",
    "    # put your code below this line:\n",
    "    for i in range(2, n):\n",
    "        #print(i)\n",
    "        if n % i == 0: # n = 4, i = 2, 4 % 2\n",
    "            #print(\"n is not a prime number\")\n",
    "            #print(False)\n",
    "            return False\n",
    "        #else:\n",
    "            #print(\"looks like it may be prime\")\n",
    "    #print(True)\n",
    "    return True\n",
    "\n",
    "\n",
    "g = isPrime(4)\n",
    "print(g)\n",
    "\n",
    "\n",
    "x = print(\"Hello, World!\")\n",
    "\n",
    "print(x)\n",
    "\n",
    "\n",
    "\n",
    "#print(isPrime(4))\n",
    "#print(isPrime(13))\n",
    "#print(isPrime(35))"
   ]
  },
  {
   "cell_type": "code",
   "execution_count": 23,
   "metadata": {},
   "outputs": [],
   "source": [
    "x = int(5)"
   ]
  },
  {
   "cell_type": "code",
   "execution_count": null,
   "metadata": {},
   "outputs": [],
   "source": [
    "# Eratosthenes Sieve\n",
    "def isPrime(n):\n",
    "    "
   ]
  },
  {
   "cell_type": "markdown",
   "metadata": {},
   "source": [
    "# Tests"
   ]
  },
  {
   "cell_type": "code",
   "execution_count": null,
   "metadata": {},
   "outputs": [
    {
     "name": "stdout",
     "output_type": "stream",
     "text": [
      "True\n",
      "True\n",
      "True\n",
      "False\n"
     ]
    }
   ],
   "source": [
    "print(isPrime(13))\n",
    "print(isPrime(59221))\n",
    "print(isPrime(214469))\n",
    "print(isPrime(20988936657440586486151264256610222593863922))\n",
    "print(isPrime(67280421310721))\n",
    "print(isPrime(20988936657440586486151264256610222593863921))"
   ]
  },
  {
   "cell_type": "markdown",
   "metadata": {},
   "source": [
    "# Question 2: Palindrome Numbers\n",
    "\n",
    "Check if a given number `n` is a palindrome. (It will be given as the parameter of a function)\n",
    "\n",
    "A number is said to be a palindrome if it is the same when reversed.\n",
    "\n",
    "## Examples:\n",
    "\n",
    "`isPalindrome(1221)` should return `True`\n",
    "\n",
    "`isPalindrome(91919)` should return `True`\n",
    "\n",
    "`isPalindrome(345)` should return `False`\n",
    "\n",
    "`isPalindrome(\"malayalam\")` should return `False` as `\"malayalam\"` is not a number even though it is a palindrome word.\n"
   ]
  },
  {
   "cell_type": "code",
   "execution_count": null,
   "metadata": {},
   "outputs": [],
   "source": [
    "def isPalindrome(n):\n",
    "    # put your code below this line:\n",
    "    if not isinstance(n,int):\n",
    "        return False\n",
    "    elif str(n)[::-1] == str(n):\n",
    "        return True\n",
    "    else:\n",
    "        return False"
   ]
  },
  {
   "cell_type": "markdown",
   "metadata": {},
   "source": [
    "# Tests:"
   ]
  },
  {
   "cell_type": "code",
   "execution_count": null,
   "metadata": {},
   "outputs": [],
   "source": [
    "print(isPalindrome(1221))\n",
    "print(isPalindrome(91919))\n",
    "print(isPalindrome(345))\n",
    "print(isPalindrome(\"malayalam\"))"
   ]
  },
  {
   "cell_type": "markdown",
   "metadata": {},
   "source": [
    "# Bonus Question 1: List Comprehensions\n",
    "\n",
    "Figure out the result of the following code and then read up a bit on [List Comprehensions](https://www.digitalocean.com/community/tutorials/understanding-list-comprehensions-in-python-3) if you feel intrigued...\n",
    "\n",
    "More links:\n",
    "\n",
    "https://www.python-course.eu/python3_list_comprehension.php\n",
    "\n",
    "https://www.programiz.com/python-programming/list-comprehension"
   ]
  },
  {
   "cell_type": "code",
   "execution_count": 25,
   "metadata": {},
   "outputs": [
    {
     "name": "stdout",
     "output_type": "stream",
     "text": [
      "[1, 9, 25, 49, 81, 121, 169, 225, 289, 361]\n"
     ]
    }
   ],
   "source": [
    "x = [t**2 for t in range(20) if t%2 != 0]\n",
    "print(x)"
   ]
  },
  {
   "cell_type": "markdown",
   "metadata": {},
   "source": [
    "# Bonus Question 2: The Farm Problem\n",
    "\n",
    "You will be given a list which contains any one of \"cow\", \"sheep\", \"pig\", \"hen\", \"duck\" or \"farmer\". What you need to do is find the total number of legs on the farm!\n",
    "\n",
    "## Example:\n",
    "\n",
    "`farm([\"farmer\", \"farmer\", \"sheep\", \"sheep\", \"sheep\", \"sheep\", \"sheep\", \"sheep\", \"hen\", \"hen\", \"hen\", \"hen\", \"pig\", \"pig\", \"pig\"])` should return `48`.\n",
    "\n",
    "`farm([\"farmer\", \"farmer\", \"cow\", \"cow\", \"sheep\", \"sheep\", \"pig\", \"pig\", \"hen\", \"hen\", \"duck\", duck])` should return `36`.\n",
    "\n",
    "(Each farmer has 2 legs, cows, sheep, and pigs have 4, while hens and ducks have 2.)"
   ]
  },
  {
   "cell_type": "code",
   "execution_count": null,
   "metadata": {},
   "outputs": [],
   "source": [
    "def farm(listOfAnimals):\n",
    "    # put your code below this line\n",
    "    numLegs = 0\n",
    "    for animal in listOfAnimals:\n",
    "        if animal == \"cow\" or animal == \"sheep\" or animal == \"pig\": # either write the variable name each time, or\n",
    "            numLegs += 4\n",
    "        elif animal == \"hen\" or \"duck\" or \"farmer\": # write the variable name once only, both are acceptable\n",
    "            numLegs += 2\n",
    "    return numLegs"
   ]
  },
  {
   "cell_type": "code",
   "execution_count": null,
   "metadata": {},
   "outputs": [],
   "source": [
    "print(farm([\"farmer\", \"farmer\", \"cow\", \"cow\", \"sheep\", \"sheep\", \"pig\", \"pig\", \"hen\", \"hen\", \"duck\", \"duck\"]))"
   ]
  },
  {
   "cell_type": "code",
   "execution_count": null,
   "metadata": {},
   "outputs": [],
   "source": []
  }
 ],
 "metadata": {
  "kernelspec": {
   "display_name": "Python 3",
   "language": "python",
   "name": "python3"
  },
  "language_info": {
   "codemirror_mode": {
    "name": "ipython",
    "version": 3
   },
   "file_extension": ".py",
   "mimetype": "text/x-python",
   "name": "python",
   "nbconvert_exporter": "python",
   "pygments_lexer": "ipython3",
   "version": "3.7.6"
  }
 },
 "nbformat": 4,
 "nbformat_minor": 4
}
