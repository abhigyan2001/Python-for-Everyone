{
 "cells": [
  {
   "cell_type": "markdown",
   "metadata": {},
   "source": [
    "## 0. Fixed Character Width (v1)\n",
    "\n",
    "##### (Level: Easy) \n",
    "\n",
    "You are given a string as the parameter of a function. Now, you should make sure that it is EXACTLY 10 characters long.\n",
    "\n",
    "How?\n",
    "\n",
    "If the string is longer than 10 characters, remove the extra characters from the end.\n",
    "\n",
    "If the string is shorter than 10 characters, add extra blank spaces to the beginning.\n",
    "\n",
    "### Example\n",
    "\n",
    "For `fixedCharWidth(\"Big\")`, the output should be \n",
    "\n",
    "       Big\n",
    "(seven spaces before Big)\n",
    "\n",
    "For `fixedCharWidth(\"Electrodynamics\")`, the output should be \n",
    "\n",
    "Electrodyn"
   ]
  },
  {
   "cell_type": "code",
   "execution_count": 8,
   "metadata": {},
   "outputs": [],
   "source": [
    "def fixedCharWidth(word):\n",
    "    # put your code below this line ⇩\n",
    "    \n",
    "    wordLen=len(word)\n",
    "    if(wordLen <= 10):\n",
    "        printWord=word.rjust(10,' ')\n",
    "    else:\n",
    "        printWord=word[0:10]\n",
    "    \n",
    "    \n",
    "    return printWord"
   ]
  },
  {
   "cell_type": "markdown",
   "metadata": {},
   "source": [
    "Run the following test cases, if your function is the correct one, you should see only `True` in the output of each line:"
   ]
  },
  {
   "cell_type": "code",
   "execution_count": 9,
   "metadata": {},
   "outputs": [
    {
     "name": "stdout",
     "output_type": "stream",
     "text": [
      "True\n",
      "True\n",
      "True\n",
      "True\n"
     ]
    }
   ],
   "source": [
    "print(fixedCharWidth(\"Big\")==\"       Big\")\n",
    "print(fixedCharWidth(\"Electrodynamics\")==\"Electrodyn\")\n",
    "print(fixedCharWidth(\"Friends in high places\")==\"Friends in\")\n",
    "print(fixedCharWidth(\"Cheese!!!!\")==\"Cheese!!!!\")"
   ]
  },
  {
   "cell_type": "markdown",
   "metadata": {},
   "source": [
    "## 1. Fixed Character Width (v2)\n",
    "\n",
    "##### (Level: Easy)\n",
    "\n",
    "This time, you are given a string and the number of characters as the parameters of a function. \n",
    "This time, instead of 10 by default, you will have to take the number of characters from the function input as well.\n",
    "\n",
    "How?\n",
    "\n",
    "If the string is longer than 10 characters, remove the extra characters from the end.\n",
    "\n",
    "If the string is shorter than 10 characters, add extra blank spaces to the beginning.\n",
    "\n",
    "### Example\n",
    "\n",
    "For `fixedCharWidth2(\"Big\", 5)`, the output should be \n",
    "\n",
    "  Big\n",
    "(two spaces before Big)\n",
    "\n",
    "For `fixedCharWidth2(\"Electrodynamics\", 7)`, the output should be \n",
    "\n",
    "Electro"
   ]
  },
  {
   "cell_type": "code",
   "execution_count": 17,
   "metadata": {},
   "outputs": [],
   "source": [
    "def fixedCharWidth2(word, n):\n",
    "    # put your code below this line ⇩\n",
    "    \n",
    "    wordLen=len(word)\n",
    "    if(wordLen <= n):\n",
    "        printWord=word.rjust(n,' ')\n",
    "    else:\n",
    "        printWord=word[0:n]\n",
    "    \n",
    "    #print(\"word\",word, \"len\",wordLen)\n",
    "    #print(\"printWord\",printWord, \"len\",len(printWord))\n",
    "    \n",
    "    return printWord\n",
    "    "
   ]
  },
  {
   "cell_type": "markdown",
   "metadata": {},
   "source": [
    "Run the following test cases, if your function is the correct one, you should see only `True` in the output of each line:"
   ]
  },
  {
   "cell_type": "code",
   "execution_count": 18,
   "metadata": {},
   "outputs": [
    {
     "name": "stdout",
     "output_type": "stream",
     "text": [
      "True\n",
      "True\n",
      "True\n",
      "True\n"
     ]
    }
   ],
   "source": [
    "print(fixedCharWidth2(\"Big\", 5)==\"  Big\")\n",
    "print(fixedCharWidth2(\"Electrodynamics\",7)==\"Electro\")\n",
    "print(fixedCharWidth2(\"Friends in high places\", 27)==\"     Friends in high places\")\n",
    "print(fixedCharWidth2(\"Cheese!!!!\",10)==\"Cheese!!!!\")"
   ]
  },
  {
   "cell_type": "markdown",
   "metadata": {},
   "source": [
    "## 2. Proper Name\n",
    "\n",
    "##### (Level: Medium)\n",
    "\n",
    "You are given the name of a person in small letters. You will need to capitalize just the first letter of each new word that is present in it.\n",
    "\n",
    "### Example\n",
    "\n",
    "For `properName(\"james bond\")`, you must return:\n",
    "\n",
    "`James Bond`\n",
    "\n",
    "<details>\n",
    "  <summary>Hint</summary>\n",
    " \n",
    "    Use the split() and upper() function for this, or dig deeper to find an even simpler method...\n",
    "</details>"
   ]
  },
  {
   "cell_type": "code",
   "execution_count": 46,
   "metadata": {
    "scrolled": true
   },
   "outputs": [],
   "source": [
    "def properName(name):\n",
    "    # put your code below this line ⇩\n",
    "    \n",
    "    nameList=name.split(' ')\n",
    "    outputName=\"\"\n",
    "    for st in nameList:        \n",
    "        firstChar=st[0].upper()\n",
    "        outputName=outputName+firstChar+st[1:len(st)]+\" \"\n",
    "            \n",
    "    return outputName.strip()\n",
    "    "
   ]
  },
  {
   "cell_type": "markdown",
   "metadata": {},
   "source": [
    "Run the following test cases, if your function is the correct one, you should see only `True` in the output of each line:"
   ]
  },
  {
   "cell_type": "code",
   "execution_count": 47,
   "metadata": {},
   "outputs": [
    {
     "name": "stdout",
     "output_type": "stream",
     "text": [
      "True\n",
      "True\n",
      "True\n",
      "True\n",
      "True\n"
     ]
    }
   ],
   "source": [
    "print(properName(\"james bond\") == \"James Bond\")\n",
    "print(properName(\"isaac newton\") == \"Isaac Newton\")\n",
    "print(properName(\"ben tennyson\") == \"Ben Tennyson\")\n",
    "print(properName(\"nobita nobi\") == \"Nobita Nobi\")\n",
    "print(properName(\"uzumaki naruto\") == \"Uzumaki Naruto\")"
   ]
  },
  {
   "cell_type": "markdown",
   "metadata": {},
   "source": [
    "## 3. Replacement Logic\n",
    "\n",
    "##### (Level: Medium)\n",
    "\n",
    "A few days ago, the Prakritik Committee was renamed the Bhaumik Society. As a result, they need to change their name in all their documents.\n",
    "\n",
    "Help them out, with your knowledge of Python!\n",
    "\n",
    "(if the name Committee is omitted, then omit the name Society as well, but if it is present, then you should change it as well)\n",
    "\n",
    "### Example\n",
    "\n",
    "For `praksToBhaums(\"Prakritik Committee Sangeet Dal\")`, the output should be:\n",
    "\n",
    "`Bhaumik Society Sangeet Dal`\n",
    "\n",
    "And, for `praksToBhaums(\"Prakritik Players Squad\")`, the output should be:\n",
    "\n",
    "`Bhaumik Players Squad`."
   ]
  },
  {
   "cell_type": "code",
   "execution_count": 48,
   "metadata": {},
   "outputs": [],
   "source": [
    "def praksToBhaums(oldName):\n",
    "    # put your code below this line ⇩\n",
    "    \n",
    "    newName= (oldName.replace(\"Prakritik\",\"Bhaumik\")).replace(\"Committee\",\"Society\")\n",
    "    \n",
    "    return newName\n",
    "    "
   ]
  },
  {
   "cell_type": "markdown",
   "metadata": {},
   "source": [
    "Run the following test cases, if your function is the correct one, you should see only True in the output of each line:"
   ]
  },
  {
   "cell_type": "code",
   "execution_count": 49,
   "metadata": {},
   "outputs": [
    {
     "name": "stdout",
     "output_type": "stream",
     "text": [
      "True\n",
      "True\n",
      "True\n"
     ]
    }
   ],
   "source": [
    "print(praksToBhaums(\"Prakritik Committee Sangeet Dal\")==\"Bhaumik Society Sangeet Dal\")\n",
    "print(praksToBhaums(\"Prakritik Players Squad\")==\"Bhaumik Players Squad\")\n",
    "print(praksToBhaums(\"Maroon 5 Fans\")==\"Maroon 5 Fans\")"
   ]
  }
 ],
 "metadata": {
  "kernelspec": {
   "display_name": "Python 3",
   "language": "python",
   "name": "python3"
  },
  "language_info": {
   "codemirror_mode": {
    "name": "ipython",
    "version": 3
   },
   "file_extension": ".py",
   "mimetype": "text/x-python",
   "name": "python",
   "nbconvert_exporter": "python",
   "pygments_lexer": "ipython3",
   "version": "3.7.6"
  }
 },
 "nbformat": 4,
 "nbformat_minor": 2
}
