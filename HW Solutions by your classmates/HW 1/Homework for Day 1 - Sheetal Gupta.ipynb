{
 "cells": [
  {
   "cell_type": "markdown",
   "metadata": {},
   "source": [
    "## 0. Hello, World! (v0.0)\n",
    "\n",
    "##### (Level: Pre Alpha Minus) \n",
    "\n",
    "You have just begun your coding journey. As a rite of passage, it is important to write the \"Hello, World!\" program.\n",
    "\n",
    "That's it. Seriously. Now, get going!"
   ]
  },
  {
   "cell_type": "code",
   "execution_count": 2,
   "metadata": {},
   "outputs": [
    {
     "name": "stdout",
     "output_type": "stream",
     "text": [
      "Hello, World!\n"
     ]
    }
   ],
   "source": [
    "print(\"Hello, World!\")"
   ]
  },
  {
   "cell_type": "markdown",
   "metadata": {},
   "source": [
    "Output needs to be:\n",
    "\n",
    "Hello, World!"
   ]
  },
  {
   "cell_type": "markdown",
   "metadata": {},
   "source": [
    "## 1. Billing for PlusPoint Hypermarket\n",
    "\n",
    "##### (Level: Easy)\n",
    "\n",
    "PlusPoint Hypermarket has decided to upgrade their billing system to make it so amazing that people coming to them would never think again about going to another hypermarket. Ever.\n",
    "\n",
    "But, they have no clue on how to make a good looking Billing system, and so they've tasked YOU with creating it! What an opportunity to prove your worth to them!\n",
    "\n",
    "The customer will be telling you what they want from before, and you just need to make the billing system *look good*. That's all. (No need to take any input from the user.)\n",
    "\n",
    "The final bill should look like this:\n",
    "\n",
    "| Item Name | Cost per Unit (in Rs.) | Quantity | Total Cost (in Rs.) |\n",
    "|---|--- |---|---|\n",
    "| Parle G | 10 | 5 | 50 |\n",
    "| Maida 1 kg | 25 | 2 | 50 |\n",
    "| Amul Cheese Slices | 70 | 2 | 140 |\n",
    "| Heritage Milk 500ml | 30 | 2 | 60 |\n",
    "| Krack Jack | 25 | 1 | 25 |\n",
    "\n",
    "\n",
    "(Use the exact same items as given here, since you haven't yet learnt what's needed to keep asking the user for further input)\n",
    "\n",
    "<sub>The story written above is purely a work of fiction and no offense is intended towards anyone</sub>"
   ]
  },
  {
   "cell_type": "code",
   "execution_count": 3,
   "metadata": {},
   "outputs": [
    {
     "name": "stdout",
     "output_type": "stream",
     "text": [
      "Item Name \t Cost per Unit (in Rs.) \t Quantity \t Total Cost (in Rs.)\n",
      "__________________________________________________________________________________________\n",
      "Parle G \t\t 10 \t\t\t 5 \t\t\t 50\n",
      "Maida 1 kg \t\t 25 \t\t\t 2 \t\t\t 50\n",
      "Amul Cheese Slices \t 70 \t\t\t 2 \t\t\t 140\n",
      "Heritage Milk 500ml \t 30 \t\t\t 2 \t\t\t 60\n",
      "Krack Jack \t\t 25 \t\t\t 1 \t\t\t 25\n"
     ]
    }
   ],
   "source": [
    "# put your code below this line ⇩\n",
    "print(\"Item Name \\t Cost per Unit (in Rs.) \\t Quantity \\t Total Cost (in Rs.)\")\n",
    "print(\"__________________________________________________________________________________________\")\n",
    "print(\"Parle G \\t\\t 10 \\t\\t\\t 5 \\t\\t\\t 50\")\n",
    "print(\"Maida 1 kg \\t\\t 25 \\t\\t\\t 2 \\t\\t\\t 50\")\n",
    "print(\"Amul Cheese Slices \\t 70 \\t\\t\\t 2 \\t\\t\\t 140\")\n",
    "print(\"Heritage Milk 500ml \\t 30 \\t\\t\\t 2 \\t\\t\\t 60\")\n",
    "print(\"Krack Jack \\t\\t 25 \\t\\t\\t 1 \\t\\t\\t 25\")\n",
    "\n",
    "\n",
    "\n",
    "\n",
    "\n",
    "\n",
    "\n",
    "\n"
   ]
  },
  {
   "cell_type": "markdown",
   "metadata": {},
   "source": [
    "| Item Name          | Cost per Unit (in Rs.) | Quantity |\tTotal Cost (in Rs.) |\n",
    "\n",
    "| Parle G            |\t\t 10 \t          |\t\t 5 \t |\t     50             |\n",
    "\n",
    "| Maida 1 kg         |\t\t 25 \t          |\t\t 2 \t |\t\t 50             |\n",
    "\n",
    "| Amul Cheese Slices |\t     70 \t          |\t\t 2 \t |\t\t 140            |\n",
    "\n",
    "| Heritage Milk 500ml| \t     30 \t          |\t\t 2 \t |\t\t 60             |\n",
    "\n",
    "| Krack Jack         |\t\t 25 \t\t      |\t     1 \t |\t     25             |\n"
   ]
  },
  {
   "cell_type": "markdown",
   "metadata": {},
   "source": [
    "## 2. Are Prizes Ok?\n",
    "\n",
    "##### (Level: Medium)\n",
    "\n",
    "A programming competition is going to be held in your town and the organizers have given you the prizes they are planning to give to the first, second, and third places. \n",
    "\n",
    "Of course the prize for the first place must not be smaller than that for the second place, and the prize for the second place must not be smaller than that for the third place. \n",
    "\n",
    "Your task is to make sure the prizes do not violate the principles mentioned above.\n",
    "\n",
    "### Example\n",
    "\n",
    "For `first = 10`, `second = 5`, and `third = 5`, the output should be\n",
    "\n",
    "`arePrizesOK(first, second, third) = true`\n",
    "\n",
    "### Input/Output\n",
    "\n",
    "**[input] integer first**\n",
    "\n",
    "The prize intended for the first place, a non-negative integer.\n",
    "\n",
    "*Guaranteed constraints:*\n",
    "0 ≤ first ≤ 10.\n",
    "\n",
    "**[input] integer second**\n",
    "\n",
    "The prize intended for the second place, a non-negative integer.\n",
    "\n",
    "*Guaranteed constraints:*\n",
    "0 ≤ second ≤ 10.\n",
    "\n",
    "**[input] integer third**\n",
    "\n",
    "The prize intended for the third place, a non-negative integer.\n",
    "\n",
    "*Guaranteed constraints:*\n",
    "0 ≤ third ≤ 10.\n",
    "\n",
    "**[output] boolean**\n",
    "\n",
    "`True` if the prizes are correct, `False` otherwise.\n",
    "\n",
    "(This coding problem was taken from [CodeSignal](https://app.codesignal.com/tournaments/hBcZ6FLaqrCbDuDKM/D/))"
   ]
  },
  {
   "cell_type": "code",
   "execution_count": 4,
   "metadata": {},
   "outputs": [],
   "source": [
    "def arePrizesOk(first, second, third):\n",
    "    # the variable \"first\" contains the value of the prize for the first place winner,\n",
    "    # second contains the value of the prize for the second place winner, and similarly for third as well\n",
    "    # You can directly check first == second or first < second or whatever you need, these variables already contain the values\n",
    "    # put your code below this line ⇩\n",
    "    \n",
    "    ok=False\n",
    "    if (first >= second and first >= third and second >= third ):\n",
    "        ok= True\n",
    "    \n",
    "    return ok\n",
    "    \n",
    "    \n",
    "    \n",
    "    \n",
    "    \n",
    "    \n",
    "    \n",
    "    \n",
    "    \n",
    "    # (Hint: You may need to Google the \"if statement in Python\", and if you learn anything new from that, more power to you!)"
   ]
  },
  {
   "cell_type": "markdown",
   "metadata": {},
   "source": [
    "Run the following test cases, if your function is the correct one, you should see only `True` in the output of each line:"
   ]
  },
  {
   "cell_type": "code",
   "execution_count": 1,
   "metadata": {},
   "outputs": [
    {
     "ename": "NameError",
     "evalue": "name 'arePrizesOk' is not defined",
     "output_type": "error",
     "traceback": [
      "\u001b[0;31m---------------------------------------------------------------------------\u001b[0m",
      "\u001b[0;31mNameError\u001b[0m                                 Traceback (most recent call last)",
      "\u001b[0;32m<ipython-input-1-bbb6262bdec7>\u001b[0m in \u001b[0;36m<module>\u001b[0;34m\u001b[0m\n\u001b[0;32m----> 1\u001b[0;31m \u001b[0mprint\u001b[0m\u001b[0;34m(\u001b[0m\u001b[0marePrizesOk\u001b[0m\u001b[0;34m(\u001b[0m\u001b[0;36m10\u001b[0m\u001b[0;34m,\u001b[0m \u001b[0;36m9\u001b[0m\u001b[0;34m,\u001b[0m \u001b[0;36m8\u001b[0m\u001b[0;34m)\u001b[0m \u001b[0;34m==\u001b[0m \u001b[0;32mTrue\u001b[0m\u001b[0;34m)\u001b[0m\u001b[0;34m\u001b[0m\u001b[0;34m\u001b[0m\u001b[0m\n\u001b[0m\u001b[1;32m      2\u001b[0m \u001b[0mprint\u001b[0m\u001b[0;34m(\u001b[0m\u001b[0marePrizesOk\u001b[0m\u001b[0;34m(\u001b[0m\u001b[0;36m1\u001b[0m\u001b[0;34m,\u001b[0m \u001b[0;36m2\u001b[0m\u001b[0;34m,\u001b[0m \u001b[0;36m3\u001b[0m\u001b[0;34m)\u001b[0m \u001b[0;34m==\u001b[0m \u001b[0;32mFalse\u001b[0m\u001b[0;34m)\u001b[0m\u001b[0;34m\u001b[0m\u001b[0;34m\u001b[0m\u001b[0m\n\u001b[1;32m      3\u001b[0m \u001b[0mprint\u001b[0m\u001b[0;34m(\u001b[0m\u001b[0marePrizesOk\u001b[0m\u001b[0;34m(\u001b[0m\u001b[0;36m10\u001b[0m\u001b[0;34m,\u001b[0m \u001b[0;36m10\u001b[0m\u001b[0;34m,\u001b[0m \u001b[0;36m10\u001b[0m\u001b[0;34m)\u001b[0m \u001b[0;34m==\u001b[0m \u001b[0;32mTrue\u001b[0m\u001b[0;34m)\u001b[0m\u001b[0;34m\u001b[0m\u001b[0;34m\u001b[0m\u001b[0m\n\u001b[1;32m      4\u001b[0m \u001b[0mprint\u001b[0m\u001b[0;34m(\u001b[0m\u001b[0marePrizesOk\u001b[0m\u001b[0;34m(\u001b[0m\u001b[0;36m10\u001b[0m\u001b[0;34m,\u001b[0m \u001b[0;36m5\u001b[0m\u001b[0;34m,\u001b[0m \u001b[0;36m5\u001b[0m\u001b[0;34m)\u001b[0m \u001b[0;34m==\u001b[0m \u001b[0;32mTrue\u001b[0m\u001b[0;34m)\u001b[0m\u001b[0;34m\u001b[0m\u001b[0;34m\u001b[0m\u001b[0m\n\u001b[1;32m      5\u001b[0m \u001b[0mprint\u001b[0m\u001b[0;34m(\u001b[0m\u001b[0marePrizesOk\u001b[0m\u001b[0;34m(\u001b[0m\u001b[0;36m8\u001b[0m\u001b[0;34m,\u001b[0m \u001b[0;36m6\u001b[0m\u001b[0;34m,\u001b[0m \u001b[0;36m7\u001b[0m\u001b[0;34m)\u001b[0m \u001b[0;34m==\u001b[0m \u001b[0;32mFalse\u001b[0m\u001b[0;34m)\u001b[0m\u001b[0;34m\u001b[0m\u001b[0;34m\u001b[0m\u001b[0m\n",
      "\u001b[0;31mNameError\u001b[0m: name 'arePrizesOk' is not defined"
     ]
    }
   ],
   "source": [
    "print(arePrizesOk(10, 9, 8) == True)\n",
    "print(arePrizesOk(1, 2, 3) == False)\n",
    "print(arePrizesOk(10, 10, 10) == True)\n",
    "print(arePrizesOk(10, 5, 5) == True)\n",
    "print(arePrizesOk(8, 6, 7) == False)"
   ]
  },
  {
   "cell_type": "markdown",
   "metadata": {},
   "source": [
    "## 3. Matching the String\n",
    "\n",
    "##### (Level: Hard)\n",
    "\n",
    "Given a `pattern` string and a `test` string, your task is to implement regex substring matching. If `pattern` is preceded by a `^`, the pattern, excluding the `^`, will be matched with the _starting position_ of the `test` string.\n",
    "\n",
    "If `pattern` is followed by a `$`, the pattern, excluding the `$`, will be matched with the _ending position_ of the `test` string. \n",
    "\n",
    "If no such markers are present, check whether `pattern` is a substring of `test`, regardless of its position.\n",
    "\n",
    "### Example\n",
    "\n",
    "For pattern = \"^code\" and test = \"codesignal\", the output should be:\n",
    "\n",
    "```matchingTheString(pattern, test) = True```\n",
    "\n",
    "For pattern = \"nal$\" and test = \"codesignal\", the output should be:\n",
    "\n",
    "```matchingTheString(pattern, test) = True```\n",
    "\n",
    "For pattern = \"hello\" and test = \"world\", the output should be:\n",
    "\n",
    "```matchingTheString(pattern, test) = False```\n",
    "\n",
    "\n",
    "### Input/Output\n",
    "\n",
    "**[input] string pattern**\n",
    "\n",
    "A string that can contain lowercase English characters, `^`, or `$`.\n",
    "\n",
    "_Guaranteed constraints_ :\n",
    "\n",
    "1 ≤ pattern.length ≤ $10^5$.\n",
    "\n",
    "**[input] string test**\n",
    "\n",
    "A string composed of lowercase English characters.\n",
    "\n",
    "_Guaranteed constraints_ :\n",
    "\n",
    "1 ≤ test.length ≤ $10^5$.\n",
    "\n",
    "**[output] boolean**\n",
    "\n",
    "Return `True` if the test string matches the given pattern, otherwise return `False`.\n",
    "\n",
    "(This coding problem was taken from [CodeSignal](https://app.codesignal.com/tournaments/hBcZ6FLaqrCbDuDKM/E/))"
   ]
  },
  {
   "cell_type": "code",
   "execution_count": 6,
   "metadata": {},
   "outputs": [],
   "source": [
    "def matchingTheString(pattern, test):\n",
    "    # just use 'pattern' and 'test' as if they already contain the string values that you need to work with\n",
    "    #put your code below this line ⇩\n",
    "    \n",
    "    matched = False\n",
    "    lenPattern=len(pattern)\n",
    "    lenTest=len(test)\n",
    "    \n",
    "    if('^' in pattern) and  (pattern[1:lenPattern] == test[0 : lenPattern-1] ):\n",
    "        matched = True\n",
    "        # does not work since no way to get char at -1\n",
    "    elif('$' in pattern) and  (pattern[0:lenPattern-1] == test[-(lenPattern-1) : -1]):\n",
    "        matched = True\n",
    "        # so doing positive index for last chard as well\n",
    "    elif('$' in pattern) and  (pattern[0:lenPattern-1] == test[ lenTest - (lenPattern-1) : lenTest]):\n",
    "        matched = True\n",
    "    elif ( pattern in test ):\n",
    "        matched = True\n",
    "        \n",
    "    return matched\n",
    "    \n",
    "    \n",
    "    \n",
    "    \n",
    "    # hint: You will need to use String slicing from what we learnt today. It will really help you later on. \n",
    "    # And, you will also need to use the if statement from earlier..."
   ]
  },
  {
   "cell_type": "markdown",
   "metadata": {},
   "source": [
    "Run the following test cases, and if your function is the correct one, you should see only `True` in the output of each line:"
   ]
  },
  {
   "cell_type": "code",
   "execution_count": 7,
   "metadata": {},
   "outputs": [
    {
     "name": "stdout",
     "output_type": "stream",
     "text": [
      "True\n",
      "True\n",
      "True\n",
      "True\n",
      "True\n"
     ]
    }
   ],
   "source": [
    "print(matchingTheString(\"^He\", \"Hello, World\") == True)\n",
    "print(matchingTheString(\"aba\", \"abacaba\") == True)\n",
    "print(matchingTheString(\"aba$\", \"abacaba\") == True)\n",
    "print(matchingTheString(\"rocks$\", \"Python Rocks\") == False)\n",
    "print(matchingTheString(\"mbar\", \"embarcadero\") == True)"
   ]
  }
 ],
 "metadata": {
  "kernelspec": {
   "display_name": "Python 3",
   "language": "python",
   "name": "python3"
  },
  "language_info": {
   "codemirror_mode": {
    "name": "ipython",
    "version": 3
   },
   "file_extension": ".py",
   "mimetype": "text/x-python",
   "name": "python",
   "nbconvert_exporter": "python",
   "pygments_lexer": "ipython3",
   "version": "3.7.6"
  }
 },
 "nbformat": 4,
 "nbformat_minor": 2
}
