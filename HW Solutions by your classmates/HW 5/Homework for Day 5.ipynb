{
 "cells": [
  {
   "cell_type": "markdown",
   "metadata": {},
   "source": [
    "# Question 1: Prime Numbers\n",
    "\n",
    "Check if a given number `n` is prime. (It will be given as the parameter of a function)\n",
    "\n",
    "A number is said to be prime if its only factors are 1 and the number itself. Note that 1 is not prime either.\n",
    "\n",
    "<details>\n",
    "  <summary>Hint</summary>\n",
    "    Try going through all the numbers below n in a for-loop starting from 2, and then check if n gives zero remainder when divided by the loop variable.\n",
    "</details>"
   ]
  },
  {
   "cell_type": "code",
   "execution_count": 2,
   "metadata": {},
   "outputs": [
    {
     "name": "stdout",
     "output_type": "stream",
     "text": [
      "Enter a number: 15\n",
      "False\n"
     ]
    }
   ],
   "source": [
    "def isPrime(n):\n",
    "    # put your code below this line:\n",
    "    for i in range(2, n):\n",
    "        if n%i == 0:\n",
    "            return False\n",
    "    return True\n",
    "\n",
    "n = int(input(\"Enter a number: \"))\n",
    "print(isPrime(n))"
   ]
  },
  {
   "cell_type": "markdown",
   "metadata": {},
   "source": [
    "# Question 2: Palindrome Numbers\n",
    "\n",
    "Check if a given number `n` is a palindrome. (It will be given as the parameter of a function)\n",
    "\n",
    "A number is said to be a palindrome if it is the same when reversed.\n",
    "\n",
    "## Examples:\n",
    "\n",
    "`isPalindrome(1221)` should return `True`\n",
    "\n",
    "`isPalindrome(91919)` should return `True`\n",
    "\n",
    "`isPalindrome(345)` should return `False`\n",
    "\n",
    "`isPalindrome(\"malayalam\")` should return `False` as `\"malayalam\"` is not a number even though it is a palindrome word.\n"
   ]
  },
  {
   "cell_type": "code",
   "execution_count": 4,
   "metadata": {},
   "outputs": [
    {
     "name": "stdout",
     "output_type": "stream",
     "text": [
      "Enter a number: 1341\n",
      "False\n"
     ]
    }
   ],
   "source": [
    "def isPalindrome(n):\n",
    "    # put your code below this line:\n",
    "    strn = str(n)\n",
    "    strnrev = strn[::-1]\n",
    "    if strn == strnrev:\n",
    "        return True\n",
    "    else:\n",
    "        return False\n",
    "\n",
    "n = int(input(\"Enter a number: \"))\n",
    "print(isPalindrome(n))"
   ]
  },
  {
   "cell_type": "markdown",
   "metadata": {},
   "source": [
    "# Bonus Question 1: List Comprehensions\n",
    "\n",
    "Figure out the result of the following code and then read up a bit on [List Comprehensions](https://www.digitalocean.com/community/tutorials/understanding-list-comprehensions-in-python-3) if you feel intrigued...\n",
    "\n",
    "More links:\n",
    "\n",
    "https://www.python-course.eu/python3_list_comprehension.php\n",
    "\n",
    "https://www.programiz.com/python-programming/list-comprehension"
   ]
  },
  {
   "cell_type": "code",
   "execution_count": 6,
   "metadata": {},
   "outputs": [
    {
     "name": "stdout",
     "output_type": "stream",
     "text": [
      "[1, 9, 25, 49, 81, 121, 169, 225, 289, 361]\n"
     ]
    }
   ],
   "source": [
    "x = [t**2 for t in range(20) if t%2 != 0]\n",
    "print(x)\n",
    "#Result: x = [1, 9, 25, 49, 81, 121, 169, 225, 289, 361]"
   ]
  },
  {
   "cell_type": "markdown",
   "metadata": {},
   "source": [
    "# Bonus Question 2: The Farm Problem\n",
    "\n",
    "You will be given a list which contains any one of \"cow\", \"sheep\", \"pig\", \"hen\", \"duck\" or \"farmer\". What you need to do is find the total number of legs on the farm!\n",
    "\n",
    "## Example:\n",
    "\n",
    "`farm([\"farmer\", \"farmer\", \"sheep\", \"sheep\", \"sheep\", \"sheep\", \"sheep\", \"sheep\", \"hen\", \"hen\", \"hen\", \"hen\", \"pig\", \"pig\", \"pig\"])` should return `48`.\n",
    "\n",
    "`farm([\"farmer\", \"farmer\", \"cow\", \"cow\", \"sheep\", \"sheep\", \"pig\", \"pig\", \"hen\", \"hen\", \"duck\", duck])` should return `36`.\n",
    "\n",
    "(Each farmer has 2 legs, cows, sheep, and pigs have 4, while hens and ducks have 2.)"
   ]
  },
  {
   "cell_type": "code",
   "execution_count": 9,
   "metadata": {},
   "outputs": [
    {
     "name": "stdout",
     "output_type": "stream",
     "text": [
      "48\n",
      "36\n"
     ]
    }
   ],
   "source": [
    "def farm(listOfAnimals):\n",
    "    # put your code below this line\n",
    "    legsum = 0\n",
    "    two_legged = [\"farmer\", \"hen\", \"duck\"]\n",
    "    four_legged = [\"cow\", \"sheep\", \"pig\"]\n",
    "    for i in listOfAnimals:\n",
    "        if i in two_legged:\n",
    "            legsum += 2\n",
    "        elif i in four_legged:\n",
    "            legsum += 4\n",
    "        else:\n",
    "            legsum += 0\n",
    "    return legsum\n",
    "animal_list_1 = [\"farmer\", \"farmer\", \"sheep\", \"sheep\", \"sheep\", \"sheep\", \"sheep\", \"sheep\", \"hen\", \"hen\", \"hen\", \"hen\", \"pig\", \"pig\", \"pig\"]\n",
    "animal_list_2 = [\"farmer\", \"farmer\", \"cow\", \"cow\", \"sheep\", \"sheep\", \"pig\", \"pig\", \"hen\", \"hen\", \"duck\", \"duck\"]\n",
    "print(farm(animal_list_1))\n",
    "print(farm(animal_list_2))"
   ]
  },
  {
   "cell_type": "code",
   "execution_count": null,
   "metadata": {},
   "outputs": [],
   "source": []
  }
 ],
 "metadata": {
  "kernelspec": {
   "display_name": "Python 3",
   "language": "python",
   "name": "python3"
  },
  "language_info": {
   "codemirror_mode": {
    "name": "ipython",
    "version": 3
   },
   "file_extension": ".py",
   "mimetype": "text/x-python",
   "name": "python",
   "nbconvert_exporter": "python",
   "pygments_lexer": "ipython3",
   "version": "3.7.6"
  }
 },
 "nbformat": 4,
 "nbformat_minor": 4
}
