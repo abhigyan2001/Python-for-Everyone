{
 "cells": [
  {
   "cell_type": "markdown",
   "metadata": {},
   "source": [
    "# 1. Correct the following code according to the directions given:"
   ]
  },
  {
   "cell_type": "markdown",
   "metadata": {},
   "source": [
    "## a) This code should take an input and not just simply print enter your name... Please correct this code and make it do the right thing."
   ]
  },
  {
   "cell_type": "code",
   "execution_count": 2,
   "metadata": {},
   "outputs": [
    {
     "name": "stdout",
     "output_type": "stream",
     "text": [
      "Please enter your name: shanvi\n",
      "shanvi\n"
     ]
    }
   ],
   "source": [
    "nm = input(\"Please enter your name: \")\n",
    "print(nm)"
   ]
  },
  {
   "cell_type": "markdown",
   "metadata": {},
   "source": [
    "## b) The next code should not give any errors. Do something to stop that from happening:\n",
    "\n",
    "(You can correct the code without adding anything extra, or you can add something that will take care of it)"
   ]
  },
  {
   "cell_type": "code",
   "execution_count": 7,
   "metadata": {},
   "outputs": [
    {
     "name": "stdout",
     "output_type": "stream",
     "text": [
      "¡Hola mi amigo! ¿Cuál es tu nombre?\n",
      "¡Hola! Mi nombre es Abhigyan\n",
      "See? It's that easy!\n"
     ]
    }
   ],
   "source": [
    "print(\"¡Hola mi amigo! ¿Cuál es tu nombre?\")\n",
    "print(\"¡Hola! Mi nombre es Abhigyan\")\n",
    "print(\"See? It's that easy!\")"
   ]
  },
  {
   "cell_type": "markdown",
   "metadata": {},
   "source": [
    "## c) Correct the syntax of all the statements below"
   ]
  },
  {
   "cell_type": "code",
   "execution_count": null,
   "metadata": {},
   "outputs": [],
   "source": [
    "print (\"I'm a Python 2 code to find the area of a rectangle\")\n",
    "\n",
    "y = 10\n",
    "x = 5\n",
    "\n",
    "area = lambda x,y : x*y\n",
    "\n",
    "print(area(x*y))\n",
    "\n",
    "s = 'Helloworld!'\n",
    "\n",
    "    print(s(1:5:2))\n",
    "\n",
    "# the code below should print the elements in string 's'\n",
    "def FastForward(s,n):\n",
    "    print(s[::n])\n",
    "    \n",
    "FastForward(\"¡Hola!\",1)"
   ]
  },
  {
   "cell_type": "markdown",
   "metadata": {},
   "source": [
    "<details>\n",
    "  <summary>Hint</summary>\n",
    "  \n",
    "  Maybe try changing the commas and colons, and remove the plus in x+=5, also, try to remove the double quotes in the print under the function\n",
    "</details>    "
   ]
  },
  {
   "cell_type": "markdown",
   "metadata": {},
   "source": [
    "# 2. Predict the output of the following codes before running them:\n",
    "\n",
    "(I have no way of checking if you were honest with yourself in these ones, so I'm trusting all of you on this one... Don't make me regret it ;) )"
   ]
  },
  {
   "cell_type": "markdown",
   "metadata": {},
   "source": [
    "a)"
   ]
  },
  {
   "cell_type": "code",
   "execution_count": 1,
   "metadata": {},
   "outputs": [
    {
     "name": "stdout",
     "output_type": "stream",
     "text": [
      "¡an\n"
     ]
    }
   ],
   "source": [
    "s = \"¡Hola Mundo!\"number = int(input(\"Enter the number of items you want to buy:\"))\n",
    "\n",
    "#while number is not int:\n",
    " #   print(\"Please enter a more realistic number\")\n",
    "while number >= 50 :\n",
    "    print(\"Please enter a more realistic number of items\")\n",
    "    number = int(input(\"Enter the number of items you want to buy:\"))\n",
    "\n",
    "for a in range(number):\n",
    "\n",
    "    item = input(\" Enter an Item name:  \")\n",
    "    cost = int(input(\" Enter the Cost: \"))\n",
    "    quantity = int(input(\" Enter the Quantity you wish to purchase: \"))\n",
    "    total = (cost*quantity)\n",
    "    if len(item) > 10:\n",
    "        item = item[0:10]\n",
    "    if quantity  >= 1000:\n",
    "        print (\"Please enter a more realistic price and quantity :  \")\n",
    "        \n",
    "    print(\"\\n\\n\\t\\t pluspoint hyper mart\")\n",
    "    print(\"____________________________________________________________\")\n",
    "    print(\"item name\\tcost\\t    quantity\\t total cost\")\n",
    "    print(item ,\"\\t\\t\",cost ,\"\\t\\t\", quantity ,\"\\t\\t\",total )\n",
    "print(s[::4])"
   ]
  },
  {
   "cell_type": "markdown",
   "metadata": {},
   "source": [
    "b)"
   ]
  },
  {
   "cell_type": "code",
   "execution_count": null,
   "metadata": {},
   "outputs": [],
   "source": [
    "q = \"Estoy disfrutando Python!\"\n",
    "\n",
    "for i in q:\n",
    "    print(i)"
   ]
  },
  {
   "cell_type": "markdown",
   "metadata": {},
   "source": [
    "c)"
   ]
  },
  {
   "cell_type": "code",
   "execution_count": null,
   "metadata": {},
   "outputs": [],
   "source": [
    "sentence = [\"Hi\", \"we\", \"have\", \"completed\", 5, \"days\", \"of\", \"these\", \"Python\", \"classes\"]\n",
    "print(type(sentence))\n",
    "\n",
    "for word in sentence:\n",
    "    print(word)\n",
    "    print(type(word))\n",
    "\n",
    "for word in sentence:\n",
    "    if isinstance(word, str): # the `isinstance` function just checks if the variable (here `word`)\n",
    "                              # is of the specified class/type (here `str`)\n",
    "        for letter in word:\n",
    "            print(letter)"
   ]
  },
  {
   "cell_type": "markdown",
   "metadata": {},
   "source": [
    "d)"
   ]
  },
  {
   "cell_type": "code",
   "execution_count": null,
   "metadata": {},
   "outputs": [],
   "source": [
    "walkerList = {\"All falls Down\":2017, \"Faded\":2015, \"Alone Pt 2\":2020, \"Sing me to Sleep\":2016, \"Alone\":2016, \"Tired\":2017}\n",
    "print(type(walkerList))\n",
    "\n",
    "for i in walkerList: #turns out dicts are iterable too! I just got to know! \n",
    "    #I don't dicts much because normally lists serve most needs in everyday code, and I feel you will do the same eventually.\n",
    "    #Generally, dicts and tuples are some of the most underused data types, but they're definitely useful in their own ways...\n",
    "    print(i)\n",
    "    print(type(i))\n",
    "    print(walkerList[i])\n",
    "    print(type(walkerList[i]))"
   ]
  },
  {
   "cell_type": "markdown",
   "metadata": {},
   "source": [
    "# 3. Code Questions"
   ]
  },
  {
   "cell_type": "markdown",
   "metadata": {},
   "source": [
    "## a) Create a simple calculator with your new knowledge of loops\n",
    "\n",
    "Ask the user for which operation they want to use (all the options should be displayed clearly)\n",
    "\n",
    "Example menu:\n",
    "```\n",
    "Which operation would you like to perform next?\n",
    "1. Add (+)\n",
    "2. Subtract (-)\n",
    "3. Multiply (*)\n",
    "4. Divide (normally) (/)\n",
    "5. Integer Division (//)\n",
    "6. Exponentiation (**)\n",
    "```\n",
    "Now, depending on which number the user presses (1 for Add, 3 for Multiply, and so on...), you should perform the given operation and display the result on the screen, and then ask the user if he wants to perform another calculation. If yes, then display the menu again, else, exit the loop.\n",
    "\n",
    "Take care of invalid inputs too...\n",
    "\n",
    "### Example interaction (very important, read the whole thing):\n",
    "\n",
    "```\n",
    "Which operation would you like to perform next?\n",
    "1. Add (+)\n",
    "2. Subtract (-)\n",
    "3. Multiply (*)\n",
    "4. Divide (normally) (/)\n",
    "5. Integer Division (//)\n",
    "6. Exponentiation (**)\n",
    "\n",
    "Enter your choice: 1\n",
    "Enter first value: 12\n",
    "Enter second value: 23\n",
    "x+y = 35.0\n",
    "Do you want to perform another calculation? (Enter y/n): yeah\n",
    "Please enter a valid option...\n",
    "Do you want to perform another calculation? (Enter y/n): no\n",
    "Please enter a valid option...\n",
    "Do you want to perform another calculation? (Enter y/n): y\n",
    "Starting next round...\n",
    "Which operation would you like to perform next?\n",
    "1. Add (+)\n",
    "2. Subtract (-)\n",
    "3. Multiply (*)\n",
    "4. Divide (normally) (/)\n",
    "5. Integer Division (//)\n",
    "6. Exponentiation (**)\n",
    "\n",
    "Enter your choice: 2\n",
    "Enter first value: 45\n",
    "Enter second value: 23\n",
    "x-y = 22.0\n",
    "Do you want to perform another calculation? (Enter y/n): y\n",
    "Starting next round...\n",
    "Which operation would you like to perform next?\n",
    "1. Add (+)\n",
    "2. Subtract (-)\n",
    "3. Multiply (*)\n",
    "4. Divide (normally) (/)\n",
    "5. Integer Division (//)\n",
    "6. Exponentiation (**)\n",
    "\n",
    "Enter your choice: 3\n",
    "Enter first value: 34\n",
    "Enter second value: 2\n",
    "x*y = 68.0\n",
    "Do you want to perform another calculation? (Enter y/n): y\n",
    "Starting next round...\n",
    "Which operation would you like to perform next?\n",
    "1. Add (+)\n",
    "2. Subtract (-)\n",
    "3. Multiply (*)\n",
    "4. Divide (normally) (/)\n",
    "5. Integer Division (//)\n",
    "6. Exponentiation (**)\n",
    "\n",
    "Enter your choice: 4\n",
    "Enter first value: 12\n",
    "Enter second value: 6\n",
    "x/y = 2.0\n",
    "Do you want to perform another calculation? (Enter y/n): y\n",
    "Starting next round...\n",
    "Which operation would you like to perform next?\n",
    "1. Add (+)\n",
    "2. Subtract (-)\n",
    "3. Multiply (*)\n",
    "4. Divide (normally) (/)\n",
    "5. Integer Division (//)\n",
    "6. Exponentiation (**)\n",
    "\n",
    "Enter your choice: 5\n",
    "Enter first value: 12\n",
    "Enter second value: 6\n",
    "x//y = 2.0\n",
    "Do you want to perform another calculation? (Enter y/n): y\n",
    "Starting next round...\n",
    "Which operation would you like to perform next?\n",
    "1. Add (+)\n",
    "2. Subtract (-)\n",
    "3. Multiply (*)\n",
    "4. Divide (normally) (/)\n",
    "5. Integer Division (//)\n",
    "6. Exponentiation (**)\n",
    "\n",
    "Enter your choice: 6\n",
    "Enter first value: 2.718\n",
    "Enter second value: 4\n",
    "x**y = 54.575510850575995\n",
    "Do you want to perform another calculation? (Enter y/n): y\n",
    "Starting next round...\n",
    "Which operation would you like to perform next?\n",
    "1. Add (+)\n",
    "2. Subtract (-)\n",
    "3. Multiply (*)\n",
    "4. Divide (normally) (/)\n",
    "5. Integer Division (//)\n",
    "6. Exponentiation (**)\n",
    "\n",
    "Enter your choice: 100\n",
    "Please enter a valid number (1, 2, 3, 4, 5 or 6)\n",
    "Which operation would you like to perform next?\n",
    "1. Add (+)\n",
    "2. Subtract (-)\n",
    "3. Multiply (*)\n",
    "4. Divide (normally) (/)\n",
    "5. Integer Division (//)\n",
    "6. Exponentiation (**)\n",
    "\n",
    "Enter your choice: 1\n",
    "Enter first value: 9000\n",
    "Enter second value: 90\n",
    "x+y = 9090.0\n",
    "Do you want to perform another calculation? (Enter y/n): n\n",
    "Exiting the loop\n",
    "```"
   ]
  },
  {
   "cell_type": "code",
   "execution_count": 1,
   "metadata": {},
   "outputs": [
    {
     "name": "stdout",
     "output_type": "stream",
     "text": [
      "Which operation would you like to perform next?\n",
      "\n",
      "1. Add (+)\n",
      "\n",
      "2. Subtract (-)\n",
      "\n",
      "3. Multiply (*)\n",
      "\n",
      "4. Divide (normally) (/)\n",
      "\n",
      "5. Integer Division (//)\n",
      "\n",
      "6. Exponentiation (**) \n",
      "Enter your choice:  3\n",
      "Enter first value:  3\n",
      "Enter second value: 4\n",
      "12\n",
      "Do you want to perform another calculation? (Enter y/n): y\n",
      "Enter your choice:  1\n",
      "Enter first value:  7\n",
      "Enter second value: 9\n",
      "16\n",
      "Do you want to perform another calculation? (Enter y/n): n\n"
     ]
    }
   ],
   "source": [
    "# Enter your code here\n",
    "print (\"Which operation would you like to perform next?\\n\")\n",
    "print (\"1. Add (+)\\n\")\n",
    "print (\"2. Subtract (-)\\n\")\n",
    "print (\"3. Multiply (*)\\n\")\n",
    "print (\"4. Divide (normally) (/)\\n\")\n",
    "print (\"5. Integer Division (//)\\n\")\n",
    "print (\"6. Exponentiation (**) \")\n",
    "\n",
    "p = \"y\"\n",
    "\n",
    "while p == \"y\":\n",
    "    c = int(input(\"Enter your choice:  \")) \n",
    " \n",
    "    while c >= 7 : \n",
    "        print (\"Please enter a valid option...from 1-6\")\n",
    "        c = int(input(\"Enter your choice:  \"))       \n",
    "\n",
    "    x = int(input(\"Enter first value:  \")) \n",
    "    y = int(input(\"Enter second value: \"))\n",
    "\n",
    "    if c == 1:\n",
    "        print (x+y) \n",
    "    elif c == 2: \n",
    "            print (x-y)\n",
    "    elif c == 3:\n",
    "            print (x*y)\n",
    "    elif c == 4:\n",
    "            print (x/y)\n",
    "    elif c == 5:\n",
    "            print (x//y)\n",
    "    elif c == 6:\n",
    "            print (x**y)\n",
    "\n",
    "    p = input (\"Do you want to perform another calculation? (Enter y/n): \")\n",
    "\n",
    "if p == \"y\":\n",
    "    print (\"Starting next round...\")\n",
    "\n",
    "    \n",
    "    while  p!=\"y\": \n",
    "        print (\"Please enter a valid option...\")\n",
    "        p = input (\"Enter y/n:  \")\n",
    "\n",
    "    while p!=\"n\": \n",
    "        print (\"Please enter a valid option...\")\n",
    "        p = input (\"Enter y/n:  \")"
   ]
  },
  {
   "cell_type": "markdown",
   "metadata": {},
   "source": [
    "## b) Create a better billing system for PlusPoint Hypermarket\n",
    "\n",
    "Ask the user for entering an item repeatedly\n",
    "\n",
    "Come up with your own pricing mechanisms :)\n",
    "\n",
    "You could even ask the user to enter the price they want, but then they could just enter 0 for everything... Not ideal for a real supermarket huh?\n",
    "\n",
    "I just want to see how you would do the pricing part, there's no penalty for allowing the user to enter their own prices, but if you have a better idea, then please do show me!\n",
    "\n",
    "### Example interaction (very important, read the whole thing):\n",
    "\n",
    "<pre>\n",
    "Enter the number of items you want to buy: 4\n",
    "Enter an Item name: Lays Indian Masala Flavour\n",
    "Enter the Cost: 20\n",
    "Enter the Quantity you wish to purchase: 2\n",
    "Enter an Item name: Pepsi 600ml\n",
    "Enter the Cost: 80\n",
    "Enter the Quantity you wish to purchase: 2\n",
    "Enter an Item name: Tissue Papers\n",
    "Enter the Cost: 0\n",
    "Enter the Quantity you wish to purchase: 50\n",
    "Please enter a more realistic price and quantity ;)\n",
    "Enter an Item name: Tissue Papers\n",
    "Enter the Cost: 2000000000\n",
    "Enter the Quantity you wish to purchase: 50\n",
    "Please enter a more realistic price ;)\n",
    "Enter an Item name: Tissue Papers\n",
    "Enter the Cost: 50\n",
    "Enter the Quantity you wish to purchase: 50\n",
    "Enter an Item name: Maida 1kg\n",
    "Enter the Cost: 40\n",
    "Enter the Quantity you wish to purchase: 3\n",
    "\n",
    "\t\t\t\tPlus Point Hypermarket\n",
    "                \n",
    "| Name                  | Cost      | Quantity  | Total          |\n",
    " ________________________________________________________________\n",
    "| Lays Indian Ma        | 20.0      | 2         | 40.0           |\n",
    "| Pepsi 600ml           | 80.0      | 2         | 160.0          |\n",
    "| Tissue Papers         | 50.0      | 50        | 2500.0         |\n",
    "| Maida 1kg             | 40.0      | 3         | 120.0          |\n",
    "</pre>"
   ]
  },
  {
   "cell_type": "code",
   "execution_count": null,
   "metadata": {},
   "outputs": [],
   "source": [
    "number = int(input(\"Enter the number of items you want to buy:\"))\n",
    "\n",
    "while number >= 51 :\n",
    "    print(\"Please enter a more realistic number of items u want to buy upto - 50\")\n",
    "    number = int(input(\"Enter the number of items you want to buy:\"))\n",
    "\n",
    "for a in range(number):\n",
    "\n",
    "    item = input(\" Enter an Item name:  \")\n",
    "    if len(item) > 10:\n",
    "        item = item[0:10]\n",
    "        \n",
    "        \n",
    "    price = int(input(\" Enter the price: \"))\n",
    "    while price >= 20001 :\n",
    "        print(\"Please enter a more realistic cost upto - 20000\")\n",
    "        price = int(input(\" Enter the price: \"))\n",
    "        \n",
    "        \n",
    "    quantity = int(input(\" Enter the Quantity you wish to purchase: \"))\n",
    "    while quantity  >= 51:\n",
    "        print (\"Please enter a more realistic quantity :  \")\n",
    "        quantity = int(input(\" Enter the Quantity you wish to purchase: \"))\n",
    "        \n",
    "    total = (price*quantity)\n",
    "    \n",
    "    \n",
    "#when we r running the command with the particular variable , the old value of the variable\n",
    "# is replaced by the new value....... y is this happening????    \n",
    "\n",
    "    \n",
    "print(\"\\n\\n\\t\\t pluspoint hyper market\")\n",
    "print(\"____________________________________________________________________\")\n",
    "print(\"item name\\t\\tprice\\t\\t quantity \\t total cost\")\n",
    "print(item ,\"\\t\\t\",price ,\"\\t\\t\", quantity ,\"\\t\\t\\t\",total )\n",
    "    "
   ]
  }
 ],
 "metadata": {
  "kernelspec": {
   "display_name": "Python 3",
   "language": "python",
   "name": "python3"
  },
  "language_info": {
   "codemirror_mode": {
    "name": "ipython",
    "version": 3
   },
   "file_extension": ".py",
   "mimetype": "text/x-python",
   "name": "python",
   "nbconvert_exporter": "python",
   "pygments_lexer": "ipython3",
   "version": "3.7.6"
  }
 },
 "nbformat": 4,
 "nbformat_minor": 4
}
