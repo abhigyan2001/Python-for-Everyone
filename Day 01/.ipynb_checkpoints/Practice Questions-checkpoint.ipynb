{
 "cells": [
  {
   "cell_type": "markdown",
   "metadata": {},
   "source": [
    "# 0. Hello, World! (v0.0)\n",
    "\n",
    "##### (Level: Pre Alpha Minus) \n",
    "\n",
    "(go read Diary of a Wimpy Kid if you didn't get that reference :D)\n",
    "\n",
    "You have just begun your coding journey. As a rite of passage, it is important to write the \"Hello, World\" program.\n",
    "\n",
    "That's it. Seriously. Now, get going!"
   ]
  },
  {
   "cell_type": "code",
   "execution_count": null,
   "metadata": {},
   "outputs": [],
   "source": []
  },
  {
   "cell_type": "markdown",
   "metadata": {},
   "source": [
    "<details>\n",
    "  <summary>Solution</summary>\n",
    "    \n",
    "  You really shouldn't be needing this solution... It's here just out of formality :D\n",
    "    \n",
    "  ```python\n",
    "    print(\"Hello, World!\")\n",
    "  ```\n",
    "\n",
    "</details>"
   ]
  },
  {
   "cell_type": "markdown",
   "metadata": {},
   "source": [
    "# 1. Hello, World! (v0.1)\n",
    "\n",
    "##### (Level: -_-)\n",
    "\n",
    "You have just begun your coding journey. As a rite of passage, it is important to write the Hello, World program.\n",
    "In a weird twist though, I need you to write it in a function!\n",
    "\n",
    "## Input/Output\n",
    "\n",
    "No inputs are required in this one.\n",
    "\n",
    "**[output] string**\n",
    "\n",
    "The string `\"Hello, World!\"` should be the output."
   ]
  },
  {
   "cell_type": "code",
   "execution_count": null,
   "metadata": {},
   "outputs": [],
   "source": [
    "def helloWorld():\n",
    "    #hint: don't use the \"print()\" function, use the \"return\" keyword\n",
    "    #put your code below this line ⇩\n",
    "    "
   ]
  },
  {
   "cell_type": "markdown",
   "metadata": {},
   "source": [
    "Check the following test case: (the output should be \"Hello, World!\", in case you're still wondering ;))"
   ]
  },
  {
   "cell_type": "code",
   "execution_count": null,
   "metadata": {},
   "outputs": [],
   "source": [
    "print(helloWorld())"
   ]
  },
  {
   "cell_type": "markdown",
   "metadata": {},
   "source": [
    "<details>\n",
    "  <summary>Solution</summary>\n",
    "    \n",
    "  ```python\n",
    "    def helloWorld():\n",
    "        return \"Hello, World!\"\n",
    "  ```\n",
    "</details>"
   ]
  },
  {
   "cell_type": "markdown",
   "metadata": {},
   "source": [
    "# 2. Are Prizes Ok?\n",
    "\n",
    "##### (Easy)\n",
    "\n",
    "A programming competition is going to be held in your town and the organizers have given you the prizes they are planning to give to the first, second, and third places. \n",
    "\n",
    "Of course the prize for the first place must not be smaller than that for the second place, and the prize for the second place must not be smaller than that for the third place. \n",
    "\n",
    "Your task is to make sure the prizes do not violate the principles mentioned above.\n",
    "\n",
    "## Example\n",
    "\n",
    "For `first = 10`, `second = 5`, and `third = 5`, the output should be\n",
    "\n",
    "`arePrizesOK(first, second, third) = true`\n",
    "\n",
    "## Input/Output\n",
    "\n",
    "**[input] integer first**\n",
    "\n",
    "The prize intended for the first place, a non-negative integer.\n",
    "\n",
    "*Guaranteed constraints:*\n",
    "0 ≤ first ≤ 10.\n",
    "\n",
    "**[input] integer second**\n",
    "\n",
    "The prize intended for the second place, a non-negative integer.\n",
    "\n",
    "*Guaranteed constraints:*\n",
    "0 ≤ second ≤ 10.\n",
    "\n",
    "**[input] integer third**\n",
    "\n",
    "The prize intended for the third place, a non-negative integer.\n",
    "\n",
    "*Guaranteed constraints:*\n",
    "0 ≤ third ≤ 10.\n",
    "\n",
    "**[output] boolean**\n",
    "\n",
    "`True` if the prizes are correct, `False` otherwise.\n",
    "\n",
    "(This coding problem was taken from [CodeSignal](https://app.codesignal.com/tournaments/hBcZ6FLaqrCbDuDKM/D/))"
   ]
  },
  {
   "cell_type": "code",
   "execution_count": null,
   "metadata": {},
   "outputs": [],
   "source": [
    "def arePrizesOk(first, second, third):\n",
    "    #put your code below this line ⇩\n",
    "    "
   ]
  },
  {
   "cell_type": "markdown",
   "metadata": {},
   "source": [
    "<details>\n",
    "  <summary>Solution (don't open this until you get the answer)</summary>\n",
    "  \n",
    "  Solution code:\n",
    "  \n",
    "  ```python\n",
    "  def arePrizesOK(first, second, third):\n",
    "      if first >= second and second >= third:\n",
    "          return True\n",
    "      else:\n",
    "          return False\n",
    "  ```\n",
    "  \n",
    "  This should make sense, and if it doesn't, you really need to review today's material once\n",
    "</details>"
   ]
  },
  {
   "cell_type": "markdown",
   "metadata": {},
   "source": [
    "Run the following test cases, if your function is the correct one, you should see only `True` in the output of each line:"
   ]
  },
  {
   "cell_type": "code",
   "execution_count": null,
   "metadata": {},
   "outputs": [],
   "source": [
    "print(arePrizesOk(10, 9, 8) == True)\n",
    "print(arePrizesOk(1, 2, 3) == False)\n",
    "print(arePrizesOk(10, 10, 10) == True)\n",
    "print(arePrizesOk(10, 5, 5) == True)\n",
    "print(arePrizesOk(8, 6, 7) == True)"
   ]
  },
  {
   "cell_type": "markdown",
   "metadata": {},
   "source": [
    "# 3. Matching the String\n",
    "\n",
    "##### (Medium)\n",
    "\n",
    "Given a `pattern` string and a `test` string, your task is to implement regex substring matching. If `pattern` is preceded by a `^`, the pattern, excluding the `^`, will be matched with the _starting position_ of the `test` string.\n",
    "\n",
    "If `pattern` is followed by a `$`, the pattern, excluding the `$`, will be matched with the _ending position_ of the `test` string. \n",
    "\n",
    "If no such markers are present, check whether `pattern` is a substring of `test`, regardless of its position.\n",
    "\n",
    "## Example\n",
    "\n",
    "For pattern = \"^code\" and test = \"codesignal\", the output should be:\n",
    "\n",
    "```matchingTheString(pattern, test) = True```\n",
    "\n",
    "For pattern = \"nal$\" and test = \"codesignal\", the output should be:\n",
    "\n",
    "```matchingTheString(pattern, test) = True```\n",
    "\n",
    "For pattern = \"hello\" and test = \"world\", the output should be:\n",
    "\n",
    "```matchingTheString(pattern, test) = False```\n",
    "\n",
    "\n",
    "## Input/Output\n",
    "\n",
    "**[input] string pattern**\n",
    "\n",
    "A string that can contain lowercase English characters, `^`, or `$`.\n",
    "\n",
    "_Guaranteed constraints_ :\n",
    "\n",
    "1 ≤ pattern.length ≤ $10^5$.\n",
    "\n",
    "**[input] string test**\n",
    "\n",
    "A string composed of lowercase English characters.\n",
    "\n",
    "_Guaranteed constraints_ :\n",
    "\n",
    "1 ≤ test.length ≤ $10^5$.\n",
    "\n",
    "**[output] boolean**\n",
    "\n",
    "Return `True` if the test string matches the given pattern, otherwise return `False`.\n",
    "\n",
    "(This coding problem was taken from [CodeSignal](https://app.codesignal.com/tournaments/hBcZ6FLaqrCbDuDKM/E/))"
   ]
  },
  {
   "cell_type": "code",
   "execution_count": null,
   "metadata": {},
   "outputs": [],
   "source": [
    "def matchingTheString(pattern, test):\n",
    "    #put your code below this line ⇩\n",
    "    "
   ]
  },
  {
   "cell_type": "markdown",
   "metadata": {},
   "source": [
    "<details>\n",
    "  <summary>Solution (Don't open this until you've tried really hard and still aren't getting it)</summary>\n",
    "  \n",
    "  ```python\n",
    "  def matchingTheString(pattern, test):\n",
    "      if pattern[0]=='^' and pattern[1:] == test[0:len(pattern)-1]:\n",
    "          return True\n",
    "      elif pattern[-1]=='$' and pattern[0:len(pattern)-1] == test[len(test)-len(pattern)+1:]:\n",
    "          return True\n",
    "      elif pattern in test:\n",
    "          return True\n",
    "      else:\n",
    "          return False\n",
    "  ```\n",
    "  \n",
    "  This should make sense... If it doesn't, review the Day 2 material once\n",
    "</details>"
   ]
  },
  {
   "cell_type": "markdown",
   "metadata": {},
   "source": [
    "Run the following test cases, and if your function is the correct one, you should see only `True` in the output of each line:"
   ]
  },
  {
   "cell_type": "code",
   "execution_count": null,
   "metadata": {},
   "outputs": [],
   "source": [
    "print(matchingTheString(\"^He\", \"Hello, World\") == True)\n",
    "print(matchingTheString(\"aba\", \"abacaba\") == True)\n",
    "print(matchingTheString(\"aba$\", \"abacaba\") == True)\n",
    "print(matchingTheString(\"rocks$\", \"Python Rocks\") == False)\n",
    "print(matchingTheString(\"mbar\", \"embarcadero\") == True)"
   ]
  },
  {
   "cell_type": "markdown",
   "metadata": {},
   "source": [
    "<details>\n",
    "  <summary>Solution (don't open until you get the answer)</summary>\n",
    "  \n",
    "  Solution code:\n",
    "  \n",
    "  ```python\n",
    "  import re\n",
    "      def matchingTheString(pattern, test):\n",
    "      if re.search(pattern, test)!=None:\n",
    "          return True\n",
    "      else:\n",
    "          return False\n",
    "  ```\n",
    "  \n",
    "  Didn't understand? I thought so... Now go back and try by yourself! (This is the most optimized solution, which uses the Python regex library, i.e. `re`. If you want to learn more, click [this](https://docs.python.org/3/library/re.html) link)\n",
    "</details>"
   ]
  }
 ],
 "metadata": {
  "kernelspec": {
   "display_name": "Python 3",
   "language": "python",
   "name": "python3"
  },
  "language_info": {
   "codemirror_mode": {
    "name": "ipython",
    "version": 3
   },
   "file_extension": ".py",
   "mimetype": "text/x-python",
   "name": "python",
   "nbconvert_exporter": "python",
   "pygments_lexer": "ipython3",
   "version": "3.7.4"
  }
 },
 "nbformat": 4,
 "nbformat_minor": 2
}
