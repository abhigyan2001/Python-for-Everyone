{
 "cells": [
  {
   "cell_type": "markdown",
   "metadata": {},
   "source": [
    "# Question 1: Prime Numbers\n",
    "\n",
    "Check if a given number `n` is prime. (It will be given as the parameter of a function)\n",
    "\n",
    "A number is said to be prime if its only factors are 1 and the number itself. Note that 1 is not prime either.\n",
    "\n",
    "<details>\n",
    "  <summary>Hint</summary>\n",
    "    Try going through all the numbers below n in a for-loop starting from 2, and then check if n gives zero remainder when divided by the loop variable.\n",
    "</details>"
   ]
  },
  {
   "cell_type": "code",
   "execution_count": null,
   "metadata": {},
   "outputs": [],
   "source": [
    "def isPrime(n):\n",
    "    # put your code below this line:\n",
    "    "
   ]
  },
  {
   "cell_type": "markdown",
   "metadata": {},
   "source": [
    "# Question 2: Palindrome Numbers\n",
    "\n",
    "Check if a given number `n` is a palindrome. (It will be given as the parameter of a function)\n",
    "\n",
    "A number is said to be a palindrome if it is the same when reversed.\n",
    "\n",
    "## Examples:\n",
    "\n",
    "`isPalindrome(1221)` should return `True`\n",
    "\n",
    "`isPalindrome(91919)` should return `True`\n",
    "\n",
    "`isPalindrome(345)` should return `False`\n",
    "\n",
    "`isPalindrome(\"malayalam\")` should return `False` as `\"malayalam\"` is not a number even though it is a palindrome word.\n"
   ]
  },
  {
   "cell_type": "code",
   "execution_count": null,
   "metadata": {},
   "outputs": [],
   "source": [
    "def isPalindrome(n):\n",
    "    # put your code below this line:\n",
    "    "
   ]
  },
  {
   "cell_type": "markdown",
   "metadata": {},
   "source": [
    "# Bonus Question 1: List Comprehensions\n",
    "\n",
    "Figure out the result of the following code and then read up a bit on [List Comprehensions](https://www.digitalocean.com/community/tutorials/understanding-list-comprehensions-in-python-3) if you feel intrigued...\n",
    "\n",
    "More links:\n",
    "\n",
    "https://www.python-course.eu/python3_list_comprehension.php\n",
    "\n",
    "https://www.programiz.com/python-programming/list-comprehension"
   ]
  },
  {
   "cell_type": "code",
   "execution_count": null,
   "metadata": {},
   "outputs": [],
   "source": [
    "x = [t**2 for t in range(20) if t%2 != 0]\n",
    "print(x)"
   ]
  },
  {
   "cell_type": "markdown",
   "metadata": {},
   "source": [
    "# Bonus Question 2: The Farm Problem\n",
    "\n",
    "You will be given a list which contains any one of \"cow\", \"sheep\", \"pig\", \"hen\", \"duck\" or \"farmer\". What you need to do is find the total number of legs on the farm!\n",
    "\n",
    "## Example:\n",
    "\n",
    "`farm([\"farmer\", \"farmer\", \"sheep\", \"sheep\", \"sheep\", \"sheep\", \"sheep\", \"sheep\", \"hen\", \"hen\", \"hen\", \"hen\", \"pig\", \"pig\", \"pig\"])` should return `48`.\n",
    "\n",
    "`farm([\"farmer\", \"farmer\", \"cow\", \"cow\", \"sheep\", \"sheep\", \"pig\", \"pig\", \"hen\", \"hen\", \"duck\", duck])` should return `36`.\n",
    "\n",
    "(Each farmer has 2 legs, cows, sheep, and pigs have 4, while hens and ducks have 2.)"
   ]
  },
  {
   "cell_type": "code",
   "execution_count": null,
   "metadata": {},
   "outputs": [],
   "source": [
    "def farm(listOfAnimals):\n",
    "    # put your code below this line\n",
    "    "
   ]
  }
 ],
 "metadata": {
  "kernelspec": {
   "display_name": "Python 3",
   "language": "python",
   "name": "python3"
  },
  "language_info": {
   "codemirror_mode": {
    "name": "ipython",
    "version": 3
   },
   "file_extension": ".py",
   "mimetype": "text/x-python",
   "name": "python",
   "nbconvert_exporter": "python",
   "pygments_lexer": "ipython3",
   "version": "3.7.6"
  }
 },
 "nbformat": 4,
 "nbformat_minor": 4
}
