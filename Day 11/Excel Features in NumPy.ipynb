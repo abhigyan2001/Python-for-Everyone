{
 "cells": [
  {
   "cell_type": "markdown",
   "metadata": {},
   "source": [
    "# Common Excel tasks demonstrated in NumPy"
   ]
  },
  {
   "cell_type": "code",
   "execution_count": 1,
   "metadata": {},
   "outputs": [],
   "source": [
    "import numpy as np"
   ]
  },
  {
   "cell_type": "markdown",
   "metadata": {},
   "source": [
    "## Mean of a list/array:"
   ]
  },
  {
   "cell_type": "code",
   "execution_count": 2,
   "metadata": {},
   "outputs": [
    {
     "name": "stdout",
     "output_type": "stream",
     "text": [
      "500.5\n"
     ]
    }
   ],
   "source": [
    "x = np.arange(1,1001)\n",
    "print(np.mean(x))"
   ]
  },
  {
   "cell_type": "markdown",
   "metadata": {},
   "source": [
    "## Sum of a list/array:"
   ]
  },
  {
   "cell_type": "code",
   "execution_count": 6,
   "metadata": {},
   "outputs": [
    {
     "name": "stdout",
     "output_type": "stream",
     "text": [
      "5050\n",
      "200\n",
      "[[  1   2   3   4   5   6   7   8   9  10]\n",
      " [ 11  12  13  14  15  16  17  18  19  20]\n",
      " [ 21  22  23  24  25  26  27  28  29  30]\n",
      " [ 31  32  33  34  35  36  37  38  39  40]\n",
      " [ 41  42  43  44  45  46  47  48  49  50]\n",
      " [ 51  52  53  54  55  56  57  58  59  60]\n",
      " [ 61  62  63  64  65  66  67  68  69  70]\n",
      " [ 71  72  73  74  75  76  77  78  79  80]\n",
      " [ 81  82  83  84  85  86  87  88  89  90]\n",
      " [ 91  92  93  94  95  96  97  98  99 100]]\n",
      "5050\n"
     ]
    }
   ],
   "source": [
    "npsum = np.sum(np.arange(1,101))\n",
    "print(npsum)\n",
    "\n",
    "npsum2 = np.sum(np.repeat(2,100))\n",
    "print(npsum2)\n",
    "\n",
    "s = np.arange(1,101).reshape(10,10)\n",
    "print(s)\n",
    "print(np.sum(s))"
   ]
  },
  {
   "cell_type": "markdown",
   "metadata": {},
   "source": [
    "## Rounding off all elements of a list/array:"
   ]
  },
  {
   "cell_type": "code",
   "execution_count": 8,
   "metadata": {},
   "outputs": [
    {
     "name": "stdout",
     "output_type": "stream",
     "text": [
      "Before rounding:\n",
      " [[12.06544071 11.357109   16.41986226]\n",
      " [12.95729909 15.33178946 15.33591147]\n",
      " [15.15483045 12.82748635 16.48868613]]\n",
      "\n",
      "Nearest integer:\n",
      " [[12. 11. 16.]\n",
      " [13. 15. 15.]\n",
      " [15. 13. 16.]]\n",
      "\n",
      "3 decimal points:\n",
      " [[12.065 11.357 16.42 ]\n",
      " [12.957 15.332 15.336]\n",
      " [15.155 12.827 16.489]]\n",
      "\n",
      "Nearest 10s:\n",
      " [[10. 10. 20.]\n",
      " [10. 20. 20.]\n",
      " [20. 10. 20.]]\n"
     ]
    }
   ],
   "source": [
    "unrounded = np.random.uniform(10,20,[3,3])\n",
    "print(\"Before rounding:\\n\",unrounded)\n",
    "\n",
    "# rounding it to the nearest integer\n",
    "roundedint = np.around(unrounded, decimals = 0) # array round\n",
    "print(\"\\nNearest integer:\\n\",roundedint)\n",
    "\n",
    "# rounding it off to 3 decimal points:\n",
    "rounded3dp = np.around(unrounded, decimals = 3)\n",
    "print(\"\\n3 decimal points:\\n\",rounded3dp)\n",
    "\n",
    "# rounding it off to nearest 10s:\n",
    "rounded10s = np.around(unrounded, decimals = -1)\n",
    "print(\"\\nNearest 10s:\\n\",rounded10s)"
   ]
  },
  {
   "cell_type": "markdown",
   "metadata": {},
   "source": [
    "## Generating random data (floating point values):\n",
    "\n",
    "### 1. Generating random data according to required dimensions: \n",
    "\n",
    "`np.random.rand(d0,d1,...,dn)`\n",
    "\n",
    "<sub>The dimensions are represented as d0, d1, d2... till dn, we can have as many dimensions as we want</sub>"
   ]
  },
  {
   "cell_type": "code",
   "execution_count": 10,
   "metadata": {},
   "outputs": [
    {
     "name": "stdout",
     "output_type": "stream",
     "text": [
      "[[[0.28330738 0.38133298 0.83087685 0.82183063]\n",
      "  [0.06496599 0.23133559 0.36583783 0.8233732 ]\n",
      "  [0.82237859 0.76746353 0.82928986 0.45802221]]\n",
      "\n",
      " [[0.43815622 0.7456136  0.41920555 0.00619271]\n",
      "  [0.50612402 0.18223348 0.29883527 0.01506173]\n",
      "  [0.98614652 0.00263806 0.90343806 0.9752827 ]]]\n"
     ]
    }
   ],
   "source": [
    "x = np.random.rand(2,3,4) #since we specified 3 numbers, the array produced will be 3-dimensional\n",
    "print(x)"
   ]
  },
  {
   "cell_type": "code",
   "execution_count": 12,
   "metadata": {},
   "outputs": [
    {
     "name": "stdout",
     "output_type": "stream",
     "text": [
      "[[[[0.50694116 0.52617421]\n",
      "   [0.7869556  0.67278175]]\n",
      "\n",
      "  [[0.80726536 0.15646814]\n",
      "   [0.3313481  0.25973283]]]\n",
      "\n",
      "\n",
      " [[[0.45460851 0.79172336]\n",
      "   [0.95259442 0.99163249]]\n",
      "\n",
      "  [[0.59793404 0.48100966]\n",
      "   [0.79274651 0.46079027]]]]\n"
     ]
    }
   ],
   "source": [
    "y = np.random.rand(2,2,2,2) # now you will see a 4-dimesional array:\n",
    "print(y)"
   ]
  },
  {
   "cell_type": "markdown",
   "metadata": {},
   "source": [
    "### 2. Sampling random data from a **normal distribution** according to required dimensions: \n",
    "\n",
    "`np.random.randn(d0,d1,...,dn)`"
   ]
  },
  {
   "cell_type": "code",
   "execution_count": 14,
   "metadata": {},
   "outputs": [
    {
     "name": "stdout",
     "output_type": "stream",
     "text": [
      "[[-0.69545273 -0.54190204  0.04204518  0.00465097]\n",
      " [-0.05337873 -0.5951939   0.26844583  0.02736163]\n",
      " [-0.34839288  1.05588972  1.27466176 -0.03912463]\n",
      " [-0.21496313 -1.92344064 -0.59653141 -0.54327264]\n",
      " [ 0.1944348   1.17660987  1.12904289  2.08237534]]\n",
      "0.08519326200613142\n"
     ]
    }
   ],
   "source": [
    "z = np.random.randn(5,4)\n",
    "print(z)\n",
    "\n",
    "print(np.mean(z))"
   ]
  },
  {
   "cell_type": "markdown",
   "metadata": {},
   "source": [
    "### 3. Generate random integers from low (inclusive) to high (exclusive): \n",
    "\n",
    "`np.randint(low[, high, size, dtype])` \n",
    "\n",
    "<sub>(the parameters in square brackets are optional)</sub>\n",
    "\n",
    "According to the [official numpy documentation](https://docs.scipy.org/doc/numpy-1.15.0/reference/generated/numpy.random.randint.html):\n",
    "\n",
    "Return random integers from the “discrete uniform” distribution of the specified dtype in the “half-open” interval \\[low, high). If high is None (the default), then results are from \\[0, low)."
   ]
  },
  {
   "cell_type": "code",
   "execution_count": 19,
   "metadata": {},
   "outputs": [
    {
     "name": "stdout",
     "output_type": "stream",
     "text": [
      "153\n"
     ]
    }
   ],
   "source": [
    "w = np.random.randint(256)\n",
    "print(w)"
   ]
  },
  {
   "cell_type": "code",
   "execution_count": 24,
   "metadata": {},
   "outputs": [
    {
     "name": "stdout",
     "output_type": "stream",
     "text": [
      "224\n"
     ]
    }
   ],
   "source": [
    "v = np.random.randint(128,256) #returns a single int between 128 and 256 (256 excluded)\n",
    "print(v)"
   ]
  },
  {
   "cell_type": "code",
   "execution_count": 25,
   "metadata": {},
   "outputs": [
    {
     "name": "stdout",
     "output_type": "stream",
     "text": [
      "[[[155 240 178 192]\n",
      "  [166 142 160 154]\n",
      "  [254 165 212 154]]\n",
      "\n",
      " [[187 226 189 210]\n",
      "  [233 161 214 254]\n",
      "  [156 182 198 193]]\n",
      "\n",
      " [[140 138 177 230]\n",
      "  [232 208 133 232]\n",
      "  [175 227 235 220]]\n",
      "\n",
      " [[211 255 214 180]\n",
      "  [197 225 128 147]\n",
      "  [252 253 224 182]]\n",
      "\n",
      " [[241 152 166 195]\n",
      "  [254 228 212 234]\n",
      "  [229 237 170 145]]\n",
      "\n",
      " [[169 190 240 145]\n",
      "  [187 213 165 203]\n",
      "  [193 188 239 227]]\n",
      "\n",
      " [[200 186 234 205]\n",
      "  [172 160 228 175]\n",
      "  [160 145 216 246]]\n",
      "\n",
      " [[160 249 228 141]\n",
      "  [154 254 158 230]\n",
      "  [221 181 237 180]]\n",
      "\n",
      " [[199 177 152 182]\n",
      "  [140 236 228 136]\n",
      "  [227 217 191 244]]\n",
      "\n",
      " [[198 248 179 166]\n",
      "  [199 189 243 164]\n",
      "  [248 227 175 161]]\n",
      "\n",
      " [[188 219 134 221]\n",
      "  [241 201 169 134]\n",
      "  [132 207 156 237]]\n",
      "\n",
      " [[173 186 231 212]\n",
      "  [223 196 210 130]\n",
      "  [175 218 167 176]]]\n"
     ]
    }
   ],
   "source": [
    "u = np.random.randint(128,256,size = [12,3,4]) # returns a 12*3*4 3D array populated with numbers from 128 to 256 (256 excluded)\n",
    "\n",
    "# this is the same as writing np.random.randint(128,256,[12,3,4]) or np.random.randint(128,256,(12,3,4))\n",
    "# We normally write `size = [...]` so as to make it clear to the user what we are trying to achieve. \n",
    "# We may even write `low=128, high=256` and so on if we want to, but that's up to us if we want the code to be even more clear.\n",
    "print(u)"
   ]
  },
  {
   "cell_type": "code",
   "execution_count": 31,
   "metadata": {},
   "outputs": [
    {
     "name": "stdout",
     "output_type": "stream",
     "text": [
      "[[155 180 213 235]\n",
      " [129 168 153 139]\n",
      " [211 204 170 227]]\n"
     ]
    }
   ],
   "source": [
    "dtypeex = np.random.randint(128,256,size=[3,4],dtype='int32')\n",
    "print(dtypeex)"
   ]
  },
  {
   "cell_type": "markdown",
   "metadata": {},
   "source": [
    "The `dtype` is basically the data type. You may be wondering, if we are already using `int`, then what is the use of a data type?\n",
    "\n",
    "The thing is, numpy actually has a lot more data types (np.int, np.int32, np.int64, and long_int, etc.) which are more exact representations of int in the memory. This option enables us to choose this, but it is not used generally, unless we have a very low memory budget."
   ]
  },
  {
   "cell_type": "markdown",
   "metadata": {},
   "source": [
    "### 3.1 Generate random integers of a fixed data type:\n",
    "\n",
    "`np.random.random_integers(low[, high, size])` => Same as the previous function except we can't choose the datatype, which is set to `np.int` by default.\n",
    "\n",
    "It is deprecated (i.e. no longer supported) in the latest version of numpy, which is why I get the warning below:"
   ]
  },
  {
   "cell_type": "code",
   "execution_count": 26,
   "metadata": {},
   "outputs": [
    {
     "name": "stderr",
     "output_type": "stream",
     "text": [
      "/home/abhigyan/anaconda3/lib/python3.7/site-packages/ipykernel_launcher.py:1: DeprecationWarning: This function is deprecated. Please call randint(0, 12 + 1) instead\n",
      "  \"\"\"Entry point for launching an IPython kernel.\n"
     ]
    }
   ],
   "source": [
    "t = np.random.random_integers(0,12,[3,4])"
   ]
  },
  {
   "cell_type": "markdown",
   "metadata": {},
   "source": [
    "### 4. Generate random floats in the half-open interval \\[0.0,1.0):\n",
    "\n",
    "<sub>Half open means that 0.0 is included but 1.0 is excluded</sub>\n",
    "\n",
    "`np.random.ranf([size])` or \n",
    "`np.random.random_sample([size])` or \n",
    "`np.random.random([size])` or \n",
    "`np.random.sample([size])`\n",
    "\n",
    "(This time, python provides 4 ways of achieving the exact same result... Kinda silly in my opinion, but maybe there's a deeper reason we don't understand yet)"
   ]
  },
  {
   "cell_type": "code",
   "execution_count": 32,
   "metadata": {},
   "outputs": [
    {
     "name": "stdout",
     "output_type": "stream",
     "text": [
      "0.0030537178642814355\n",
      "[[0.81209879 0.60242043 0.83010351]\n",
      " [0.97065229 0.78155169 0.24787665]]\n",
      "[[0.87701759 0.67727621 0.43267668]\n",
      " [0.55826618 0.36070767 0.40046248]]\n",
      "[[0.15956314 0.4679746  0.91486154]\n",
      " [0.13070212 0.9603646  0.79049235]]\n"
     ]
    }
   ],
   "source": [
    "p = np.random.ranf() # if you skip the [size] parameter, then it just returns a single value. \n",
    "# Try it out in the other ones by yourself\n",
    "print(p)\n",
    "q = np.random.random([2,3])\n",
    "print(q)\n",
    "r = np.random.random_sample([2,3])\n",
    "print(r)\n",
    "s = np.random.sample([2,3])\n",
    "print(s)"
   ]
  },
  {
   "cell_type": "markdown",
   "metadata": {},
   "source": [
    "### 5. Generate random floats in a chosen interval:\n",
    "\n",
    "`np.random.uniform(start, stop, [size])`"
   ]
  },
  {
   "cell_type": "code",
   "execution_count": 37,
   "metadata": {},
   "outputs": [
    {
     "name": "stdout",
     "output_type": "stream",
     "text": [
      "[[39.19448391  4.3300741  34.00385909 22.10522948 87.64393126]\n",
      " [48.8587886  40.8844031  85.4685101  29.37359622 73.94492133]]\n",
      "[[81.33350253 93.5185062  34.39636715  4.29191106 80.50803482]\n",
      " [72.59846534 14.87224422 29.31082992 82.40902121 78.25529668]]\n"
     ]
    }
   ],
   "source": [
    "ubiquity = np.random.uniform(-10,100, [2,5])\n",
    "print(ubiquity)\n",
    "\n",
    "ubiquity2 = 100*np.random.ranf([2,5])\n",
    "print(ubiquity2)"
   ]
  },
  {
   "cell_type": "markdown",
   "metadata": {},
   "source": [
    "### 6. Choose one number randomly from a list of numbers you enter yourself:\n",
    "\n",
    "`np.random.choice(a[, size, replace, p])`\n",
    "\n",
    "`a`: The array you want to choose values from. If you enter a single int `n`, then it will treat it as the array `arange(n)`.\n",
    "\n",
    "`size`: The shape of the output array\n",
    "\n",
    "`replace`: Whether you don't mind getting the same values again (if replace=True, you may get the same numbers more than once, else you will get each number only once)\n",
    "\n",
    "`p`: The probability associated with each element: So if you want one element to occur more often than the others, you basically use the `p` array. The size of the `p` array must be the same as that of the `a` array."
   ]
  },
  {
   "cell_type": "code",
   "execution_count": 41,
   "metadata": {},
   "outputs": [
    {
     "name": "stdout",
     "output_type": "stream",
     "text": [
      "3\n"
     ]
    }
   ],
   "source": [
    "l = np.random.choice(np.arange(2,13))\n",
    "print(l) # it will choose a single number from the arange(0,12)\n",
    "\n",
    "# 2 = 1 + 1\n",
    "# 3 = 1 + 2 or 2 + 1\n",
    "# 4 = 1 + 3 or 2 + 2 or 3 + 1\n",
    "# 7 = 1 + 6 or 2 + 5 or 3 + 4 or 4 + 3 or 5 + 2 or 6 + 1\n",
    "# 8 = 2 + 6 or 3+5 or 4+4 or 5+3 or 6+2"
   ]
  },
  {
   "cell_type": "code",
   "execution_count": 42,
   "metadata": {},
   "outputs": [
    {
     "name": "stdout",
     "output_type": "stream",
     "text": [
      "[[  1 123   0  12]\n",
      " [  0 123   0 123]]\n"
     ]
    }
   ],
   "source": [
    "m = np.random.choice([123,12,1,0],size = [2,4])\n",
    "print(m)"
   ]
  },
  {
   "cell_type": "code",
   "execution_count": 45,
   "metadata": {},
   "outputs": [
    {
     "name": "stdout",
     "output_type": "stream",
     "text": [
      "[['45' '65']\n",
      " ['45' '123']]\n",
      "[['45' '1']\n",
      " ['123' '65']]\n",
      "[47 75 43  9  4 17 25 60 82 18 36 88 56 64 81 51 72  1 68 34 89  5 37 11\n",
      " 55 65 13 70 59 96  0 20  6 41 58 19 97 26 49 53 63 44 15  8 30 62  2 84\n",
      " 40 27 77 94 91  7 21 76 74 45 10 24 85 83 32 35 38 99 39 57 95 86 92 80\n",
      " 71 73 23  3 46 67 28 50 48 16 52 22 79 29 12 66 14 78 61 90 54 42 87 31\n",
      " 33 69 93 98]\n"
     ]
    }
   ],
   "source": [
    "n = np.random.choice([123,12,1,0,45,65,78,90.5,\"Hi\"],size=[2,2], replace=True)\n",
    "print(n)\n",
    "\n",
    "o = np.random.choice([123,12,1,0,45,65,78,90.5,\"Hi\"],size=[2,2], replace=False)\n",
    "print(o)\n",
    "\n",
    "tambola = np.random.choice(100,size=[100],replace = False)\n",
    "print(tambola)"
   ]
  },
  {
   "cell_type": "markdown",
   "metadata": {},
   "source": [
    "### 7. Shuffle a sequence:\n",
    "\n",
    "`np.random.shuffle(X)`"
   ]
  },
  {
   "cell_type": "code",
   "execution_count": 48,
   "metadata": {},
   "outputs": [
    {
     "name": "stdout",
     "output_type": "stream",
     "text": [
      "[ 0  1  2  3  4  5  6  7  8  9 10 11 12 13 14 15 16 17 18 19]\n",
      "[ 8  0 12 13 18 11  2 16  5 17  3 19  1 10 14  9  6  4 15  7]\n",
      "[ 3 84 83 28 74 17 56 21 63 50 80 90 92 57 93 81 71 94 78 12 82 41 98 66\n",
      " 89 11 85 24 91 79 36 45 13 27 62  2 16 97 39 58 52 26  1  7 75 30 15 10\n",
      " 20 46 60 47 35 22 64 33 69  8 25 67 73 48 42 87 68 23 53 54 88 18 32 86\n",
      " 96 40 37 14 31  6 59 65  9 99  5 61 72 51 55 70 29 77 76  0 19  4 95 43\n",
      " 49 34 44 38]\n"
     ]
    }
   ],
   "source": [
    "a = np.arange(20)\n",
    "print(a)\n",
    "np.random.shuffle(a)\n",
    "print(a)\n",
    "\n",
    "tambola = np.arange(100)\n",
    "\n",
    "np.random.shuffle(tambola)\n",
    "\n",
    "print(tambola)\n",
    "# You could use this to shuffle your music if you use it along with the ffmpeg library, definitely go check it out!"
   ]
  },
  {
   "cell_type": "code",
   "execution_count": null,
   "metadata": {},
   "outputs": [],
   "source": []
  }
 ],
 "metadata": {
  "kernelspec": {
   "display_name": "Python 3",
   "language": "python",
   "name": "python3"
  },
  "language_info": {
   "codemirror_mode": {
    "name": "ipython",
    "version": 3
   },
   "file_extension": ".py",
   "mimetype": "text/x-python",
   "name": "python",
   "nbconvert_exporter": "python",
   "pygments_lexer": "ipython3",
   "version": "3.7.6"
  }
 },
 "nbformat": 4,
 "nbformat_minor": 4
}
