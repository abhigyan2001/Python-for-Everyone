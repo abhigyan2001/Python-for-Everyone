{
 "cells": [
  {
   "cell_type": "markdown",
   "metadata": {},
   "source": [
    "# Common Excel tasks demonstrated in NumPy"
   ]
  },
  {
   "cell_type": "code",
   "execution_count": 1,
   "metadata": {},
   "outputs": [],
   "source": [
    "import numpy as np"
   ]
  },
  {
   "cell_type": "markdown",
   "metadata": {},
   "source": [
    "## Mean of a list/array:"
   ]
  },
  {
   "cell_type": "code",
   "execution_count": 2,
   "metadata": {},
   "outputs": [
    {
     "name": "stdout",
     "output_type": "stream",
     "text": [
      "500.5\n"
     ]
    }
   ],
   "source": [
    "x = np.arange(1,1001)\n",
    "print(np.mean(x))"
   ]
  },
  {
   "cell_type": "markdown",
   "metadata": {},
   "source": [
    "## Sum of a list/array:"
   ]
  },
  {
   "cell_type": "code",
   "execution_count": 3,
   "metadata": {},
   "outputs": [
    {
     "name": "stdout",
     "output_type": "stream",
     "text": [
      "4950\n",
      "200\n"
     ]
    }
   ],
   "source": [
    "npsum = np.sum(np.arange(1,100))\n",
    "print(npsum)\n",
    "\n",
    "npsum2 = np.sum(np.repeat(2,100))\n",
    "print(npsum2)\n",
    "\n"
   ]
  },
  {
   "cell_type": "markdown",
   "metadata": {},
   "source": [
    "## Rounding off all elements of a list/array:"
   ]
  },
  {
   "cell_type": "code",
   "execution_count": null,
   "metadata": {},
   "outputs": [],
   "source": [
    "unrounded = np.random.uniform(10,20,[3,3])\n",
    "print(\"Before rounding:\\n\",unrounded)\n",
    "\n",
    "# rounding it to the nearest integer\n",
    "roundedint = np.around(unrounded)\n",
    "print(\"\\nNearest integer:\\n\",roundedint)\n",
    "\n",
    "# rounding it off to 3 decimal points:\n",
    "rounded3dp = np.around(unrounded, decimals = 3)\n",
    "print(\"\\n3 decimal points:\\n\",rounded3dp)\n",
    "\n",
    "# rounding it off to nearest 10s:\n",
    "rounded10s = np.around(unrounded, decimals = -1)\n",
    "print(\"\\nNearest 10s:\\n\",rounded10s)"
   ]
  },
  {
   "cell_type": "markdown",
   "metadata": {},
   "source": [
    "## Generating random data (floating point values):\n",
    "\n",
    "### 1. Generating random data according to required dimensions: \n",
    "\n",
    "`np.random.rand(d0,d1,...,dn)`\n",
    "\n",
    "<sub>The dimensions are represented as d0, d1, d2... till dn, we can have as many dimensions as we want</sub>"
   ]
  },
  {
   "cell_type": "code",
   "execution_count": null,
   "metadata": {},
   "outputs": [],
   "source": [
    "x = np.random.rand(2,3,4) #since we specified 3 numbers, the array produced will be 3-dimensional\n",
    "print(x)"
   ]
  },
  {
   "cell_type": "code",
   "execution_count": null,
   "metadata": {},
   "outputs": [],
   "source": [
    "y = np.random.rand(2,2,2,2) # now you will see a 4-dimesional array:\n",
    "print(y)"
   ]
  },
  {
   "cell_type": "markdown",
   "metadata": {},
   "source": [
    "### 2. Sampling random data from a **normal distribution** according to required dimensions: \n",
    "\n",
    "`np.random.randn(d0,d1,...,dn)`"
   ]
  },
  {
   "cell_type": "code",
   "execution_count": null,
   "metadata": {},
   "outputs": [],
   "source": [
    "z = np.random.randn(5,4)\n",
    "print(z)\n",
    "\n",
    "print(np.mean(z))"
   ]
  },
  {
   "cell_type": "markdown",
   "metadata": {},
   "source": [
    "### 3. Generate random integers from low (inclusive) to high (exclusive): \n",
    "\n",
    "`np.randint(low[, high, size, dtype])` \n",
    "\n",
    "<sub>(the parameters in square brackets are optional)</sub>\n",
    "\n",
    "According to the [official numpy documentation](https://docs.scipy.org/doc/numpy-1.15.0/reference/generated/numpy.random.randint.html):\n",
    "\n",
    "Return random integers from the “discrete uniform” distribution of the specified dtype in the “half-open” interval \\[low, high). If high is None (the default), then results are from \\[0, low)."
   ]
  },
  {
   "cell_type": "code",
   "execution_count": null,
   "metadata": {},
   "outputs": [],
   "source": [
    "w = np.random.randint(256)\n",
    "print(w)"
   ]
  },
  {
   "cell_type": "code",
   "execution_count": null,
   "metadata": {},
   "outputs": [],
   "source": [
    "v = np.random.randint(128,256) #returns a single int between 128 and 256 (256 excluded)\n",
    "print(v)"
   ]
  },
  {
   "cell_type": "code",
   "execution_count": null,
   "metadata": {},
   "outputs": [],
   "source": [
    "u = np.random.randint(128,256,size = [12,3,4]) # returns a 12*3*4 3D array populated with numbers from 128 to 256 (256 excluded)\n",
    "\n",
    "# this is the same as writing np.random.randint(128,256,[12,3,4]) or np.random.randint(128,256,(12,3,4))\n",
    "# We normally write `size = [...]` so as to make it clear to the user what we are trying to achieve. \n",
    "# We may even write `low=128, high=256` and so on if we want to, but that's up to us if we want the code to be even more clear.\n",
    "print(u)"
   ]
  },
  {
   "cell_type": "markdown",
   "metadata": {},
   "source": [
    "The `dtype` is basically the data type. You may be wondering, if we are already using `int`, then what is the use of a data type?\n",
    "\n",
    "The thing is, numpy actually has a lot more data types (int32, int64, and long int, etc.) which are more exact representations of int in the memory. This option enables us to choose this, but it is not used generally, unless we have a very low memory budget."
   ]
  },
  {
   "cell_type": "markdown",
   "metadata": {},
   "source": [
    "### 3.1 Generate random integers of a fixed data type:\n",
    "\n",
    "`np.random.random_integers(low[, high, size])` => Same as the previous function except we can't choose the datatype, which is set to `np.int` by default.\n",
    "\n",
    "It is deprecated (i.e. no longer supported) in the latest version of numpy, which is why I get the warning below:"
   ]
  },
  {
   "cell_type": "code",
   "execution_count": null,
   "metadata": {},
   "outputs": [],
   "source": [
    "t = np.random.random_integers(0,12,[3,4])"
   ]
  },
  {
   "cell_type": "markdown",
   "metadata": {},
   "source": [
    "### 4. Generate random floats in the half-open interval \\[0.0,1.0):\n",
    "\n",
    "<sub>Half open means that 0.0 is included but 1.0 is excluded</sub>\n",
    "\n",
    "`np.random.ranf([size])` or \n",
    "`np.random.random_sample([size])` or \n",
    "`np.random.random([size])` or \n",
    "`np.random.sample([size])`\n",
    "\n",
    "(This time, python provides 4 ways of achieving the exact same result... Kinda silly in my opinion, but maybe there's a deeper reason we don't understand yet)"
   ]
  },
  {
   "cell_type": "code",
   "execution_count": null,
   "metadata": {},
   "outputs": [],
   "source": [
    "p = np.random.ranf() # if you skip the [size] parameter, then it just returns a single value. \n",
    "# Try it out in the other ones by yourself\n",
    "print(p)\n",
    "q = np.random.random([2,3])\n",
    "print(q)\n",
    "r = np.random.random_sample([2,3])\n",
    "print(r)\n",
    "s = np.random.sample([2,3])\n",
    "print(s)"
   ]
  },
  {
   "cell_type": "markdown",
   "metadata": {},
   "source": [
    "### 5. Generate random floats in a chosen interval:\n",
    "\n",
    "`np.random.uniform(start, stop, [size])`"
   ]
  },
  {
   "cell_type": "code",
   "execution_count": null,
   "metadata": {},
   "outputs": [],
   "source": [
    "ubiquity = np.random.uniform(0,100, [2,5])\n",
    "print(ubiquity)"
   ]
  },
  {
   "cell_type": "markdown",
   "metadata": {},
   "source": [
    "### 6. Choose one number randomly from a list of numbers you enter yourself:\n",
    "\n",
    "`np.random.choice(a[, size, replace, p])`\n",
    "\n",
    "`a`: The array you want to choose values from. If you enter a single int `n`, then it will treat it as the array `arange(n)`.\n",
    "\n",
    "`size`: The shape of the output array\n",
    "\n",
    "`replace`: Whether you don't mind getting the same values again (if replace=True, you may get the same numbers more than once, else you will get each number only once)\n",
    "\n",
    "`p`: The probability associated with each element: So if you want one element to occur more often than the others, you basically use the `p` array. The size of the `p` array must be the same as that of the `a` array."
   ]
  },
  {
   "cell_type": "code",
   "execution_count": null,
   "metadata": {},
   "outputs": [],
   "source": [
    "l = np.random.choice(12)\n",
    "print(l) # it will choose a single number from the arange(0,12)"
   ]
  },
  {
   "cell_type": "code",
   "execution_count": null,
   "metadata": {},
   "outputs": [],
   "source": [
    "m = np.random.choice([123,12,1,0],size = [2,4])\n",
    "print(m)"
   ]
  },
  {
   "cell_type": "code",
   "execution_count": null,
   "metadata": {},
   "outputs": [],
   "source": [
    "n = np.random.choice([123,12,1,0,45,65,78,90.5,\"Hi\"],size=[2,2], replace=True)\n",
    "print(n)\n",
    "\n",
    "o = np.random.choice([123,12,1,0,45,65,78,90.5,\"Hi\"],size=[2,2], replace=False)\n",
    "print(o)"
   ]
  },
  {
   "cell_type": "markdown",
   "metadata": {},
   "source": [
    "### 7. Shuffle a sequence:\n",
    "\n",
    "`np.random.shuffle(X)`"
   ]
  },
  {
   "cell_type": "code",
   "execution_count": null,
   "metadata": {},
   "outputs": [],
   "source": [
    "a = np.arange(20)\n",
    "print(a)\n",
    "np.random.shuffle(a)\n",
    "print(a)\n",
    "\n",
    "# You could use this to shuffle your music if you use it along with the ffmpeg library, definitely go check it out!"
   ]
  }
 ],
 "metadata": {
  "kernelspec": {
   "display_name": "Python 3",
   "language": "python",
   "name": "python3"
  },
  "language_info": {
   "codemirror_mode": {
    "name": "ipython",
    "version": 3
   },
   "file_extension": ".py",
   "mimetype": "text/x-python",
   "name": "python",
   "nbconvert_exporter": "python",
   "pygments_lexer": "ipython3",
   "version": "3.7.6"
  }
 },
 "nbformat": 4,
 "nbformat_minor": 4
}
