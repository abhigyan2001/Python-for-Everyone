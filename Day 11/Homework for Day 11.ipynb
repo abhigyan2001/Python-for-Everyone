{
 "cells": [
  {
   "attachments": {},
   "cell_type": "markdown",
   "metadata": {},
   "source": [
    "# Dice Game of 7\n",
    "\n",
    "As demonstrated in the class today, I need you to create a Game of 7 using your knowledge of NumPy arrays.\n",
    "\n",
    "The rules are clear:\n",
    "\n",
    "1. There is a game conductor who conducts the game and players who play the game\n",
    "2. The Game is played with 2 dice\n",
    "3. The game conductor rolls the two dice\n",
    "4. The sum of the points of the 2 dice is considered\n",
    "5. There are Three Blocks where the player can put their money:\n",
    "        Block 1: Less than 7\n",
    "        Block 2: Equal to 7\n",
    "        Block 3: Greater than 7\n",
    "6. If the sum of points match the block where the player has put their money, then money is paid out to the player:\n",
    "        Block 1: Double the money\n",
    "        Block 2: Triple the money\n",
    "        Block 3: Double the money\n",
    "7. If the sum of points do not match the block where the player has put their money, then money is retained by the game conductor\n",
    "\n",
    "You must set 2 variables:\n",
    "1. The maximum number of players in one round\n",
    "2. Amount of money for each game per player\n",
    "\n",
    "And then, you need to create 2 dimensional numpy array with the no. of players participating, randomly distribute the players among the 3 blocks, and 'roll' 2 dice. Based on this, calculate the amount you need to pay out and the amount of money gained/lost after each game.\n",
    "\n",
    "You need not use Pandas to display the table, but if you are able to figure out how to convert a numpy Array to a pandas DataFrame, kudos to you!\n",
    "\n",
    "<details>\n",
    "  <summary>Hint</summary>\n",
    "    Try creating separate $n\\times1$ arrays for this purpose and use hstack to join them together.\n",
    "</details>\n",
    "\n",
    "Also, keep summing up the total money earned by you and show the total money earned as a ratio of the total money that was ever in circulation. (i.e. retention vs payout ratio).\n",
    "\n",
    "You don't need to make any plots, but it is highly encouraged that you try to learn it on your own."
   ]
  },
  {
   "cell_type": "code",
   "execution_count": null,
   "metadata": {},
   "outputs": [],
   "source": []
  }
 ],
 "metadata": {
  "kernelspec": {
   "display_name": "Python 3",
   "language": "python",
   "name": "python3"
  },
  "language_info": {
   "codemirror_mode": {
    "name": "ipython",
    "version": 3
   },
   "file_extension": ".py",
   "mimetype": "text/x-python",
   "name": "python",
   "nbconvert_exporter": "python",
   "pygments_lexer": "ipython3",
   "version": "3.7.6"
  }
 },
 "nbformat": 4,
 "nbformat_minor": 4
}
