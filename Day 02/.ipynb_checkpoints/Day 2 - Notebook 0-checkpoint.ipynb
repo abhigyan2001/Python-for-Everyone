{
 "cells": [
  {
   "cell_type": "markdown",
   "metadata": {},
   "source": [
    "# Homework Discussion:"
   ]
  },
  {
   "cell_type": "markdown",
   "metadata": {},
   "source": [
    "## 0. Hello, World! (v0.0)\n",
    "\n",
    "##### (Level: Pre Alpha Minus) \n",
    "\n",
    "You have just begun your coding journey. As a rite of passage, it is important to write the \"Hello, World!\" program.\n",
    "\n",
    "That's it. Seriously. Now, get going!"
   ]
  },
  {
   "cell_type": "code",
   "execution_count": null,
   "metadata": {},
   "outputs": [],
   "source": []
  }
 ],
 "metadata": {
  "kernelspec": {
   "display_name": "Python 3",
   "language": "python",
   "name": "python3"
  },
  "language_info": {
   "codemirror_mode": {
    "name": "ipython",
    "version": 3
   },
   "file_extension": ".py",
   "mimetype": "text/x-python",
   "name": "python",
   "nbconvert_exporter": "python",
   "pygments_lexer": "ipython3",
   "version": "3.7.4"
  }
 },
 "nbformat": 4,
 "nbformat_minor": 2
}
