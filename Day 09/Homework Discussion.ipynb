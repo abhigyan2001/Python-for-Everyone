{
 "cells": [
  {
   "cell_type": "code",
   "execution_count": 3,
   "metadata": {},
   "outputs": [
    {
     "name": "stdout",
     "output_type": "stream",
     "text": [
      "[[-2.  0.]\n",
      " [-1. -1.]]\n"
     ]
    }
   ],
   "source": [
    "import numpy as np\n",
    "\n",
    "b = np.array([[4,-2],[4,0]])\n",
    "c = np.array([[-2,-2],[1,-3]])\n",
    "a = (c - b)/3\n",
    "\n",
    "print(a)"
   ]
  },
  {
   "cell_type": "code",
   "execution_count": 4,
   "metadata": {},
   "outputs": [
    {
     "name": "stdout",
     "output_type": "stream",
     "text": [
      "[[15 16 -3]\n",
      " [10 16  6]]\n",
      "[[  5  -2  16]\n",
      " [-15  -7   3]]\n"
     ]
    }
   ],
   "source": [
    "A = np.array([[1,4,-7],[8,6,0]])\n",
    "B = np.array([[7,6,2],[1,5,3]])\n",
    "\n",
    "print(A + 2 * B)\n",
    "print(B - 2 * A)"
   ]
  },
  {
   "cell_type": "code",
   "execution_count": 7,
   "metadata": {},
   "outputs": [
    {
     "name": "stdout",
     "output_type": "stream",
     "text": [
      "[[-34 -28]\n",
      " [  5   9]]\n"
     ]
    }
   ],
   "source": [
    "A_2 = np.array([[0,4,6],[3,0,-1]])\n",
    "B_2 = np.array([[0,1],[-1,2],[-5,-6]])\n",
    "\n",
    "#print(A_2 * B_2)\n",
    "print(A_2 @ B_2)"
   ]
  },
  {
   "cell_type": "code",
   "execution_count": 8,
   "metadata": {},
   "outputs": [
    {
     "name": "stdout",
     "output_type": "stream",
     "text": [
      "[[  7  24 -14]\n",
      " [  8  30   0]]\n"
     ]
    }
   ],
   "source": [
    "print(A*B)"
   ]
  },
  {
   "cell_type": "code",
   "execution_count": 10,
   "metadata": {},
   "outputs": [
    {
     "name": "stdout",
     "output_type": "stream",
     "text": [
      "[[ 0.  4.  6.]\n",
      " [ 3.  0. -1.]]\n"
     ]
    }
   ],
   "source": [
    "I = np.eye(3)\n",
    "print(A_2 @ I)"
   ]
  },
  {
   "cell_type": "code",
   "execution_count": 11,
   "metadata": {},
   "outputs": [
    {
     "name": "stdout",
     "output_type": "stream",
     "text": [
      "[[ 0.  4.  6.]\n",
      " [ 3.  0. -1.]]\n"
     ]
    }
   ],
   "source": [
    "I2 = np.eye(2)\n",
    "print(I2 @ A_2)"
   ]
  },
  {
   "cell_type": "code",
   "execution_count": 12,
   "metadata": {},
   "outputs": [
    {
     "name": "stdout",
     "output_type": "stream",
     "text": [
      "[[1. 0. 0.]\n",
      " [0. 1. 0.]\n",
      " [0. 0. 1.]]\n",
      "[[1. 0.]\n",
      " [0. 1.]]\n"
     ]
    }
   ],
   "source": [
    "print(I)\n",
    "print(I2)"
   ]
  },
  {
   "cell_type": "code",
   "execution_count": 13,
   "metadata": {},
   "outputs": [
    {
     "name": "stdout",
     "output_type": "stream",
     "text": [
      "[[ 0.  1.]\n",
      " [-1.  2.]\n",
      " [-5. -6.]]\n"
     ]
    }
   ],
   "source": [
    "print(I @ B_2)"
   ]
  },
  {
   "cell_type": "code",
   "execution_count": 14,
   "metadata": {},
   "outputs": [],
   "source": [
    "import matplotlib.pyplot as plt\n",
    "\n",
    "import scipy"
   ]
  },
  {
   "cell_type": "code",
   "execution_count": 16,
   "metadata": {},
   "outputs": [
    {
     "name": "stdout",
     "output_type": "stream",
     "text": [
      "[[ 9 12]\n",
      " [ 0  0]]\n",
      "[[ 9 16]\n",
      " [ 0  1]]\n",
      "[[ True False]\n",
      " [ True False]]\n"
     ]
    }
   ],
   "source": [
    "p = np.array([[3,4],[0,0]])\n",
    "q = np.array([[9,16],[0,1]])\n",
    "\n",
    "print(p @ p)\n",
    "print(q)\n",
    "\n",
    "print(p @ p == q)"
   ]
  },
  {
   "cell_type": "code",
   "execution_count": null,
   "metadata": {},
   "outputs": [],
   "source": []
  }
 ],
 "metadata": {
  "kernelspec": {
   "display_name": "Python 3",
   "language": "python",
   "name": "python3"
  },
  "language_info": {
   "codemirror_mode": {
    "name": "ipython",
    "version": 3
   },
   "file_extension": ".py",
   "mimetype": "text/x-python",
   "name": "python",
   "nbconvert_exporter": "python",
   "pygments_lexer": "ipython3",
   "version": "3.7.6"
  }
 },
 "nbformat": 4,
 "nbformat_minor": 4
}
