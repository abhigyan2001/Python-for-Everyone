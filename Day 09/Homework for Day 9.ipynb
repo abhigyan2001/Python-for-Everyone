{
 "cells": [
  {
   "cell_type": "markdown",
   "metadata": {},
   "source": [
    "# Find the following inverses:\n",
    "\n",
    "(First try it by hand and then use numpy to validate your answers)"
   ]
  },
  {
   "cell_type": "code",
   "execution_count": null,
   "metadata": {},
   "outputs": [],
   "source": [
    "import numpy as np\n",
    "a = np.array([[1,2,3],[4,5,6],[7,8,9]])\n",
    "\n",
    "# find a^-1\n",
    "\n",
    "b = np.eye(2)\n",
    "\n",
    "# find b^-1\n",
    "\n",
    "c = np.zeros(2)\n",
    "\n",
    "# find c^-1 if you can"
   ]
  },
  {
   "cell_type": "markdown",
   "metadata": {},
   "source": [
    "# Find the transposes of the following matrices:\n",
    "\n",
    "(Again, first try it by hand and then use numpy to validate your answers)\n",
    "\n",
    "$$\\begin{bmatrix}1 & 2 & 3 & 4 & 5\\\\ 6 & 7 & 8 & 9 & 10\\end{bmatrix}$$\n",
    "\n",
    "Try generating this matrix without actually typing it in, use the `arange()` and `reshape` functions to generate this matrix for you."
   ]
  },
  {
   "cell_type": "code",
   "execution_count": null,
   "metadata": {},
   "outputs": [],
   "source": []
  },
  {
   "cell_type": "markdown",
   "metadata": {},
   "source": [
    "# Try to figure out the output of the following codes:"
   ]
  },
  {
   "cell_type": "code",
   "execution_count": null,
   "metadata": {},
   "outputs": [],
   "source": [
    "p = np.arange(1,11).reshape(2,5)\n",
    "print(p)"
   ]
  },
  {
   "cell_type": "code",
   "execution_count": null,
   "metadata": {},
   "outputs": [],
   "source": []
  },
  {
   "cell_type": "markdown",
   "metadata": {},
   "source": [
    "# Try to figure out what the following code does:\n",
    "\n",
    "Some parts of the following code weren't covered in class. Try understanding how these functions work by yourself. We will discuss these in class again, but I want everyone to try these out since I strongly believe that what you learn through self-learning will remain much very strongly embedded in your mind than when you learn it from someone else:"
   ]
  },
  {
   "cell_type": "code",
   "execution_count": null,
   "metadata": {},
   "outputs": [],
   "source": [
    "q = np.repeat(1,10)\n",
    "print(q)\n",
    "\n",
    "q1 = q.reshape(2,-1)\n",
    "print(q1)"
   ]
  },
  {
   "cell_type": "markdown",
   "metadata": {},
   "source": [
    "<details>\n",
    "  <summary>How repeat(a,n) works:</summary>\n",
    "    <p>\n",
    "    Basically, repeat(a,n) creates a $1\\times n$ matrix and each element is set to $a$.\n",
    "    </p>\n",
    "</details>\n",
    "\n",
    "<details>\n",
    "  <summary>How reshape(a,-1) or reshape(-1,a) works:</summary>\n",
    "    <p>\n",
    "    If you want to fix the number of rows and want the columns to adjust automatically, then you use -1. As you see in the example, if you use reshape(2,-1), it basically makes sure that there are 2 rows, and changes the columns to 5 accordingly.\n",
    "    </p>\n",
    "</details>"
   ]
  },
  {
   "cell_type": "markdown",
   "metadata": {},
   "source": [
    "So now, the next one should be clear. Try it yourself:"
   ]
  },
  {
   "cell_type": "code",
   "execution_count": null,
   "metadata": {},
   "outputs": [],
   "source": [
    "p = np.arange(1,11).reshape(2,-1)\n",
    "print(p)"
   ]
  },
  {
   "cell_type": "markdown",
   "metadata": {},
   "source": [
    "# Using Matrices for solving a set of Linear Equations:\n",
    "\n",
    "One Major usage of Matrices is to solve Linear Equations. This is extremely uesful for linear programming optimization problems and other similar things, and you can definitely use this technique for various daily math problems.\n",
    "\n",
    "On doing the matrix computation below, you will see that it is the same as the 2 linear equations $a_1 x + b_1 y = c_1$ and $a_2 x + b_2 y = c_2$.\n",
    "\n",
    "$\\begin{bmatrix} a_1 & b_1 \\\\ a_2 & b_2 \\end{bmatrix} \\times \\begin{bmatrix} x \\\\ y \\end{bmatrix} = \\begin{bmatrix}c_1\\\\c_2\\end{bmatrix}$\n",
    "\n",
    "Now, if we want the value of $\\begin{bmatrix} x \\\\ y \\end{bmatrix}$, we need to premultiply both sides of this equation with the inverse of the first matrix:\n",
    "\n",
    "$\\begin{bmatrix} a_1 & b_1 \\\\ a_2 & b_2 \\end{bmatrix}^{-1} \\times \\begin{bmatrix} a_1 & b_1 \\\\ a_2 & b_2 \\end{bmatrix} \\times \\begin{bmatrix} x \\\\ y \\end{bmatrix} = \\begin{bmatrix} a_1 & b_1 \\\\ a_2 & b_2 \\end{bmatrix}^{-1} \\times\\begin{bmatrix}c_1\\\\c_2\\end{bmatrix} = \\begin{bmatrix} x \\\\ y \\end{bmatrix}$\n",
    "\n",
    "Hence, solving linear equations now becomes a simple task of just multiplying matrices! No more \"add this equation to that equation\", and definitely fewer silly mistakes.\n",
    "\n",
    "Now, you will need to take some inputs from the user and create a linear equation solver.\n",
    "\n",
    "See the User interaction below:\n",
    "\n",
    "```\n",
    "Enter the value of a1 for a1x+b1y=c1: 1\n",
    "Enter the value of b1 for a1x+b1y=c1: 0\n",
    "Enter the value of c1 for a1x+b1y=c1: 1\n",
    "Enter the value of a2 for a2x+b2y=c2: 0\n",
    "Enter the value of b2 for a2x+b2y=c2: 1\n",
    "Enter the value of c2 for a2x+b2y=c2: 1\n",
    "The values of x and y are respectively: \n",
    " [[1.]\n",
    " [1.]]\n",
    "```"
   ]
  },
  {
   "cell_type": "markdown",
   "metadata": {},
   "source": [
    "<details>\n",
    "  <summary>Solution (don't look until you solve!)</summary>\n",
    "  \n",
    "  ```python\n",
    "  a1 = float(input(\"Enter the value of a1 for a1x+b1y=c1: \"))\n",
    "  b1 = float(input(\"Enter the value of b1 for a1x+b1y=c1: \"))\n",
    "  c1 = float(input(\"Enter the value of c1 for a1x+b1y=c1: \"))\n",
    "  a2 = float(input(\"Enter the value of a2 for a2x+b2y=c2: \"))\n",
    "  b2 = float(input(\"Enter the value of b2 for a2x+b2y=c2: \"))\n",
    "  c2 = float(input(\"Enter the value of c2 for a2x+b2y=c2: \"))\n",
    "  inv1 = np.linalg.inv([[a1,b1],[a2,b2]])\n",
    "  xy = inv1 @ np.array([[c1],[c2]])\n",
    "  print(\"The values of x and y are respectively: \\n\",xy)\n",
    "  ```\n",
    "\n",
    "</details>"
   ]
  },
  {
   "cell_type": "code",
   "execution_count": null,
   "metadata": {},
   "outputs": [],
   "source": []
  }
 ],
 "metadata": {
  "kernelspec": {
   "display_name": "Python 3",
   "language": "python",
   "name": "python3"
  },
  "language_info": {
   "codemirror_mode": {
    "name": "ipython",
    "version": 3
   },
   "file_extension": ".py",
   "mimetype": "text/x-python",
   "name": "python",
   "nbconvert_exporter": "python",
   "pygments_lexer": "ipython3",
   "version": "3.7.6"
  }
 },
 "nbformat": 4,
 "nbformat_minor": 4
}
