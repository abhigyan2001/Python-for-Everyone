{
 "cells": [
  {
   "cell_type": "markdown",
   "metadata": {},
   "source": [
    "# More Matrix Operations\n",
    "\n",
    "## Transpose of a matrix\n",
    "\n",
    "When we write the rows of a matrix as its columns and the columns as its rows, then it is called the Transpose of the matrix.\n",
    "\n",
    "If $A = \\begin{bmatrix}1 & 2 & 3 & 4\\\\ 5 & 6 & 7 & 8\\end{bmatrix}$, then $A^T = \\begin{bmatrix}1 & 5 \\\\ 2 & 6\\\\ 3 & 7 \\\\ 4 & 8\\end{bmatrix}$"
   ]
  },
  {
   "cell_type": "code",
   "execution_count": null,
   "metadata": {},
   "outputs": [],
   "source": []
  },
  {
   "cell_type": "code",
   "execution_count": null,
   "metadata": {},
   "outputs": [],
   "source": []
  }
 ],
 "metadata": {
  "kernelspec": {
   "display_name": "Python 3",
   "language": "python",
   "name": "python3"
  },
  "language_info": {
   "codemirror_mode": {
    "name": "ipython",
    "version": 3
   },
   "file_extension": ".py",
   "mimetype": "text/x-python",
   "name": "python",
   "nbconvert_exporter": "python",
   "pygments_lexer": "ipython3",
   "version": "3.7.6"
  }
 },
 "nbformat": 4,
 "nbformat_minor": 4
}
