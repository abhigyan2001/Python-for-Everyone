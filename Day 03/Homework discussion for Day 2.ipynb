{
 "cells": [
  {
   "cell_type": "markdown",
   "metadata": {},
   "source": [
    "## 0. Fixed Character Width (v1)\n",
    "\n",
    "##### (Level: Easy) \n",
    "\n",
    "You are given a string as the parameter of a function. Now, you should make sure that it is EXACTLY 10 characters long.\n",
    "\n",
    "How?\n",
    "\n",
    "If the string is longer than 10 characters, remove the extra characters from the end.\n",
    "\n",
    "If the string is shorter than 10 characters, add extra blank spaces to the beginning.\n",
    "\n",
    "### Example\n",
    "\n",
    "For `fixedCharWidth(\"Big\")`, the output should be \n",
    "\n",
    "       Big\n",
    "(seven spaces before Big)\n",
    "\n",
    "For `fixedCharWidth(\"Electrodynamics\")`, the output should be \n",
    "\n",
    "Electrodyn"
   ]
  },
  {
   "cell_type": "code",
   "execution_count": 2,
   "metadata": {},
   "outputs": [],
   "source": [
    "def fixedCharWidth(word):\n",
    "    # put your code below this line ⇩\n",
    "    if len(word) > 10:\n",
    "        word = word[0:10]\n",
    "    elif len(word) < 10:\n",
    "        word = \" \"*(10-len(word)) + word\n",
    "        #word = 6*word + word\n",
    "        # \"Bigger\" => \"    Bigger\"\n",
    "    return word"
   ]
  },
  {
   "cell_type": "code",
   "execution_count": 1,
   "metadata": {},
   "outputs": [
    {
     "name": "stdout",
     "output_type": "stream",
     "text": [
      "lalala\n"
     ]
    }
   ],
   "source": [
    "print(\"la\"*3)"
   ]
  },
  {
   "cell_type": "markdown",
   "metadata": {},
   "source": [
    "Run the following test cases, if your function is the correct one, you should see only `True` in the output of each line:"
   ]
  },
  {
   "cell_type": "code",
   "execution_count": 3,
   "metadata": {},
   "outputs": [
    {
     "name": "stdout",
     "output_type": "stream",
     "text": [
      "True\n",
      "True\n",
      "True\n",
      "True\n"
     ]
    }
   ],
   "source": [
    "print(fixedCharWidth(\"Big\")==\"       Big\")\n",
    "print(fixedCharWidth(\"Electrodynamics\")==\"Electrodyn\")\n",
    "print(fixedCharWidth(\"Friends in high places\")==\"Friends in\")\n",
    "print(fixedCharWidth(\"Cheese!!!!\")==\"Cheese!!!!\")"
   ]
  },
  {
   "cell_type": "markdown",
   "metadata": {},
   "source": [
    "## 1. Fixed Character Width (v2)\n",
    "\n",
    "##### (Level: Easy)\n",
    "\n",
    "This time, you are given a string and the number of characters as the parameters of a function. \n",
    "This time, instead of 10 by default, you will have to take the number of characters from the function input as well.\n",
    "\n",
    "How?\n",
    "\n",
    "If the string is longer than n characters, remove the extra characters from the end.\n",
    "\n",
    "If the string is shorter than n characters, add extra blank spaces to the beginning.\n",
    "\n",
    "### Example\n",
    "\n",
    "For `fixedCharWidth2(\"Big\", 5)`, the output should be \n",
    "\n",
    "  Big\n",
    "(two spaces before Big)\n",
    "\n",
    "For `fixedCharWidth2(\"Electrodynamics\", 7)`, the output should be \n",
    "\n",
    "Electro"
   ]
  },
  {
   "cell_type": "code",
   "execution_count": 6,
   "metadata": {},
   "outputs": [],
   "source": [
    "def fixedCharWidth2(word, n):\n",
    "    # put your code below this line ⇩\n",
    "    if len(word) > n:\n",
    "        word = word[0:n]\n",
    "    elif len(word)<n:\n",
    "        word = \" \"*(n-len(word)) + word\n",
    "    return word"
   ]
  },
  {
   "cell_type": "markdown",
   "metadata": {},
   "source": [
    "Run the following test cases, if your function is the correct one, you should see only `True` in the output of each line:"
   ]
  },
  {
   "cell_type": "code",
   "execution_count": 8,
   "metadata": {},
   "outputs": [
    {
     "name": "stdout",
     "output_type": "stream",
     "text": [
      "Enter a number: 12\n",
      "         Big\n",
      "Electrodynam\n",
      "True\n",
      "True\n"
     ]
    }
   ],
   "source": [
    "x = int(input(\"Enter a number: \"))\n",
    "\n",
    "\n",
    "print(fixedCharWidth2(\"Big\", x))\n",
    "print(fixedCharWidth2(\"Electrodynamics\", x))\n",
    "print(fixedCharWidth2(\"Friends in high places\", 27)==\"     Friends in high places\")\n",
    "print(fixedCharWidth2(\"Cheese!!!!\",10)==\"Cheese!!!!\")\n",
    "\n",
    "#There were a few problems in the test cases from my end. Friends in high places had spaces at the end instead of\n",
    "# at the beginning and the function name used was fixedCharWidth instead of fixedCharWidth2. My apologies, but I hope that those\n",
    "# didn't deter any of you"
   ]
  },
  {
   "cell_type": "code",
   "execution_count": 9,
   "metadata": {},
   "outputs": [
    {
     "name": "stdout",
     "output_type": "stream",
     "text": [
      "Enter a word: Prarmbhik\n",
      "Enter a number: 11\n",
      "  Prarmbhik\n"
     ]
    }
   ],
   "source": [
    "print(fixedCharWidth2(input(\"Enter a word: \"), int(input(\"Enter a number: \"))))"
   ]
  },
  {
   "cell_type": "markdown",
   "metadata": {},
   "source": [
    "## 2. Proper Name\n",
    "\n",
    "##### (Level: Medium)\n",
    "\n",
    "You are given the name of a person in small letters. You will need to capitalize just the first letter of each new word that is present in it.\n",
    "\n",
    "### Example\n",
    "\n",
    "For `properName(\"james bond\")`, you must return:\n",
    "\n",
    "`James Bond`\n",
    "\n",
    "<details>\n",
    "  <summary>Hint</summary>\n",
    " \n",
    "    Use the split() and upper() function for this, or dig deeper to find an even simpler method...\n",
    "</details>"
   ]
  },
  {
   "cell_type": "code",
   "execution_count": 10,
   "metadata": {
    "scrolled": true
   },
   "outputs": [],
   "source": [
    "def properName(name):\n",
    "    # put your code below this line ⇩\n",
    "    return name.title()\n",
    "# this method works for any number of words."
   ]
  },
  {
   "cell_type": "markdown",
   "metadata": {},
   "source": [
    "Run the following test cases, if your function is the correct one, you should see only `True` in the output of each line:"
   ]
  },
  {
   "cell_type": "code",
   "execution_count": 11,
   "metadata": {},
   "outputs": [
    {
     "name": "stdout",
     "output_type": "stream",
     "text": [
      "True\n",
      "True\n",
      "True\n",
      "True\n",
      "True\n"
     ]
    }
   ],
   "source": [
    "print(properName(\"james bond is agent 007\") == \"James Bond\")\n",
    "print(properName(\"isaac newton\") == \"Isaac Newton\")\n",
    "print(properName(\"ben tennyson\") == \"Ben Tennyson\")\n",
    "print(properName(\"nobita nobi\") == \"Nobita Nobi\")\n",
    "print(properName(\"uzumaki naruto\") == \"Uzumaki Naruto\")"
   ]
  },
  {
   "cell_type": "code",
   "execution_count": 13,
   "metadata": {},
   "outputs": [],
   "source": [
    "def properName(name):\n",
    "    # put your code below this line ⇩\n",
    "    t = name.split(\" \") # split(delimiter) splits the given string into parts wherever it finds an instance of delimiter\n",
    "    # [\"james\", \"bond\"] => t[0] = 'james', and t[1] = 'bond'\n",
    "    return t[0][0].upper()+t[0][1:] +\" \" + t[1][0].upper()+t[1][1:]\n",
    "# this works for all the test cases, and that's all that's needed, because all the test cases contain only 2 words.\n",
    "# However, if you wish to generalize it, you will need loops, which we will learn today."
   ]
  },
  {
   "cell_type": "code",
   "execution_count": 14,
   "metadata": {},
   "outputs": [
    {
     "name": "stdout",
     "output_type": "stream",
     "text": [
      "James Bond\n"
     ]
    }
   ],
   "source": [
    "print(properName(\"james bond is agent 007\"))"
   ]
  },
  {
   "cell_type": "markdown",
   "metadata": {},
   "source": [
    "## 3. Replacement Logic\n",
    "\n",
    "##### (Level: Medium)\n",
    "\n",
    "A few days ago, the Prakritik Committee was renamed the Bhaumik Society. As a result, they need to change their name in all their documents.\n",
    "\n",
    "Help them out, with your knowledge of Python!\n",
    "\n",
    "(if the name Committee is omitted, then omit the name Society as well, but if it is present, then you should change it as well)\n",
    "\n",
    "### Example\n",
    "\n",
    "For `praksToBhaums(\"Prakritik Committee Sangeet Dal\")`, the output should be:\n",
    "\n",
    "`Bhaumik Society Sangeet Dal`\n",
    "\n",
    "And, for `praksToBhaums(\"Prakritik Players Squad\")`, the output should be:\n",
    "\n",
    "`Bhaumik Players Squad`."
   ]
  },
  {
   "cell_type": "code",
   "execution_count": 8,
   "metadata": {},
   "outputs": [],
   "source": [
    "def praksToBhaums(oldName):\n",
    "    # put your code below this line ⇩\n",
    "    if \"Prakritik Committee\" in oldName:\n",
    "        newName = oldName.replace(\"Prakritik Committee\", \"Bhaumik Society\")\n",
    "    elif \"Prakritik\" in oldName and \"Committee\" not in oldName:\n",
    "        newName = oldName.replace(\"Prakritik\", \"Bhaumik\")\n",
    "    else:\n",
    "        newName = oldName\n",
    "    return newName"
   ]
  },
  {
   "cell_type": "markdown",
   "metadata": {},
   "source": [
    "Run the following test cases, if your function is the correct one, you should see only True in the output of each line:"
   ]
  },
  {
   "cell_type": "code",
   "execution_count": 9,
   "metadata": {},
   "outputs": [
    {
     "name": "stdout",
     "output_type": "stream",
     "text": [
      "True\n",
      "True\n",
      "True\n"
     ]
    }
   ],
   "source": [
    "print(praksToBhaums(\"Prakritik Committee Sangeet Dal\")==\"Bhaumik Society Sangeet Dal\")\n",
    "print(praksToBhaums(\"Prakritik Players Squad\")==\"Bhaumik Players Squad\")\n",
    "print(praksToBhaums(\"Maroon 5 Fans\")==\"Maroon 5 Fans\")"
   ]
  },
  {
   "cell_type": "code",
   "execution_count": null,
   "metadata": {},
   "outputs": [],
   "source": [
    "# good practices\n",
    "\n",
    "def praksToBhaums(oldName):\n",
    "    # put your code below this line ⇩\n",
    "    newName= (oldName.replace(\"Prakritik\",\"Bhaumik\")).replace(\"Committee\",\"Society\")\n",
    "    return newName\n",
    "\n",
    "def properName(name):\n",
    "    # put your code below this line ⇩\n",
    "    return(name.split(\" \")[0].capitalize()+\" \"+name.split(\" \")[1].capitalize())"
   ]
  }
 ],
 "metadata": {
  "kernelspec": {
   "display_name": "Python 3",
   "language": "python",
   "name": "python3"
  },
  "language_info": {
   "codemirror_mode": {
    "name": "ipython",
    "version": 3
   },
   "file_extension": ".py",
   "mimetype": "text/x-python",
   "name": "python",
   "nbconvert_exporter": "python",
   "pygments_lexer": "ipython3",
   "version": "3.7.6"
  }
 },
 "nbformat": 4,
 "nbformat_minor": 2
}
