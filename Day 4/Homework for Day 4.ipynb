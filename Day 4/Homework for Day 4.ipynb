{
 "cells": [
  {
   "cell_type": "markdown",
   "metadata": {},
   "source": [
    "# 1. Correct the following code according to the directions given:"
   ]
  },
  {
   "cell_type": "markdown",
   "metadata": {},
   "source": [
    "## a) This code should take an input and not just simply print enter your name... Please correct this code and make it do the right thing."
   ]
  },
  {
   "cell_type": "code",
   "execution_count": null,
   "metadata": {},
   "outputs": [],
   "source": [
    "print(\"Please enter your name: \")\n",
    "print(nm)"
   ]
  },
  {
   "cell_type": "markdown",
   "metadata": {},
   "source": [
    "## b) The next code should not give any errors. Do something to stop that from happening:\n",
    "\n",
    "(You can correct the code without adding anything extra, or you can add something that will take care of it)"
   ]
  },
  {
   "cell_type": "code",
   "execution_count": null,
   "metadata": {},
   "outputs": [],
   "source": [
    "print(\"¡Hola mi amigo! ¿Cuál es tu nombre?\")\n",
    "    print(\"¡Hola! Mi nombre es Abhigyan\")\n",
    "print(\"See? It's that easy!\")"
   ]
  },
  {
   "cell_type": "markdown",
   "metadata": {},
   "source": [
    "## c) Correct the syntax of all the statements below"
   ]
  },
  {
   "cell_type": "code",
   "execution_count": null,
   "metadata": {},
   "outputs": [],
   "source": [
    "print \"I'm a Python 2 code to find the area of a rectangle\"\n",
    "\n",
    "y = 10\n",
    "x += 5\n",
    "\n",
    "area = lambda x:y: x*y\n",
    "\n",
    "print(area(x,y))\n",
    "\n",
    "s = \"Helloworld!\"\n",
    "\n",
    "print(s[1,5,2])\n",
    "\n",
    "# the code below should print the elements in string 's'\n",
    "def FastForward(s,n):\n",
    "    print(\"s[::n]\")\n",
    "    \n",
    "FastForward(\"¡Hola!\",1)"
   ]
  },
  {
   "cell_type": "markdown",
   "metadata": {},
   "source": [
    "<details>\n",
    "  <summary>Hint</summary>\n",
    "  \n",
    "  Maybe try changing the commas and colons, and remove the plus in x+=5, also, try to remove the double quotes in the print under the function\n",
    "</details>    "
   ]
  },
  {
   "cell_type": "markdown",
   "metadata": {},
   "source": [
    "# 2. Predict the output of the following codes before running them:\n",
    "\n",
    "(I have no way of checking if you were honest with yourself in these ones, so I'm trusting all of you on this one... Don't make me regret it ;) )"
   ]
  },
  {
   "cell_type": "markdown",
   "metadata": {},
   "source": [
    "a)"
   ]
  },
  {
   "cell_type": "code",
   "execution_count": null,
   "metadata": {},
   "outputs": [],
   "source": [
    "s = \"¡Hola Mundo!\"\n",
    "print(s[::4])"
   ]
  },
  {
   "cell_type": "markdown",
   "metadata": {},
   "source": [
    "b)"
   ]
  },
  {
   "cell_type": "code",
   "execution_count": null,
   "metadata": {},
   "outputs": [],
   "source": [
    "q = \"Estoy disfrutando Python!\"\n",
    "\n",
    "for i in q:\n",
    "    print(i)"
   ]
  },
  {
   "cell_type": "markdown",
   "metadata": {},
   "source": [
    "c)"
   ]
  },
  {
   "cell_type": "code",
   "execution_count": null,
   "metadata": {},
   "outputs": [],
   "source": [
    "sentence = [\"Hi\", \"we\", \"have\", \"completed\", 5, \"days\", \"of\", \"these\", \"Python\", \"classes\"]\n",
    "print(type(sentence))\n",
    "\n",
    "for word in sentence:\n",
    "    print(word)\n",
    "    print(type(word))\n",
    "\n",
    "for word in sentence:\n",
    "    if isinstance(word, str): # the `isinstance` function just checks if the variable (here `word`)\n",
    "                              # is of the specified class/type (here `str`)\n",
    "        for letter in word:\n",
    "            print(letter)"
   ]
  },
  {
   "cell_type": "markdown",
   "metadata": {},
   "source": [
    "d)"
   ]
  },
  {
   "cell_type": "code",
   "execution_count": null,
   "metadata": {},
   "outputs": [],
   "source": [
    "walkerList = {\"All falls Down\":2017, \"Faded\":2015, \"Alone Pt 2\":2020, \"Sing me to Sleep\":2016, \"Alone\":2016, \"Tired\":2017}\n",
    "print(type(walkerList))\n",
    "\n",
    "for i in walkerList: #turns out dicts are iterable too! I just got to know! \n",
    "    #I don't dicts much because normally lists serve most needs in everyday code, and I feel you will do the same eventually.\n",
    "    #Generally, dicts and tuples are some of the most underused data types, but they're definitely useful in their own ways...\n",
    "    print(i)\n",
    "    print(type(i))\n",
    "    print(walkerList[i])\n",
    "    print(type(walkerList[i]))"
   ]
  },
  {
   "cell_type": "markdown",
   "metadata": {},
   "source": [
    "# 3. Code Questions"
   ]
  },
  {
   "cell_type": "markdown",
   "metadata": {},
   "source": [
    "## a) Create a simple calculator with your new knowledge of loops\n",
    "\n",
    "Ask the user for which operation they want to use (all the options should be displayed clearly)\n",
    "\n",
    "Example menu:\n",
    "```\n",
    "Which operation would you like to perform next?\n",
    "1. Add (+)\n",
    "2. Subtract (-)\n",
    "3. Multiply (*)\n",
    "4. Divide (normally) (/)\n",
    "5. Integer Division (//)\n",
    "6. Exponentiation (**)\n",
    "```\n",
    "Now, depending on which number the user presses (1 for Add, 3 for Multiply, and so on...), you should perform the given operation and display the result on the screen, and then ask the user if he wants to perform another calculation. If yes, then display the menu again, else, exit the loop.\n",
    "\n",
    "Take care of invalid inputs too...\n",
    "\n",
    "### Example interaction (very important, read the whole thing):\n",
    "\n",
    "```\n",
    "Which operation would you like to perform next?\n",
    "1. Add (+)\n",
    "2. Subtract (-)\n",
    "3. Multiply (*)\n",
    "4. Divide (normally) (/)\n",
    "5. Integer Division (//)\n",
    "6. Exponentiation (**)\n",
    "\n",
    "Enter your choice: 1\n",
    "Enter first value: 12\n",
    "Enter second value: 23\n",
    "x+y = 35.0\n",
    "Do you want to perform another calculation? (Enter y/n): yeah\n",
    "Please enter a valid option...\n",
    "Do you want to perform another calculation? (Enter y/n): no\n",
    "Please enter a valid option...\n",
    "Do you want to perform another calculation? (Enter y/n): y\n",
    "Starting next round...\n",
    "Which operation would you like to perform next?\n",
    "1. Add (+)\n",
    "2. Subtract (-)\n",
    "3. Multiply (*)\n",
    "4. Divide (normally) (/)\n",
    "5. Integer Division (//)\n",
    "6. Exponentiation (**)\n",
    "\n",
    "Enter your choice: 2\n",
    "Enter first value: 45\n",
    "Enter second value: 23\n",
    "x-y = 22.0\n",
    "Do you want to perform another calculation? (Enter y/n): y\n",
    "Starting next round...\n",
    "Which operation would you like to perform next?\n",
    "1. Add (+)\n",
    "2. Subtract (-)\n",
    "3. Multiply (*)\n",
    "4. Divide (normally) (/)\n",
    "5. Integer Division (//)\n",
    "6. Exponentiation (**)\n",
    "\n",
    "Enter your choice: 3\n",
    "Enter first value: 34\n",
    "Enter second value: 2\n",
    "x*y = 68.0\n",
    "Do you want to perform another calculation? (Enter y/n): y\n",
    "Starting next round...\n",
    "Which operation would you like to perform next?\n",
    "1. Add (+)\n",
    "2. Subtract (-)\n",
    "3. Multiply (*)\n",
    "4. Divide (normally) (/)\n",
    "5. Integer Division (//)\n",
    "6. Exponentiation (**)\n",
    "\n",
    "Enter your choice: 4\n",
    "Enter first value: 12\n",
    "Enter second value: 6\n",
    "x/y = 2.0\n",
    "Do you want to perform another calculation? (Enter y/n): y\n",
    "Starting next round...\n",
    "Which operation would you like to perform next?\n",
    "1. Add (+)\n",
    "2. Subtract (-)\n",
    "3. Multiply (*)\n",
    "4. Divide (normally) (/)\n",
    "5. Integer Division (//)\n",
    "6. Exponentiation (**)\n",
    "\n",
    "Enter your choice: 5\n",
    "Enter first value: 12\n",
    "Enter second value: 6\n",
    "x//y = 2.0\n",
    "Do you want to perform another calculation? (Enter y/n): y\n",
    "Starting next round...\n",
    "Which operation would you like to perform next?\n",
    "1. Add (+)\n",
    "2. Subtract (-)\n",
    "3. Multiply (*)\n",
    "4. Divide (normally) (/)\n",
    "5. Integer Division (//)\n",
    "6. Exponentiation (**)\n",
    "\n",
    "Enter your choice: 6\n",
    "Enter first value: 2.718\n",
    "Enter second value: 4\n",
    "x**y = 54.575510850575995\n",
    "Do you want to perform another calculation? (Enter y/n): y\n",
    "Starting next round...\n",
    "Which operation would you like to perform next?\n",
    "1. Add (+)\n",
    "2. Subtract (-)\n",
    "3. Multiply (*)\n",
    "4. Divide (normally) (/)\n",
    "5. Integer Division (//)\n",
    "6. Exponentiation (**)\n",
    "\n",
    "Enter your choice: 100\n",
    "Please enter a valid number (1, 2, 3, 4, 5 or 6)\n",
    "Which operation would you like to perform next?\n",
    "1. Add (+)\n",
    "2. Subtract (-)\n",
    "3. Multiply (*)\n",
    "4. Divide (normally) (/)\n",
    "5. Integer Division (//)\n",
    "6. Exponentiation (**)\n",
    "\n",
    "Enter your choice: 1\n",
    "Enter first value: 9000\n",
    "Enter second value: 90\n",
    "x+y = 9090.0\n",
    "Do you want to perform another calculation? (Enter y/n): n\n",
    "Exiting the loop\n",
    "```"
   ]
  },
  {
   "cell_type": "code",
   "execution_count": null,
   "metadata": {},
   "outputs": [],
   "source": [
    "# Enter your code here\n"
   ]
  },
  {
   "cell_type": "markdown",
   "metadata": {},
   "source": [
    "## b) Create a better billing system for PlusPoint Hypermarket\n",
    "\n",
    "Ask the user for entering an item repeatedly\n",
    "\n",
    "Come up with your own pricing mechanisms :)\n",
    "\n",
    "You could even ask the user to enter the price they want, but then they could just enter 0 for everything... Not ideal for a real supermarket huh?\n",
    "\n",
    "I just want to see how you would do the pricing part, there's no penalty for allowing the user to enter their own prices, but if you have a better idea, then please do show me!\n",
    "\n",
    "### Example interaction (very important, read the whole thing):\n",
    "\n",
    "<pre>\n",
    "Enter the number of items you want to buy: 4\n",
    "Enter an Item name: Lays Indian Masala Flavour\n",
    "Enter the Cost: 20\n",
    "Enter the Quantity you wish to purchase: 2\n",
    "Enter an Item name: Pepsi 600ml\n",
    "Enter the Cost: 80\n",
    "Enter the Quantity you wish to purchase: 2\n",
    "Enter an Item name: Tissue Papers\n",
    "Enter the Cost: 0\n",
    "Enter the Quantity you wish to purchase: 50\n",
    "Please enter a more realistic price and quantity ;)\n",
    "Enter an Item name: Tissue Papers\n",
    "Enter the Cost: 2000000000\n",
    "Enter the Quantity you wish to purchase: 50\n",
    "Please enter a more realistic price ;)\n",
    "Enter an Item name: Tissue Papers\n",
    "Enter the Cost: 50\n",
    "Enter the Quantity you wish to purchase: 50\n",
    "Enter an Item name: Maida 1kg\n",
    "Enter the Cost: 40\n",
    "Enter the Quantity you wish to purchase: 3\n",
    "\n",
    "\t\t\t\tPlus Point Hypermarket\n",
    "                \n",
    "| Name                  | Cost      | Quantity  | Total          |\n",
    " ________________________________________________________________\n",
    "| Lays Indian Ma        | 20.0      | 2         | 40.0           |\n",
    "| Pepsi 600ml           | 80.0      | 2         | 160.0          |\n",
    "| Tissue Papers         | 50.0      | 50        | 2500.0         |\n",
    "| Maida 1kg             | 40.0      | 3         | 120.0          |\n",
    "</pre>"
   ]
  },
  {
   "cell_type": "code",
   "execution_count": null,
   "metadata": {},
   "outputs": [],
   "source": [
    "# Enter your code here\n"
   ]
  }
 ],
 "metadata": {
  "kernelspec": {
   "display_name": "Python 3",
   "language": "python",
   "name": "python3"
  },
  "language_info": {
   "codemirror_mode": {
    "name": "ipython",
    "version": 3
   },
   "file_extension": ".py",
   "mimetype": "text/x-python",
   "name": "python",
   "nbconvert_exporter": "python",
   "pygments_lexer": "ipython3",
   "version": "3.7.6"
  }
 },
 "nbformat": 4,
 "nbformat_minor": 4
}
