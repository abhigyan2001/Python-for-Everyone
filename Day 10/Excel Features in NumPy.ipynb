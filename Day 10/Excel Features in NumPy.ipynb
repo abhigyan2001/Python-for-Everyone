{
 "cells": [
  {
   "cell_type": "markdown",
   "metadata": {},
   "source": [
    "# Common Excel tasks demonstrated in NumPy"
   ]
  },
  {
   "cell_type": "code",
   "execution_count": 1,
   "metadata": {},
   "outputs": [],
   "source": [
    "import numpy as np"
   ]
  },
  {
   "cell_type": "markdown",
   "metadata": {},
   "source": [
    "## Mean of a list/array:"
   ]
  },
  {
   "cell_type": "code",
   "execution_count": 2,
   "metadata": {},
   "outputs": [
    {
     "name": "stdout",
     "output_type": "stream",
     "text": [
      "500.5\n"
     ]
    }
   ],
   "source": [
    "x = np.arange(1,1001)\n",
    "print(np.mean(x))"
   ]
  },
  {
   "cell_type": "markdown",
   "metadata": {},
   "source": [
    "## Sum of a list/array:"
   ]
  },
  {
   "cell_type": "code",
   "execution_count": 3,
   "metadata": {},
   "outputs": [
    {
     "name": "stdout",
     "output_type": "stream",
     "text": [
      "4950\n"
     ]
    }
   ],
   "source": [
    "npsum = np.sum(np.arange(1,100))\n",
    "print(npsum)"
   ]
  },
  {
   "cell_type": "markdown",
   "metadata": {},
   "source": [
    "## Rounding off all elements of a list/array:"
   ]
  },
  {
   "cell_type": "code",
   "execution_count": 4,
   "metadata": {},
   "outputs": [
    {
     "name": "stdout",
     "output_type": "stream",
     "text": [
      "Before rounding:\n",
      " [[12.9952399  10.55737258 19.18578246]\n",
      " [16.89150082 10.70374339 15.17674215]\n",
      " [17.7017954  17.79360967 16.41009571]]\n",
      "\n",
      "Nearest integer:\n",
      " [[13. 11. 19.]\n",
      " [17. 11. 15.]\n",
      " [18. 18. 16.]]\n",
      "\n",
      "3 decimal points:\n",
      " [[12.995 10.557 19.186]\n",
      " [16.892 10.704 15.177]\n",
      " [17.702 17.794 16.41 ]]\n",
      "\n",
      "Nearest 10s:\n",
      " [[10. 10. 20.]\n",
      " [20. 10. 20.]\n",
      " [20. 20. 20.]]\n"
     ]
    }
   ],
   "source": [
    "unrounded = np.random.uniform(10,20,[3,3])\n",
    "print(\"Before rounding:\\n\",unrounded)\n",
    "\n",
    "# rounding it to the nearest integer\n",
    "roundedint = np.around(unrounded)\n",
    "print(\"\\nNearest integer:\\n\",roundedint)\n",
    "\n",
    "# rounding it off to 3 decimal points:\n",
    "rounded3dp = np.around(unrounded, decimals = 3)\n",
    "print(\"\\n3 decimal points:\\n\",rounded3dp)\n",
    "\n",
    "# rounding it off to nearest 10s:\n",
    "rounded10s = np.around(unrounded, decimals = -1)\n",
    "print(\"\\nNearest 10s:\\n\",rounded10s)"
   ]
  },
  {
   "cell_type": "markdown",
   "metadata": {},
   "source": [
    "## Generating random data (floating point values):\n",
    "\n",
    "### 1. Generating random data according to required dimensions: \n",
    "\n",
    "`np.random.rand(d0,d1,...,dn)`\n",
    "\n",
    "<sub>The dimensions are represented as d0, d1, d2... till dn, we can have as many dimensions as we want</sub>"
   ]
  },
  {
   "cell_type": "code",
   "execution_count": 5,
   "metadata": {},
   "outputs": [
    {
     "name": "stdout",
     "output_type": "stream",
     "text": [
      "[[[0.19512557 0.79023975 0.41637689 0.55327087]\n",
      "  [0.61091747 0.41512634 0.60482207 0.91526135]\n",
      "  [0.55413882 0.18982628 0.56261327 0.76621825]]\n",
      "\n",
      " [[0.43174439 0.68229849 0.36019239 0.69302464]\n",
      "  [0.09338781 0.6424747  0.37738869 0.71534625]\n",
      "  [0.06558965 0.60220068 0.53581662 0.73774429]]]\n"
     ]
    }
   ],
   "source": [
    "x = np.random.rand(2,3,4) #since we specified 3 numbers, the array produced will be 3-dimensional\n",
    "print(x)"
   ]
  },
  {
   "cell_type": "code",
   "execution_count": 6,
   "metadata": {},
   "outputs": [
    {
     "name": "stdout",
     "output_type": "stream",
     "text": [
      "[[[[0.90997892 0.37497747]\n",
      "   [0.16848162 0.36186025]]\n",
      "\n",
      "  [[0.20581691 0.01776121]\n",
      "   [0.93013559 0.62603002]]]\n",
      "\n",
      "\n",
      " [[[0.68246436 0.11797568]\n",
      "   [0.69325955 0.78287718]]\n",
      "\n",
      "  [[0.7056686  0.30346444]\n",
      "   [0.61357739 0.73141731]]]]\n"
     ]
    }
   ],
   "source": [
    "y = np.random.rand(2,2,2,2) # now you will see a 4-dimesional array:\n",
    "print(y)"
   ]
  },
  {
   "cell_type": "markdown",
   "metadata": {},
   "source": [
    "### 2. Sampling random data from a **normal distribution** according to required dimensions: \n",
    "\n",
    "`np.random.randn(d0,d1,...,dn)`"
   ]
  },
  {
   "cell_type": "code",
   "execution_count": 7,
   "metadata": {},
   "outputs": [
    {
     "name": "stdout",
     "output_type": "stream",
     "text": [
      "[[-2.94122512e-01 -9.92312532e-01  2.55492974e-01 -1.57450530e+00]\n",
      " [-3.16507764e-01 -1.28064444e+00 -2.08129294e-01 -3.42077988e-01]\n",
      " [-4.96958026e-01  1.59949880e+00 -7.42711134e-02  6.25542708e-01]\n",
      " [-4.45861522e-01  1.56017706e+00 -6.04815782e-01  2.58192050e-01]\n",
      " [-4.20462689e-01  1.06142680e+00 -1.73619624e+00  1.42941130e-03]]\n",
      "-0.17125526956676176\n"
     ]
    }
   ],
   "source": [
    "z = np.random.randn(5,4)\n",
    "print(z)\n",
    "\n",
    "print(np.mean(z))"
   ]
  },
  {
   "cell_type": "markdown",
   "metadata": {},
   "source": [
    "### 3. Generate random integers from low (inclusive) to high (exclusive): \n",
    "\n",
    "`np.randint(low[, high, size, dtype])` \n",
    "\n",
    "<sub>(the parameters in square brackets are optional)</sub>\n",
    "\n",
    "According to the [official numpy documentation](https://docs.scipy.org/doc/numpy-1.15.0/reference/generated/numpy.random.randint.html):\n",
    "\n",
    "Return random integers from the “discrete uniform” distribution of the specified dtype in the “half-open” interval \\[low, high). If high is None (the default), then results are from \\[0, low)."
   ]
  },
  {
   "cell_type": "code",
   "execution_count": 8,
   "metadata": {},
   "outputs": [
    {
     "name": "stdout",
     "output_type": "stream",
     "text": [
      "153\n"
     ]
    }
   ],
   "source": [
    "w = np.random.randint(256)\n",
    "print(w)"
   ]
  },
  {
   "cell_type": "code",
   "execution_count": 9,
   "metadata": {},
   "outputs": [
    {
     "name": "stdout",
     "output_type": "stream",
     "text": [
      "240\n"
     ]
    }
   ],
   "source": [
    "v = np.random.randint(128,256) #returns a single int between 128 and 256 (256 excluded)\n",
    "print(v)"
   ]
  },
  {
   "cell_type": "code",
   "execution_count": 10,
   "metadata": {},
   "outputs": [
    {
     "name": "stdout",
     "output_type": "stream",
     "text": [
      "[[[162 169 245 220]\n",
      "  [200 238 129 143]\n",
      "  [210 166 246 238]]\n",
      "\n",
      " [[143 243 198 239]\n",
      "  [128 206 179 216]\n",
      "  [255 227 227 240]]\n",
      "\n",
      " [[183 129 226 147]\n",
      "  [201 199 173 186]\n",
      "  [161 180 197 161]]\n",
      "\n",
      " [[222 186 222 233]\n",
      "  [179 201 147 151]\n",
      "  [212 196 130 228]]\n",
      "\n",
      " [[238 159 179 140]\n",
      "  [199 252 173 163]\n",
      "  [232 171 199 129]]\n",
      "\n",
      " [[213 142 185 135]\n",
      "  [137 204 145 228]\n",
      "  [143 219 172 252]]\n",
      "\n",
      " [[225 228 175 131]\n",
      "  [232 180 135 235]\n",
      "  [139 235 189 243]]\n",
      "\n",
      " [[211 187 234 248]\n",
      "  [236 168 182 195]\n",
      "  [155 240 145 242]]\n",
      "\n",
      " [[159 151 168 171]\n",
      "  [133 213 133 232]\n",
      "  [197 172 141 233]]\n",
      "\n",
      " [[169 233 216 251]\n",
      "  [134 236 172 165]\n",
      "  [225 238 214 129]]\n",
      "\n",
      " [[225 215 215 145]\n",
      "  [173 171 221 247]\n",
      "  [253 221 183 186]]\n",
      "\n",
      " [[147 214 202 145]\n",
      "  [226 201 131 185]\n",
      "  [179 196 155 242]]]\n"
     ]
    }
   ],
   "source": [
    "u = np.random.randint(128,256,size = [12,3,4]) # returns a 12*3*4 3D array populated with numbers from 128 to 256 (256 excluded)\n",
    "\n",
    "# this is the same as writing np.random.randint(128,256,[12,3,4]) or np.random.randint(128,256,(12,3,4))\n",
    "# We normally write `size = [...]` so as to make it clear to the user what we are trying to achieve. \n",
    "# We may even write `low=128, high=256` and so on if we want to, but that's up to us if we want the code to be even more clear.\n",
    "print(u)"
   ]
  },
  {
   "cell_type": "markdown",
   "metadata": {},
   "source": [
    "The `dtype` is basically the data type. You may be wondering, if we are already using `int`, then what is the use of a data type?\n",
    "\n",
    "The thing is, numpy actually has a lot more data types (int32, int64, and long int, etc.) which are more exact representations of int in the memory. This option enables us to choose this, but it is not used generally, unless we have a very low memory budget."
   ]
  },
  {
   "cell_type": "markdown",
   "metadata": {},
   "source": [
    "### 3.1 Generate random integers of a fixed data type:\n",
    "\n",
    "`np.random.random_integers(low[, high, size])` => Same as the previous function except we can't choose the datatype, which is set to `np.int` by default.\n",
    "\n",
    "It is deprecated (i.e. no longer supported) in the latest version of numpy, which is why I get the warning below:"
   ]
  },
  {
   "cell_type": "code",
   "execution_count": 11,
   "metadata": {},
   "outputs": [
    {
     "name": "stderr",
     "output_type": "stream",
     "text": [
      "/home/abhigyan/anaconda3/lib/python3.7/site-packages/ipykernel_launcher.py:1: DeprecationWarning: This function is deprecated. Please call randint(0, 12 + 1) instead\n",
      "  \"\"\"Entry point for launching an IPython kernel.\n"
     ]
    }
   ],
   "source": [
    "t = np.random.random_integers(0,12,[3,4])"
   ]
  },
  {
   "cell_type": "markdown",
   "metadata": {},
   "source": [
    "### 4. Generate random floats in the half-open interval \\[0.0,1.0):\n",
    "\n",
    "<sub>Half open means that 0.0 is included but 1.0 is excluded</sub>\n",
    "\n",
    "`np.random.ranf([size])` or \n",
    "`np.random.random_sample([size])` or \n",
    "`np.random.random([size])` or \n",
    "`np.random.sample([size])`\n",
    "\n",
    "(This time, python provides 4 ways of achieving the exact same result... Kinda silly in my opinion, but maybe there's a deeper reason we don't understand yet)"
   ]
  },
  {
   "cell_type": "code",
   "execution_count": 12,
   "metadata": {},
   "outputs": [
    {
     "name": "stdout",
     "output_type": "stream",
     "text": [
      "0.3083429261932271\n",
      "[[0.19599775 0.37591648 0.39400465]\n",
      " [0.19062593 0.36517083 0.7660336 ]]\n",
      "[[0.95735662 0.25739196 0.53281486]\n",
      " [0.6116408  0.25729716 0.18546406]]\n",
      "[[0.35690429 0.96086701 0.16854734]\n",
      " [0.13814293 0.5566175  0.7557197 ]]\n"
     ]
    }
   ],
   "source": [
    "p = np.random.ranf() # if you skip the [size] parameter, then it just returns a single value. \n",
    "# Try it out in the other ones by yourself\n",
    "print(p)\n",
    "q = np.random.random([2,3])\n",
    "print(q)\n",
    "r = np.random.random_sample([2,3])\n",
    "print(r)\n",
    "s = np.random.sample([2,3])\n",
    "print(s)"
   ]
  },
  {
   "cell_type": "markdown",
   "metadata": {},
   "source": [
    "### 5. Generate random floats in a chosen interval:\n",
    "\n",
    "`np.random.uniform(start, stop, [size])`"
   ]
  },
  {
   "cell_type": "code",
   "execution_count": 13,
   "metadata": {},
   "outputs": [
    {
     "name": "stdout",
     "output_type": "stream",
     "text": [
      "[[92.06969948 98.56645669 28.74051742 98.37955603 51.82740969]\n",
      " [68.92030661 56.95085797 79.67224607  4.73077008 44.43947337]]\n"
     ]
    }
   ],
   "source": [
    "ubiquity = np.random.uniform(0,100, [2,5])\n",
    "print(ubiquity)"
   ]
  },
  {
   "cell_type": "markdown",
   "metadata": {},
   "source": [
    "### 6. Choose one number randomly from a list of numbers you enter yourself:\n",
    "\n",
    "`np.random.choice(a[, size, replace, p])`\n",
    "\n",
    "`a`: The array you want to choose values from. If you enter a single int `n`, then it will treat it as the array `arange(n)`.\n",
    "\n",
    "`size`: The shape of the output array\n",
    "\n",
    "`replace`: Whether you don't mind getting the same values again (if replace=True, you may get the same numbers more than once, else you will get each number only once)\n",
    "\n",
    "`p`: The probability associated with each element: So if you want one element to occur more often than the others, you basically use the `p` array. The size of the `p` array must be the same as that of the `a` array."
   ]
  },
  {
   "cell_type": "code",
   "execution_count": 14,
   "metadata": {},
   "outputs": [
    {
     "name": "stdout",
     "output_type": "stream",
     "text": [
      "6\n"
     ]
    }
   ],
   "source": [
    "l = np.random.choice(12)\n",
    "print(l) # it will choose a single number from the arange(0,12)"
   ]
  },
  {
   "cell_type": "code",
   "execution_count": 15,
   "metadata": {},
   "outputs": [
    {
     "name": "stdout",
     "output_type": "stream",
     "text": [
      "[[  1   0   0   0]\n",
      " [  1  12  12 123]]\n"
     ]
    }
   ],
   "source": [
    "m = np.random.choice([123,12,1,0],size = [2,4])\n",
    "print(m)"
   ]
  },
  {
   "cell_type": "code",
   "execution_count": 16,
   "metadata": {},
   "outputs": [
    {
     "name": "stdout",
     "output_type": "stream",
     "text": [
      "[['12' '0']\n",
      " ['12' '0']]\n",
      "[['Hi' '65']\n",
      " ['0' '1']]\n"
     ]
    }
   ],
   "source": [
    "n = np.random.choice([123,12,1,0,45,65,78,90.5,\"Hi\"],size=[2,2], replace=True)\n",
    "print(n)\n",
    "\n",
    "o = np.random.choice([123,12,1,0,45,65,78,90.5,\"Hi\"],size=[2,2], replace=False)\n",
    "print(o)"
   ]
  },
  {
   "cell_type": "markdown",
   "metadata": {},
   "source": [
    "### 7. Shuffle a sequence:\n",
    "\n",
    "`np.random.shuffle(X)`"
   ]
  },
  {
   "cell_type": "code",
   "execution_count": 17,
   "metadata": {},
   "outputs": [
    {
     "name": "stdout",
     "output_type": "stream",
     "text": [
      "[ 0  1  2  3  4  5  6  7  8  9 10 11 12 13 14 15 16 17 18 19]\n",
      "[ 9  8  4  5  3 12 15 14 13  2 19  6 18  1  0 16 11  7 10 17]\n"
     ]
    }
   ],
   "source": [
    "a = np.arange(20)\n",
    "print(a)\n",
    "np.random.shuffle(a)\n",
    "print(a)\n",
    "\n",
    "# You could use this to shuffle your music if you use it along with the ffmpeg library, definitely go check it out!"
   ]
  }
 ],
 "metadata": {
  "kernelspec": {
   "display_name": "Python 3",
   "language": "python",
   "name": "python3"
  },
  "language_info": {
   "codemirror_mode": {
    "name": "ipython",
    "version": 3
   },
   "file_extension": ".py",
   "mimetype": "text/x-python",
   "name": "python",
   "nbconvert_exporter": "python",
   "pygments_lexer": "ipython3",
   "version": "3.7.6"
  }
 },
 "nbformat": 4,
 "nbformat_minor": 4
}
